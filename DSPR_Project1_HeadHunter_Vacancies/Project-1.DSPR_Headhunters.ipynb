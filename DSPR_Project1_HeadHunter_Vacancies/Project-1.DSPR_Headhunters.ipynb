{
 "cells": [
  {
   "cell_type": "markdown",
   "id": "42289889-bd57-434e-9637-d3e354756316",
   "metadata": {},
   "source": [
    "<center> <img src = https://raw.githubusercontent.com/AndreyRysistov/DatasetsForPandas/main/hh%20label.jpg alt=\"drawing\" style=\"width:400px;\">"
   ]
  },
  {
   "cell_type": "markdown",
   "id": "829cb75b-f14e-4ba8-9195-7ba929a7d656",
   "metadata": {
    "tags": []
   },
   "source": [
    "# <center> Проект: Анализ резюме из HeadHunter\n",
    "   "
   ]
  },
  {
   "cell_type": "code",
   "execution_count": 1,
   "id": "dccfde33-2452-43fb-a8a5-5c6ebc02a71d",
   "metadata": {},
   "outputs": [
    {
     "ename": "KeyboardInterrupt",
     "evalue": "",
     "output_type": "error",
     "traceback": [
      "\u001b[0;31m---------------------------------------------------------------------------\u001b[0m",
      "\u001b[0;31mKeyboardInterrupt\u001b[0m                         Traceback (most recent call last)",
      "Cell \u001b[0;32mIn[1], line 4\u001b[0m\n\u001b[1;32m      2\u001b[0m \u001b[39mimport\u001b[39;00m \u001b[39mnumpy\u001b[39;00m \u001b[39mas\u001b[39;00m \u001b[39mnp\u001b[39;00m\n\u001b[1;32m      3\u001b[0m \u001b[39mimport\u001b[39;00m \u001b[39mmatplotlib\u001b[39;00m\u001b[39m.\u001b[39;00m\u001b[39mpyplot\u001b[39;00m \u001b[39mas\u001b[39;00m \u001b[39mplt\u001b[39;00m\n\u001b[0;32m----> 4\u001b[0m \u001b[39mimport\u001b[39;00m \u001b[39mseaborn\u001b[39;00m \u001b[39mas\u001b[39;00m \u001b[39msns\u001b[39;00m\n\u001b[1;32m      5\u001b[0m \u001b[39mimport\u001b[39;00m \u001b[39mplotly\u001b[39;00m\u001b[39m.\u001b[39;00m\u001b[39mexpress\u001b[39;00m \u001b[39mas\u001b[39;00m \u001b[39mpx\u001b[39;00m\n",
      "File \u001b[0;32m/Library/Frameworks/Python.framework/Versions/3.11/lib/python3.11/site-packages/seaborn/__init__.py:5\u001b[0m\n\u001b[1;32m      3\u001b[0m \u001b[39mfrom\u001b[39;00m \u001b[39m.\u001b[39;00m\u001b[39mutils\u001b[39;00m \u001b[39mimport\u001b[39;00m \u001b[39m*\u001b[39m  \u001b[39m# noqa: F401,F403\u001b[39;00m\n\u001b[1;32m      4\u001b[0m \u001b[39mfrom\u001b[39;00m \u001b[39m.\u001b[39;00m\u001b[39mpalettes\u001b[39;00m \u001b[39mimport\u001b[39;00m \u001b[39m*\u001b[39m  \u001b[39m# noqa: F401,F403\u001b[39;00m\n\u001b[0;32m----> 5\u001b[0m \u001b[39mfrom\u001b[39;00m \u001b[39m.\u001b[39;00m\u001b[39mrelational\u001b[39;00m \u001b[39mimport\u001b[39;00m \u001b[39m*\u001b[39m  \u001b[39m# noqa: F401,F403\u001b[39;00m\n\u001b[1;32m      6\u001b[0m \u001b[39mfrom\u001b[39;00m \u001b[39m.\u001b[39;00m\u001b[39mregression\u001b[39;00m \u001b[39mimport\u001b[39;00m \u001b[39m*\u001b[39m  \u001b[39m# noqa: F401,F403\u001b[39;00m\n\u001b[1;32m      7\u001b[0m \u001b[39mfrom\u001b[39;00m \u001b[39m.\u001b[39;00m\u001b[39mcategorical\u001b[39;00m \u001b[39mimport\u001b[39;00m \u001b[39m*\u001b[39m  \u001b[39m# noqa: F401,F403\u001b[39;00m\n",
      "File \u001b[0;32m/Library/Frameworks/Python.framework/Versions/3.11/lib/python3.11/site-packages/seaborn/relational.py:17\u001b[0m\n\u001b[1;32m      8\u001b[0m \u001b[39mfrom\u001b[39;00m \u001b[39m.\u001b[39;00m\u001b[39m_oldcore\u001b[39;00m \u001b[39mimport\u001b[39;00m (\n\u001b[1;32m      9\u001b[0m     VectorPlotter,\n\u001b[1;32m     10\u001b[0m )\n\u001b[1;32m     11\u001b[0m \u001b[39mfrom\u001b[39;00m \u001b[39m.\u001b[39;00m\u001b[39mutils\u001b[39;00m \u001b[39mimport\u001b[39;00m (\n\u001b[1;32m     12\u001b[0m     locator_to_legend_entries,\n\u001b[1;32m     13\u001b[0m     adjust_legend_subtitles,\n\u001b[1;32m     14\u001b[0m     _default_color,\n\u001b[1;32m     15\u001b[0m     _deprecate_ci,\n\u001b[1;32m     16\u001b[0m )\n\u001b[0;32m---> 17\u001b[0m \u001b[39mfrom\u001b[39;00m \u001b[39m.\u001b[39;00m\u001b[39m_statistics\u001b[39;00m \u001b[39mimport\u001b[39;00m EstimateAggregator\n\u001b[1;32m     18\u001b[0m \u001b[39mfrom\u001b[39;00m \u001b[39m.\u001b[39;00m\u001b[39maxisgrid\u001b[39;00m \u001b[39mimport\u001b[39;00m FacetGrid, _facet_docs\n\u001b[1;32m     19\u001b[0m \u001b[39mfrom\u001b[39;00m \u001b[39m.\u001b[39;00m\u001b[39m_docstrings\u001b[39;00m \u001b[39mimport\u001b[39;00m DocstringComponents, _core_docs\n",
      "File \u001b[0;32m/Library/Frameworks/Python.framework/Versions/3.11/lib/python3.11/site-packages/seaborn/_statistics.py:31\u001b[0m\n\u001b[1;32m     29\u001b[0m \u001b[39mimport\u001b[39;00m \u001b[39mpandas\u001b[39;00m \u001b[39mas\u001b[39;00m \u001b[39mpd\u001b[39;00m\n\u001b[1;32m     30\u001b[0m \u001b[39mtry\u001b[39;00m:\n\u001b[0;32m---> 31\u001b[0m     \u001b[39mfrom\u001b[39;00m \u001b[39mscipy\u001b[39;00m\u001b[39m.\u001b[39;00m\u001b[39mstats\u001b[39;00m \u001b[39mimport\u001b[39;00m gaussian_kde\n\u001b[1;32m     32\u001b[0m     _no_scipy \u001b[39m=\u001b[39m \u001b[39mFalse\u001b[39;00m\n\u001b[1;32m     33\u001b[0m \u001b[39mexcept\u001b[39;00m \u001b[39mImportError\u001b[39;00m:\n",
      "File \u001b[0;32m/Library/Frameworks/Python.framework/Versions/3.11/lib/python3.11/site-packages/scipy/stats/__init__.py:485\u001b[0m\n\u001b[1;32m      1\u001b[0m \u001b[39m\"\"\"\u001b[39;00m\n\u001b[1;32m      2\u001b[0m \u001b[39m.. _statsrefmanual:\u001b[39;00m\n\u001b[1;32m      3\u001b[0m \n\u001b[0;32m   (...)\u001b[0m\n\u001b[1;32m    480\u001b[0m \n\u001b[1;32m    481\u001b[0m \u001b[39m\"\"\"\u001b[39;00m\n\u001b[1;32m    483\u001b[0m \u001b[39mfrom\u001b[39;00m \u001b[39m.\u001b[39;00m\u001b[39m_warnings_errors\u001b[39;00m \u001b[39mimport\u001b[39;00m (ConstantInputWarning, NearConstantInputWarning,\n\u001b[1;32m    484\u001b[0m                                DegenerateDataWarning, FitError)\n\u001b[0;32m--> 485\u001b[0m \u001b[39mfrom\u001b[39;00m \u001b[39m.\u001b[39;00m\u001b[39m_stats_py\u001b[39;00m \u001b[39mimport\u001b[39;00m \u001b[39m*\u001b[39m\n\u001b[1;32m    486\u001b[0m \u001b[39mfrom\u001b[39;00m \u001b[39m.\u001b[39;00m\u001b[39m_variation\u001b[39;00m \u001b[39mimport\u001b[39;00m variation\n\u001b[1;32m    487\u001b[0m \u001b[39mfrom\u001b[39;00m \u001b[39m.\u001b[39;00m\u001b[39mdistributions\u001b[39;00m \u001b[39mimport\u001b[39;00m \u001b[39m*\u001b[39m\n",
      "File \u001b[0;32m/Library/Frameworks/Python.framework/Versions/3.11/lib/python3.11/site-packages/scipy/stats/_stats_py.py:46\u001b[0m\n\u001b[1;32m     44\u001b[0m \u001b[39mimport\u001b[39;00m \u001b[39mscipy\u001b[39;00m\u001b[39m.\u001b[39;00m\u001b[39mspecial\u001b[39;00m \u001b[39mas\u001b[39;00m \u001b[39mspecial\u001b[39;00m\n\u001b[1;32m     45\u001b[0m \u001b[39mfrom\u001b[39;00m \u001b[39mscipy\u001b[39;00m \u001b[39mimport\u001b[39;00m linalg\n\u001b[0;32m---> 46\u001b[0m \u001b[39mfrom\u001b[39;00m \u001b[39m.\u001b[39;00m \u001b[39mimport\u001b[39;00m distributions\n\u001b[1;32m     47\u001b[0m \u001b[39mfrom\u001b[39;00m \u001b[39m.\u001b[39;00m \u001b[39mimport\u001b[39;00m _mstats_basic \u001b[39mas\u001b[39;00m mstats_basic\n\u001b[1;32m     48\u001b[0m \u001b[39mfrom\u001b[39;00m \u001b[39m.\u001b[39;00m\u001b[39m_stats_mstats_common\u001b[39;00m \u001b[39mimport\u001b[39;00m (_find_repeats, linregress, theilslopes,\n\u001b[1;32m     49\u001b[0m                                    siegelslopes)\n",
      "File \u001b[0;32m/Library/Frameworks/Python.framework/Versions/3.11/lib/python3.11/site-packages/scipy/stats/distributions.py:10\u001b[0m\n\u001b[1;32m      1\u001b[0m \u001b[39m#\u001b[39;00m\n\u001b[1;32m      2\u001b[0m \u001b[39m# Author:  Travis Oliphant  2002-2011 with contributions from\u001b[39;00m\n\u001b[1;32m      3\u001b[0m \u001b[39m#          SciPy Developers 2004-2011\u001b[39;00m\n\u001b[0;32m   (...)\u001b[0m\n\u001b[1;32m      6\u001b[0m \u001b[39m#       instead of `git blame -Lxxx,+x`.\u001b[39;00m\n\u001b[1;32m      7\u001b[0m \u001b[39m#\u001b[39;00m\n\u001b[1;32m      8\u001b[0m \u001b[39mfrom\u001b[39;00m \u001b[39m.\u001b[39;00m\u001b[39m_distn_infrastructure\u001b[39;00m \u001b[39mimport\u001b[39;00m (rv_discrete, rv_continuous, rv_frozen)\n\u001b[0;32m---> 10\u001b[0m \u001b[39mfrom\u001b[39;00m \u001b[39m.\u001b[39;00m \u001b[39mimport\u001b[39;00m _continuous_distns\n\u001b[1;32m     11\u001b[0m \u001b[39mfrom\u001b[39;00m \u001b[39m.\u001b[39;00m \u001b[39mimport\u001b[39;00m _discrete_distns\n\u001b[1;32m     13\u001b[0m \u001b[39mfrom\u001b[39;00m \u001b[39m.\u001b[39;00m\u001b[39m_continuous_distns\u001b[39;00m \u001b[39mimport\u001b[39;00m \u001b[39m*\u001b[39m\n",
      "File \u001b[0;32m/Library/Frameworks/Python.framework/Versions/3.11/lib/python3.11/site-packages/scipy/stats/_continuous_distns.py:4862\u001b[0m\n\u001b[1;32m   4858\u001b[0m     \u001b[39mdef\u001b[39;00m \u001b[39m_ppf\u001b[39m(\u001b[39mself\u001b[39m, q, a, b):\n\u001b[1;32m   4859\u001b[0m         \u001b[39mreturn\u001b[39;00m \u001b[39m1.0\u001b[39m \u001b[39m/\u001b[39m (\u001b[39m1\u001b[39m \u001b[39m+\u001b[39m np\u001b[39m.\u001b[39mexp(\u001b[39m-\u001b[39m\u001b[39m1.0\u001b[39m \u001b[39m/\u001b[39m b \u001b[39m*\u001b[39m (_norm_ppf(q) \u001b[39m-\u001b[39m a)))\n\u001b[0;32m-> 4862\u001b[0m johnsonsb \u001b[39m=\u001b[39m johnsonsb_gen(a\u001b[39m=\u001b[39;49m\u001b[39m0.0\u001b[39;49m, b\u001b[39m=\u001b[39;49m\u001b[39m1.0\u001b[39;49m, name\u001b[39m=\u001b[39;49m\u001b[39m'\u001b[39;49m\u001b[39mjohnsonsb\u001b[39;49m\u001b[39m'\u001b[39;49m)\n\u001b[1;32m   4865\u001b[0m \u001b[39mclass\u001b[39;00m \u001b[39mjohnsonsu_gen\u001b[39;00m(rv_continuous):\n\u001b[1;32m   4866\u001b[0m \u001b[39m    \u001b[39m\u001b[39mr\u001b[39m\u001b[39m\"\"\"A Johnson SU continuous random variable.\u001b[39;00m\n\u001b[1;32m   4867\u001b[0m \n\u001b[1;32m   4868\u001b[0m \u001b[39m    %(before_notes)s\u001b[39;00m\n\u001b[0;32m   (...)\u001b[0m\n\u001b[1;32m   4891\u001b[0m \n\u001b[1;32m   4892\u001b[0m \u001b[39m    \"\"\"\u001b[39;00m\n",
      "File \u001b[0;32m/Library/Frameworks/Python.framework/Versions/3.11/lib/python3.11/site-packages/scipy/stats/_distn_infrastructure.py:1936\u001b[0m, in \u001b[0;36mrv_continuous.__init__\u001b[0;34m(self, momtype, a, b, xtol, badvalue, name, longname, shapes, extradoc, seed)\u001b[0m\n\u001b[1;32m   1931\u001b[0m \u001b[39mself\u001b[39m\u001b[39m.\u001b[39mextradoc \u001b[39m=\u001b[39m extradoc\n\u001b[1;32m   1933\u001b[0m \u001b[39mself\u001b[39m\u001b[39m.\u001b[39m_construct_argparser(meths_to_inspect\u001b[39m=\u001b[39m[\u001b[39mself\u001b[39m\u001b[39m.\u001b[39m_pdf, \u001b[39mself\u001b[39m\u001b[39m.\u001b[39m_cdf],\n\u001b[1;32m   1934\u001b[0m                           locscale_in\u001b[39m=\u001b[39m\u001b[39m'\u001b[39m\u001b[39mloc=0, scale=1\u001b[39m\u001b[39m'\u001b[39m,\n\u001b[1;32m   1935\u001b[0m                           locscale_out\u001b[39m=\u001b[39m\u001b[39m'\u001b[39m\u001b[39mloc, scale\u001b[39m\u001b[39m'\u001b[39m)\n\u001b[0;32m-> 1936\u001b[0m \u001b[39mself\u001b[39;49m\u001b[39m.\u001b[39;49m_attach_methods()\n\u001b[1;32m   1938\u001b[0m \u001b[39mif\u001b[39;00m longname \u001b[39mis\u001b[39;00m \u001b[39mNone\u001b[39;00m:\n\u001b[1;32m   1939\u001b[0m     \u001b[39mif\u001b[39;00m name[\u001b[39m0\u001b[39m] \u001b[39min\u001b[39;00m [\u001b[39m'\u001b[39m\u001b[39maeiouAEIOU\u001b[39m\u001b[39m'\u001b[39m]:\n",
      "File \u001b[0;32m/Library/Frameworks/Python.framework/Versions/3.11/lib/python3.11/site-packages/scipy/stats/_distn_infrastructure.py:1974\u001b[0m, in \u001b[0;36mrv_continuous._attach_methods\u001b[0;34m(self)\u001b[0m\n\u001b[1;32m   1971\u001b[0m \u001b[39mself\u001b[39m\u001b[39m.\u001b[39m_attach_argparser_methods()\n\u001b[1;32m   1973\u001b[0m \u001b[39m# nin correction\u001b[39;00m\n\u001b[0;32m-> 1974\u001b[0m \u001b[39mself\u001b[39m\u001b[39m.\u001b[39m_ppfvec \u001b[39m=\u001b[39m vectorize(\u001b[39mself\u001b[39;49m\u001b[39m.\u001b[39;49m_ppf_single, otypes\u001b[39m=\u001b[39;49m\u001b[39m'\u001b[39;49m\u001b[39md\u001b[39;49m\u001b[39m'\u001b[39;49m)\n\u001b[1;32m   1975\u001b[0m \u001b[39mself\u001b[39m\u001b[39m.\u001b[39m_ppfvec\u001b[39m.\u001b[39mnin \u001b[39m=\u001b[39m \u001b[39mself\u001b[39m\u001b[39m.\u001b[39mnumargs \u001b[39m+\u001b[39m \u001b[39m1\u001b[39m\n\u001b[1;32m   1976\u001b[0m \u001b[39mself\u001b[39m\u001b[39m.\u001b[39mvecentropy \u001b[39m=\u001b[39m vectorize(\u001b[39mself\u001b[39m\u001b[39m.\u001b[39m_entropy, otypes\u001b[39m=\u001b[39m\u001b[39m'\u001b[39m\u001b[39md\u001b[39m\u001b[39m'\u001b[39m)\n",
      "File \u001b[0;32m/Library/Frameworks/Python.framework/Versions/3.11/lib/python3.11/site-packages/numpy/lib/function_base.py:2293\u001b[0m, in \u001b[0;36mvectorize.__init__\u001b[0;34m(self, pyfunc, otypes, doc, excluded, cache, signature)\u001b[0m\n\u001b[1;32m   2291\u001b[0m \u001b[39m# Excluded variable support\u001b[39;00m\n\u001b[1;32m   2292\u001b[0m \u001b[39mif\u001b[39;00m excluded \u001b[39mis\u001b[39;00m \u001b[39mNone\u001b[39;00m:\n\u001b[0;32m-> 2293\u001b[0m     excluded \u001b[39m=\u001b[39m \u001b[39mset\u001b[39m()\n\u001b[1;32m   2294\u001b[0m \u001b[39mself\u001b[39m\u001b[39m.\u001b[39mexcluded \u001b[39m=\u001b[39m \u001b[39mset\u001b[39m(excluded)\n\u001b[1;32m   2296\u001b[0m \u001b[39mif\u001b[39;00m signature \u001b[39mis\u001b[39;00m \u001b[39mnot\u001b[39;00m \u001b[39mNone\u001b[39;00m:\n",
      "\u001b[0;31mKeyboardInterrupt\u001b[0m: "
     ]
    }
   ],
   "source": [
    "import pandas as pd\n",
    "import numpy as np\n",
    "import matplotlib.pyplot as plt\n",
    "import seaborn as sns\n",
    "import plotly.express as px"
   ]
  },
  {
   "cell_type": "markdown",
   "id": "0dc6476b-7a00-44f1-ac93-6e3baed33a29",
   "metadata": {},
   "source": [
    "# Исследование структуры данных"
   ]
  },
  {
   "cell_type": "markdown",
   "id": "889782b6-8d1c-410e-8920-e57f27917c64",
   "metadata": {},
   "source": [
    "1. Прочитайте данные с помощью библиотеки Pandas. Совет: перед чтением обратите внимание на разделитель внутри файла. "
   ]
  },
  {
   "cell_type": "code",
   "execution_count": null,
   "id": "bc39e68e-ed02-4ee2-9235-7258a2f867a8",
   "metadata": {},
   "outputs": [],
   "source": [
    "origin_headhunter_data = pd.read_csv(\"dst-3.0_16_1_hh_database.csv\",  sep=';')\n"
   ]
  },
  {
   "cell_type": "markdown",
   "id": "b583485d-1f9e-494e-ada4-80ffff7c53d6",
   "metadata": {},
   "source": [
    "2. Выведите несколько первых (последних) строк таблицы, чтобы убедиться в том, что ваши данные не повреждены. Ознакомьтесь с признаками и их структурой."
   ]
  },
  {
   "cell_type": "code",
   "execution_count": null,
   "id": "5408c52c-3407-4a63-b25b-1aafa2322d28",
   "metadata": {},
   "outputs": [],
   "source": [
    "headhunter_data = origin_headhunter_data.copy()\n",
    "headhunter_data.head(3)"
   ]
  },
  {
   "cell_type": "markdown",
   "id": "a2bfff1f-c975-4bf6-84be-2185d79dcb76",
   "metadata": {},
   "source": [
    "3. Выведите основную информацию о числе непустых значений в столбцах и их типах в таблице."
   ]
  },
  {
   "cell_type": "markdown",
   "id": "41bb59f3-53cc-4a67-a5bc-bedf573955e4",
   "metadata": {},
   "source": [
    "4. Обратите внимание на информацию о числе непустых значений."
   ]
  },
  {
   "cell_type": "code",
   "execution_count": null,
   "id": "d286cf4c-707b-4cd2-9190-7ab3587d04a1",
   "metadata": {},
   "outputs": [],
   "source": [
    "headhunter_data.info()"
   ]
  },
  {
   "cell_type": "markdown",
   "id": "9a8a2181-6914-448b-85f1-38f5f18b8a93",
   "metadata": {},
   "source": [
    "5. Выведите основную статистическую информацию о столбцах.\n"
   ]
  },
  {
   "cell_type": "code",
   "execution_count": null,
   "id": "be4e9bd3-a4db-4a20-82fb-6b02fc2957e0",
   "metadata": {},
   "outputs": [],
   "source": [
    "headhunter_data.describe()"
   ]
  },
  {
   "cell_type": "markdown",
   "id": "8d62a9f3-f64e-4fe7-bdac-c4dffa16155e",
   "metadata": {},
   "source": [
    "# Преобразование данных"
   ]
  },
  {
   "cell_type": "markdown",
   "id": "93053d3d-b284-481a-9cf7-012d7014c0e0",
   "metadata": {},
   "source": [
    "1. Начнем с простого - с признака **\"Образование и ВУЗ\"**. Его текущий формат это: **<Уровень образования год выпуска ВУЗ специальность...>**. Например:\n",
    "* Высшее образование 2016 Московский авиационный институт (национальный исследовательский университет)...\n",
    "* Неоконченное высшее образование 2000  Балтийская государственная академия рыбопромыслового флота…\n",
    "Нас будет интересовать только уровень образования.\n",
    "\n",
    "Создайте с помощью функции-преобразования новый признак **\"Образование\"**, который должен иметь 4 категории: \"высшее\", \"неоконченное высшее\", \"среднее специальное\" и \"среднее\".\n",
    "\n",
    "Выполните преобразование, ответьте на контрольные вопросы и удалите признак \"Образование и ВУЗ\".\n",
    "\n",
    "Совет: обратите внимание на структуру текста в столбце **\"Образование и ВУЗ\"**. Гарантируется, что текущий уровень образования соискателя всегда находится в первых 2ух слов и начинается с заглавной буквы. Воспользуйтесь этим.\n",
    "\n",
    "*Совет: проверяйте полученные категории, например, с помощью метода unique()*\n"
   ]
  },
  {
   "cell_type": "code",
   "execution_count": null,
   "id": "3f069da6-fdc9-4ae7-b514-fafe2675efd3",
   "metadata": {},
   "outputs": [],
   "source": [
    "# Добавляем столбец 'Образование'. Используем начальные буквы для определения образования. Задаем тип данных category.\n",
    "\n",
    "headhunter_data['Образование'] = headhunter_data['Образование и ВУЗ'].apply(lambda x:\n",
    "                                                                            'высшее' if str(x)[0]=='В'\n",
    "                                                                            else ('неоконченное высшее' if str(x)[0]=='Н'\n",
    "                                                                                  else ('среднее специальное' if str(x)[8]=='с'\n",
    "                                                                                        else 'среднее')))\n",
    "headhunter_data['Образование'] = headhunter_data['Образование'].astype('category')\n",
    "\n",
    "\n",
    "headhunter_data = headhunter_data.drop('Образование и ВУЗ', axis='columns')\n",
    "headhunter_data['Образование'].value_counts()"
   ]
  },
  {
   "cell_type": "markdown",
   "id": "4266f0b6-1646-492a-88b4-2f6a46502135",
   "metadata": {},
   "source": [
    "2. Теперь нас интересует столбец **\"Пол, возраст\"**. Сейчас он представлен в формате **<Пол , возраст , дата рождения >**. Например:\n",
    "* Мужчина , 39 лет , родился 27 ноября 1979 \n",
    "* Женщина , 21 год , родилась 13 января 2000\n",
    "Как вы понимаете, нам необходимо выделить каждый параметр в отдельный столбец.\n",
    "\n",
    "Создайте два новых признака **\"Пол\"** и **\"Возраст\"**. При этом важно учесть:\n",
    "* Признак пола должен иметь 2 уникальных строковых значения: 'М' - мужчина, 'Ж' - женщина. \n",
    "* Признак возраста должен быть представлен целыми числами.\n",
    "\n",
    "Выполните преобразование, ответьте на контрольные вопросы и удалите признак **\"Пол, возраст\"** из таблицы.\n",
    "\n",
    "*Совет: обратите внимание на структуру текста в столбце, в части на то, как разделены параметры пола, возраста и даты рождения между собой - символом ' , '. \n",
    "Гарантируется, что структура одинакова для всех строк в таблице. Вы можете воспользоваться этим.*\n"
   ]
  },
  {
   "cell_type": "code",
   "execution_count": null,
   "id": "0e437366",
   "metadata": {},
   "outputs": [],
   "source": [
    "headhunter_data['Пол'] = headhunter_data['Пол, возраст'].apply(lambda x: str(x)[0]).astype('category')\n",
    "headhunter_data['Возраст'] = headhunter_data['Пол, возраст'].apply(lambda x: str(x)[11:13]).astype('int')\n",
    "headhunter_data = headhunter_data.drop('Пол, возраст', axis='columns')\n",
    "\n",
    "women = headhunter_data['Пол'].value_counts()['Ж'] / headhunter_data.shape[0]\n",
    "age_mean = headhunter_data['Возраст'].mean()\n",
    "display(f\"Доля женских резюме: {round(women,2)}\")\n",
    "display(f\"Средний возраст: {round(age_mean, 1)}\")\n"
   ]
  },
  {
   "cell_type": "code",
   "execution_count": null,
   "id": "98554314",
   "metadata": {},
   "outputs": [],
   "source": [
    "display(f\"Процу женских резюме: {women:.2f}\")\n",
    "display(f\"Средний возраст: {age_mean:.1f}\")"
   ]
  },
  {
   "attachments": {},
   "cell_type": "markdown",
   "id": "635c4d5d-f323-4c66-b428-50a088120aa0",
   "metadata": {},
   "source": [
    "3. Следующим этапом преобразуем признак **\"Опыт работы\"**. Его текущий формат - это: **<Опыт работы: n лет m месяцев, периоды работы в различных компаниях…>**. \n",
    "\n",
    "Из столбца нам необходимо выделить общий опыт работы соискателя в месяцах, новый признак назовем \"Опыт работы (месяц)\"\n",
    "\n",
    "Для начала обсудим условия решения задачи:\n",
    "* Во-первых, в данном признаке есть пропуски. Условимся, что если мы встречаем пропуск, оставляем его как есть (функция-преобразование возвращает NaN)\n",
    "* Во-вторых, в данном признаке есть скрытые пропуски. Для некоторых соискателей в столбце стоит значения \"Не указано\". Их тоже обозначим как NaN (функция-преобразование возвращает NaN)\n",
    "* В-третьих, нас не интересует информация, которая описывается после указания опыта работы (периоды работы в различных компаниях)\n",
    "* В-четвертых, у нас есть проблема: опыт работы может быть представлен только в годах или только месяцах. Например, можно встретить следующие варианты:\n",
    "    * Опыт работы 3 года 2 месяца…\n",
    "    * Опыт работы 4 года…\n",
    "    * Опыт работы 11 месяцев…\n",
    "    * Учитывайте эту особенность в вашем коде\n",
    "\n",
    "Учитывайте эту особенность в вашем коде\n",
    "\n",
    "В результате преобразования у вас должен получиться столбец, содержащий информацию о том, сколько месяцев проработал соискатель.\n",
    "Выполните преобразование, ответьте на контрольные вопросы и удалите столбец **\"Опыт работы\"** из таблицы.\n"
   ]
  },
  {
   "cell_type": "code",
   "execution_count": null,
   "id": "de8c1e02",
   "metadata": {},
   "outputs": [],
   "source": [
    "headhunter_data['Опыт работы (месяц)'] = headhunter_data['Опыт работы'].apply(lambda x: np.nan if x is np.nan or x == 'Не указано'\n",
    "                                                                              else str(x)[12:30])  \n",
    "def experience_func(expirience_text):\n",
    "    if expirience_text is np.nan:\n",
    "        return np.nan\n",
    "    else:\n",
    "        experience = 0\n",
    "        experience_list = expirience_text.rsplit(sep = \" \")\n",
    "        months = ['месяц', 'месяцев', 'месяца']\n",
    "                \n",
    "        if experience_list[1] in months:\n",
    "            experience += int(experience_list[0])\n",
    "            return experience\n",
    "        else:\n",
    "            experience += int(experience_list[0]) * 12\n",
    "            \n",
    "            if (len(experience_list)>3) and (experience_list[3] in months):\n",
    "                experience += int(experience_list[2])\n",
    "            \n",
    "        return experience\n",
    "    \n",
    "headhunter_data['Опыт работы (месяц)'] = headhunter_data['Опыт работы (месяц)'].apply(experience_func)\n",
    "\n",
    "headhunter_data = headhunter_data.drop(columns = ['Опыт работы'])\n",
    "display(f\"Медианный опыт работы в месяцах: {headhunter_data['Опыт работы (месяц)'].median()}\")"
   ]
  },
  {
   "attachments": {},
   "cell_type": "markdown",
   "id": "bc251731",
   "metadata": {},
   "source": [
    "4. Хорошо идем! Следующий на очереди признак \"Город, переезд, командировки\". Информация в нем представлена в следующем виде: **<Город , (метро) , готовность к переезду (города для переезда) , готовность к командировкам>**. В скобках указаны необязательные параметры строки. Например, можно встретить следующие варианты:\n",
    "\n",
    "* Москва , не готов к переезду , готов к командировкам\n",
    "* Москва , м. Беломорская , не готов к переезду, не готов к командировкам\n",
    "* Воронеж , готов к переезду (Сочи, Москва, Санкт-Петербург) , готов к командировкам\n",
    "\n",
    "Создадим отдельные признаки **\"Город\"**, **\"Готовность к переезду\"**, **\"Готовность к командировкам\"**. При этом важно учесть:\n",
    "\n",
    "* Признак **\"Город\"** должен содержать только 4 категории: \"Москва\", \"Санкт-Петербург\" и \"город-миллионник\" (их список ниже), остальные обозначьте как \"другие\".\n",
    "\n",
    "    Список городов-миллионников:\n",
    "    \n",
    "   <code>million_cities = ['Новосибирск', 'Екатеринбург','Нижний Новгород','Казань', 'Челябинск','Омск', 'Самара', 'Ростов-на-Дону', 'Уфа', 'Красноярск', 'Пермь', 'Воронеж','Волгоград']\n",
    "    </code>\n",
    "    Инфорация о метро, рядом с которым проживает соискатель нас не интересует.\n",
    "* Признак **\"Готовность к переезду\"** должен иметь два возможных варианта: True или False. Обратите внимание, что возможны несколько вариантов описания готовности к переезду в признаке \"Город, переезд, командировки\". Например:\n",
    "    * … , готов к переезду , …\n",
    "    * … , не готова к переезду , …\n",
    "    * … , готова к переезду (Москва, Санкт-Петербург, Ростов-на-Дону)\n",
    "    * … , хочу переехать (США) , …\n",
    "    \n",
    "    Нас интересует только сам факт возможности или желания переезда.\n",
    "* Признак **\"Готовность к командировкам\"** должен иметь два возможных варианта: True или False. Обратите внимание, что возможны несколько вариантов описания готовности к командировкам в признаке \"Город, переезд, командировки\". Например:\n",
    "    * … , готов к командировкам , … \n",
    "    * … , готова к редким командировкам , …\n",
    "    * … , не готов к командировкам , …\n",
    "    \n",
    "    Нас интересует только сам факт готовности к командировке.\n",
    "    \n",
    "    Еще один важный факт: при выгрузки данных у некоторых соискателей \"потерялась\" информация о готовности к командировкам. Давайте по умолчанию будем считать, что такие соискатели не готовы к командировкам.\n",
    "    \n",
    "Выполните преобразования и удалите столбец **\"Город, переезд, командировки\"** из таблицы.\n",
    "\n",
    "*Совет: обратите внимание на то, что структура текста может меняться в зависимости от указания ближайшего метро. Учите это, если будете использовать порядок слов в своей программе.*"
   ]
  },
  {
   "cell_type": "code",
   "execution_count": null,
   "id": "602f288e",
   "metadata": {},
   "outputs": [],
   "source": [
    "# Создаем столбец City_move ['Город', 'Метро'(если есть), 'Переезд', 'Коммандировки'(если есть)]. Проверяем правильность преобразования.\n",
    "\n",
    "headhunter_data['City_move'] = headhunter_data['Город, переезд, командировки'].apply(lambda x: x.rsplit(sep=' , '))\n",
    "headhunter_data['City_move_lenth'] = headhunter_data.City_move.apply(lambda x: len(x))\n",
    "headhunter_data.City_move_lenth.value_counts()"
   ]
  },
  {
   "cell_type": "code",
   "execution_count": null,
   "id": "f6949123",
   "metadata": {},
   "outputs": [],
   "source": [
    "# Одна из записей не стандатна и содержит 5 элементов. Находим и приводим к стандарту.\n",
    "display(headhunter_data.City_move[headhunter_data['City_move_lenth'] == 5].values)\n",
    "headhunter_data.loc[17787, 'City_move'].remove('Колпино)')\n"
   ]
  },
  {
   "cell_type": "code",
   "execution_count": null,
   "id": "3a3145cb",
   "metadata": {},
   "outputs": [],
   "source": [
    "# Создаем признак \"Город\"\n",
    "million_cities = ['Новосибирск', 'Екатеринбург', 'Нижний Новгород', 'Казань', 'Челябинск', 'Омск', 'Самара', 'Ростов-на-Дону', \n",
    "                  'Уфа', 'Красноярск', 'Пермь', 'Воронеж', 'Волгоград']\n",
    "\n",
    "headhunter_data['Город'] = headhunter_data['City_move'].apply(lambda x: x.pop(0))\n",
    "headhunter_data['Город'] = headhunter_data['Город'].apply(lambda city: \n",
    "                                                          city if city in ['Москва', 'Санкт-Петербург']\n",
    "                                                          else ('город-миллионник' if city in million_cities \n",
    "                                                                else 'другие'))\n",
    "\n",
    "saint_petersburg = headhunter_data[headhunter_data['Город'] == 'Санкт-Петербург'].shape[0] / headhunter_data.shape[0]\n",
    "display(f'Доля соискателей из Санкт-Петербурга: {round(saint_petersburg, 2)}')"
   ]
  },
  {
   "cell_type": "code",
   "execution_count": null,
   "id": "1ea710ec-871b-431e-9462-c7d0fd87011b",
   "metadata": {},
   "outputs": [],
   "source": [
    "# Создаем признак 'Готовность к перезду'. Сначала где нужно убираем индекс из City_move. \n",
    "# Остается ['Переезд', 'Коммандировки'(если есть)]\n",
    "\n",
    "headhunter_data['City_move'] = headhunter_data['City_move'].apply(lambda x: x if len(x) < 3 else x[1:])\n",
    "\n",
    "headhunter_data['Готовность к переезду'] = headhunter_data['City_move'].apply(lambda x: False if 'не' in x[0] else True)\n",
    "\n",
    "headhunter_data['Готовность к командировкам'] = headhunter_data['City_move'].apply(lambda x: False if len(x)<2\n",
    "                                                                                   else (False if 'не' in x[1] else True))\n",
    "\n",
    "headhunter_data = headhunter_data.drop(columns=['City_move', 'City_move_lenth','Город, переезд, командировки'])\n",
    "\n",
    "movers = headhunter_data[headhunter_data['Готовность к переезду'] \n",
    "                         & headhunter_data['Готовность к командировкам']].shape[0] / headhunter_data.shape[0]\n",
    "\n",
    "display(f\"Доля соискателей готовых и к переездам, и к командировкам: {round(movers, 2)}\")"
   ]
  },
  {
   "cell_type": "markdown",
   "id": "0136ffee-0ead-4a6b-b608-61d1c753a438",
   "metadata": {},
   "source": [
    "5. Рассмотрим поближе признаки **\"Занятость\"** и **\"График\"**. Сейчас признаки представляют собой набор категорий желаемой занятости (полная занятость, частичная занятость, проектная работа, волонтерство, стажировка) и желаемого графика работы (полный день, сменный график, гибкий график, удаленная работа, вахтовый метод).\n",
    "На сайте hh.ru соискатель может указывать различные комбинации данных категорий, например:\n",
    "* полная занятость, частичная занятость\n",
    "* частичная занятость, проектная работа, волонтерство\n",
    "* полный день, удаленная работа\n",
    "* вахтовый метод, гибкий график, удаленная работа, полная занятость\n",
    "\n",
    "Такой вариант признаков имеет множество различных комбинаций, а значит множество уникальных значений, что мешает анализу. Нужно это исправить!\n",
    "\n",
    "Давайте создадим признаки-мигалки для каждой категории: если категория присутствует в списке желаемых соискателем, то в столбце на месте строки рассматриваемого соискателя ставится True, иначе - False.\n",
    "\n",
    "Такой метод преобразования категориальных признаков называется One Hot Encoding и его схема представлена на рисунке ниже:\n",
    "<img src=https://raw.githubusercontent.com/AndreyRysistov/DatasetsForPandas/main/ohe.jpg>\n",
    "Выполните данное преобразование для признаков \"Занятость\" и \"График\", ответьте на контрольные вопросы, после чего удалите их из таблицы"
   ]
  },
  {
   "cell_type": "code",
   "execution_count": null,
   "id": "01ef1745",
   "metadata": {},
   "outputs": [],
   "source": [
    "# Создаем новые столбцы по схеме One Hot Encoding\n",
    "\n",
    "headhunter_data['полная занятость'] = headhunter_data['Занятость'].apply(lambda x: True if 'полная занятость' in x else False)\n",
    "headhunter_data['частичная занятость'] = headhunter_data['Занятость'].apply(lambda x: True if 'частичная занятость' in x else False)\n",
    "headhunter_data['проектная работа'] = headhunter_data['Занятость'].apply(lambda x: True if 'проектная работа' in x else False)\n",
    "headhunter_data['стажировка'] = headhunter_data['Занятость'].apply(lambda x: True if 'стажировка' in x else False)\n",
    "headhunter_data['волонтерство'] = headhunter_data['Занятость'].apply(lambda x: True if 'волонтерство' in x else False)\n",
    "\n",
    "headhunter_data['полный день'] = headhunter_data['График'].apply(lambda x: True if 'полный день' in x else False)\n",
    "headhunter_data['сменный график'] = headhunter_data['График'].apply(lambda x: True if 'сменный график' in x else False)\n",
    "headhunter_data['гибкий график'] = headhunter_data['График'].apply(lambda x: True if 'гибкий график' in x else False)\n",
    "headhunter_data['удаленная работа'] = headhunter_data['График'].apply(lambda x: True if 'удаленная работа' in x else False)\n",
    "headhunter_data['вахтовый метод'] = headhunter_data['График'].apply(lambda x: True if 'вахтовый метод' in x else False)\n",
    "\n",
    "headhunter_data = headhunter_data.drop(columns = ['Занятость', 'График'])\n",
    "\n",
    "display(f\"Проeктная работа и волонтерство:{headhunter_data[headhunter_data['проектная работа'] & headhunter_data['волонтерство']].shape[0]}\")\n",
    "display(f\"Вахтовый метод и гибкий график:{headhunter_data[headhunter_data['вахтовый метод'] & headhunter_data['гибкий график']].shape[0]}\")\n"
   ]
  },
  {
   "cell_type": "markdown",
   "id": "344f123c-b63b-43dd-a8a4-809c1f1bb443",
   "metadata": {},
   "source": [
    "6. (2 балла) Наконец, мы добрались до самого главного и самого важного - признака заработной платы **\"ЗП\"**. \n",
    "В чем наша беда? В том, что помимо желаемой заработной платы соискатель указывает валюту, в которой он бы хотел ее получать, например:\n",
    "* 30000 руб.\n",
    "* 50000 грн.\n",
    "* 550 USD\n",
    "\n",
    "Нам бы хотелось видеть заработную плату в единой валюте, например, в рублях. Возникает вопрос, а где взять курс валют по отношению к рублю?\n",
    "\n",
    "На самом деле язык Python имеет в арсенале огромное количество возможностей получения данной информации, от обращения к API Центробанка, до использования специальных библиотек, например pycbrf. Однако, это не тема нашего проекта.\n",
    "\n",
    "Поэтому мы пойдем в лоб: обратимся к специальным интернет-ресурсам для получения данных о курсе в виде текстовых файлов. Например, MDF.RU, данный ресурс позволяет удобно экспортировать данные о курсах различных валют и акций за указанные периоды в виде csv файлов. Мы уже сделали выгрузку курсов валют, которые встречаются в наших данных за период с 29.12.2017 по 05.12.2019. Скачать ее вы можете **на платформе**\n",
    "\n",
    "Создайте новый DataFrame из полученного файла. В полученной таблице нас будут интересовать столбцы:\n",
    "* \"currency\" - наименование валюты в ISO кодировке,\n",
    "* \"date\" - дата, \n",
    "* \"proportion\" - пропорция, \n",
    "* \"close\" - цена закрытия (последний зафиксированный курс валюты на указанный день).\n",
    "\n",
    "\n",
    "Перед вами таблица соответствия наименований иностранных валют в наших данных и их общепринятых сокращений, которые представлены в нашем файле с курсами валют. Пропорция - это число, за сколько единиц валюты указан курс в таблице с курсами. Например, для казахстанского тенге курс на 20.08.2019 составляет 17.197 руб. за 100 тенге, тогда итоговый курс равен - 17.197 / 100 = 0.17197 руб за 1 тенге.\n",
    "Воспользуйтесь этой информацией в ваших преобразованиях.\n",
    "\n",
    "<img src=https://raw.githubusercontent.com/AndreyRysistov/DatasetsForPandas/main/table.jpg>\n",
    "\n",
    "\n",
    "Осталось только понять, откуда брать дату, по которой определяется курс? А вот же она - в признаке **\"Обновление резюме\"**, в нем содержится дата и время, когда соискатель выложил текущий вариант своего резюме. Нас интересует только дата, по ней бы и будем сопоставлять курсы валют.\n",
    "\n",
    "Теперь у нас есть вся необходимая информация для того, чтобы создать признак \"ЗП (руб)\" - заработная плата в рублях.\n",
    "\n",
    "После ответа на контрольные вопросы удалите исходный столбец заработной платы \"ЗП\" и все промежуточные столбцы, если вы их создавали."
   ]
  },
  {
   "cell_type": "markdown",
   "id": "6d794257-61f5-4124-956b-67b92b9391a7",
   "metadata": {
    "tags": []
   },
   "source": [
    "Итак, давайте обсудим возможный алгоритм преобразования: \n",
    "1. Перевести признак \"Обновление резюме\" из таблицы с резюме в формат datetime и достать из него дату. В тот же формат привести признак \"date\" из таблицы с валютами.\n",
    "2. Выделить из столбца \"ЗП\" сумму желаемой заработной платы и наименование валюты, в которой она исчисляется. Наименование валюты перевести в стандарт ISO согласно с таблицей выше.\n",
    "3. Присоединить к таблице с резюме таблицу с курсами по столбцам с датой и названием валюты (подумайте, какой тип объединения надо выбрать, чтобы в таблице с резюме сохранились данные о заработной плате, изначально представленной в рублях). Значение close для рубля заполнить единицей 1 (курс рубля самого к себе)\n",
    "4. Умножить сумму желаемой заработной платы на присоединенный курс валюты (close) и разделить на пропорцию (обратите внимание на пропуски после объединения в этих столбцах), результат занести в новый столбец \"ЗП (руб)\".\n"
   ]
  },
  {
   "cell_type": "code",
   "execution_count": null,
   "id": "3325c45a",
   "metadata": {},
   "outputs": [],
   "source": [
    "# Добавляем столбец date - дата обновления резюмме. Преобразуем в формат datetime\n",
    "headhunter_data['date'] = headhunter_data['Обновление резюме'].apply(lambda x: str(x)[:10])\n",
    "headhunter_data['date'] = pd.to_datetime(headhunter_data['date'], format=\"%d.%m.%Y\")\n",
    "\n",
    "# Создаем DataFrame с курсами валют из csv. Задаем формат datetime для столбца date. Удаляем лишние столбцы.\n",
    "exchange_rates= pd.read_csv('ExchangeRates.csv', sep=',')\n",
    "exchange_rates.date = pd.to_datetime(exchange_rates.date)\n",
    "exchange_rates = exchange_rates.drop(columns = ['time', 'vol', 'per'])"
   ]
  },
  {
   "cell_type": "code",
   "execution_count": null,
   "id": "f2dbc2dd",
   "metadata": {},
   "outputs": [],
   "source": [
    "# Создаем столбцы: salary - зарплата (тип int), сurrency - название валюты. С помощью dict конвертируем в кодировку ISO.\n",
    "\n",
    "headhunter_data['salary'] = headhunter_data['ЗП'].apply(lambda x: x.rsplit(sep=' ')[0]).astype('int')\n",
    "headhunter_data['currency'] = headhunter_data['ЗП'].apply(lambda x: x.rsplit(sep=' ')[1])\n",
    "\n",
    "headhunter_data.currency.unique()\n",
    "exchange_rates['currency'].unique()\n",
    "replace_dict = {'руб.':'RUB', 'бел.руб.':'BYN', 'KZT':'KZT', 'EUR':'EUR', 'USD':'USD', 'грн.':'UAH', 'сум':'UZS', 'KGS':'KGS',\n",
    "       'AZN':'AZN'}\n",
    "\n",
    "headhunter_data.currency = headhunter_data.currency.replace(replace_dict)\n",
    "\n",
    "# Присоединяем курсы валют методом merge.\n",
    "headhunter_data = headhunter_data.merge(exchange_rates, how='left', on=['currency', 'date'])\n",
    "\n",
    "# Для зарплаты в рублях определяем значение close и proportion равным 1\n",
    "headhunter_data['close'] = headhunter_data['close'].where(cond=headhunter_data.currency != 'RUB', other=1)\n",
    "headhunter_data['proportion'] = headhunter_data['proportion'].where(cond=headhunter_data.currency != 'RUB', other=1)\n",
    "\n",
    "# Создаем столбец \"ЗП (руб)\"\n",
    "headhunter_data['ЗП (руб)'] = headhunter_data.salary * headhunter_data.close / headhunter_data.proportion\n",
    "\n",
    "salary_median = headhunter_data['ЗП (руб)'].median()\n",
    "display(f\"Медианная зарплата соискателей: {round(salary_median/1000)} тысяч рублей\")"
   ]
  },
  {
   "cell_type": "code",
   "execution_count": null,
   "id": "ed56e9d0",
   "metadata": {},
   "outputs": [],
   "source": [
    "#Удаляем лишние столбцы\n",
    "headhunter_data = headhunter_data.drop(columns = ['ЗП', 'date', 'salary', 'currency', 'close', 'proportion'])"
   ]
  },
  {
   "cell_type": "markdown",
   "id": "7ea20ab6-04a7-40a0-adec-443a0e5a42c3",
   "metadata": {},
   "source": [
    "# Исследование зависимостей в данных"
   ]
  },
  {
   "cell_type": "markdown",
   "id": "968aed80-74ef-4ffb-b5bf-c65b84e9caea",
   "metadata": {},
   "source": [
    "1. Постройте распределение признака **\"Возраст\"**. Опишите распределение, отвечая на следующие вопросы: чему равна мода распределения, каковы предельные значения признака, в каком примерном интервале находится возраст большинства соискателей? Есть ли аномалии для признака возраста, какие значения вы бы причислили к их числу?\n",
    "*Совет: постройте гистограмму и коробчатую диаграмму рядом.*"
   ]
  },
  {
   "cell_type": "code",
   "execution_count": null,
   "id": "5029394d",
   "metadata": {},
   "outputs": [],
   "source": [
    "fig, axes = plt.subplots(nrows=1, ncols=2, figsize=(14, 5))\n",
    "\n",
    "boxplot_age = sns.boxplot(\n",
    "    data = headhunter_data,\n",
    "    x = 'Возраст',\n",
    "    orient = 'h',\n",
    "    width = 0.9,\n",
    "    ax=axes[0]\n",
    ")\n",
    "boxplot_age.set_title('Распределение соискателей по возрасту', fontsize=15);\n",
    "boxplot_age.grid();\n",
    "\n",
    "hist_age = sns.histplot(\n",
    "    data = headhunter_data,\n",
    "    x = 'Возраст',\n",
    "    bins=20,\n",
    ")\n",
    "hist_age.set_title('Гистограмма распределения соискателей по возрасту', fontsize=15);\n",
    "hist_age.set_ylabel('Количество');\n",
    "hist_age.set_xticks(range(5, 85, 5));\n",
    "\n",
    "display(f\"Модальное значение возраста соискателей: {headhunter_data['Возраст'].mode()[0]} лет\")"
   ]
  },
  {
   "attachments": {},
   "cell_type": "markdown",
   "id": "88967466-5070-4bea-9e71-b3efefdc6e4a",
   "metadata": {},
   "source": [
    "* Возраст большей части соискателей от 20 до 40 лет.\n",
    "* Распределение соискателей по возрасту похоже на нормальное с выбросами в старшем возрасте. Что говорит, о более редком пристутвии кандитов с возрастом более 50, 60 лет. Некоторые большие значения возраста возможно объясняются ошибками в данных.\n",
    "* На боксплоте заметно аномальное значение возраста - 10 лет. Может быть ошибкой в данных."
   ]
  },
  {
   "cell_type": "markdown",
   "id": "68377cfc-b378-43dc-ab7d-1195abf2c515",
   "metadata": {},
   "source": [
    "2. Постройте распределение признака **\"Опыт работы (месяц)\"**. Опишите данное распределение, отвечая на следующие вопросы: чему равна мода распределения, каковы предельные значения признака, в каком примерном интервале находится опыт работы большинства соискателей? Есть ли аномалии для признака опыта работы, какие значения вы бы причислили к их числу?\n",
    "*Совет: постройте гистограмму и коробчатую диаграмму рядом.*"
   ]
  },
  {
   "cell_type": "code",
   "execution_count": null,
   "id": "dd7df27a-e3e8-412e-a21a-5d389b71e891",
   "metadata": {},
   "outputs": [],
   "source": [
    "fig, axes = plt.subplots(nrows=1, ncols=2, figsize=(14, 5))\n",
    "\n",
    "boxplot_experience = sns.boxplot(\n",
    "    data = headhunter_data,\n",
    "    x = headhunter_data['Опыт работы (месяц)'] / 12,\n",
    "    orient = 'h',\n",
    "    width = 0.9,\n",
    "    ax=axes[0]\n",
    ")\n",
    "boxplot_experience.set_title('Распределение соискателей по опыту', fontsize=15);\n",
    "boxplot_experience.grid();\n",
    "boxplot_experience.set_xlabel('Опыт работы, лет');\n",
    "\n",
    "hist_experience = sns.histplot(\n",
    "    data = headhunter_data,\n",
    "    x = headhunter_data['Опыт работы (месяц)'] / 12,\n",
    "    bins=20,\n",
    "    ax=axes[1]\n",
    ")\n",
    "hist_experience.set_title('Гистограмма распределения соискателей по опыту', fontsize=15);\n",
    "hist_experience.set_ylabel('Количество');\n",
    "hist_experience.set_xlabel('Опыт работы, лет');\n",
    "hist_experience.set_xticks(range(0, 60, 10));\n",
    "\n",
    "display(f\"Модальное значение опыта работы: {headhunter_data['Опыт работы (месяц)'].mode()[0]/12} лет\")\n",
    "display(f\"Максимальное значение опыта работы: {headhunter_data['Опыт работы (месяц)'].max()} месяцев\")"
   ]
  },
  {
   "attachments": {},
   "cell_type": "markdown",
   "id": "7305c34b-089d-4986-be9f-5fa1c0ee281c",
   "metadata": {},
   "source": [
    "* Модальное значение опыта работы 6,75 лет. Минимальное значение опыта 1 месяц. \n",
    "* Максимальное из данных таблицы 99 лет. Эту аномалию можно объяснить ошибкой данных.\n",
    "* Опыт большинства соискателей в диапазоне от 0 до 20 лет.\n",
    "\n"
   ]
  },
  {
   "cell_type": "markdown",
   "id": "f2fe0acb-ab1a-4e15-9326-2560e22d73c1",
   "metadata": {},
   "source": [
    "3. Постройте распределение признака **\"ЗП (руб)\"**. Опишите данное распределение, отвечая на следующие вопросы: каковы предельные значения признака, в каком примерном интервале находится заработная плата большинства соискателей? Есть ли аномалии для признака возраста? Обратите внимание на гигантские размеры желаемой заработной платы.\n",
    "*Совет: постройте гистограмму и коробчатую диаграмму рядом.*\n"
   ]
  },
  {
   "cell_type": "code",
   "execution_count": null,
   "id": "6271f8ad-bd2e-4196-ae4a-5b39c4c1010e",
   "metadata": {},
   "outputs": [],
   "source": [
    "# Для анализа построим два графика без учета ожидаемых зарплат свыше миллиона рублей. И два графика без учета зарплат выше 400 тыс. руб.\n",
    "\n",
    "fig, axes = plt.subplots(nrows=2, ncols=2, figsize=(14, 10))\n",
    "\n",
    "boxplot_salary = sns.boxplot(\n",
    "    data = headhunter_data[headhunter_data['ЗП (руб)'] < 1000000],\n",
    "    x = 'ЗП (руб)',\n",
    "    orient = 'h',\n",
    "    width = 0.9,\n",
    "    ax=axes[0][0]\n",
    ")\n",
    "boxplot_salary.set_title('Распределение соискателей по зарплате \\n (зп меньше миллиона)', fontsize=15);\n",
    "boxplot_salary.grid();\n",
    "boxplot_salary.set_xlabel('Ожидаемая заработная плата в рублях');\n",
    "\n",
    "hist_salary = sns.histplot(\n",
    "    data = headhunter_data[headhunter_data['ЗП (руб)'] < 1000000],\n",
    "    x = 'ЗП (руб)',\n",
    "    bins=20,\n",
    "    ax=axes[0][1]\n",
    ")\n",
    "hist_salary.set_title('Гистограмма распределения соискателей по зарплате \\n (зп меньше миллиона)', fontsize=15);\n",
    "hist_salary.set_ylabel('Количество');\n",
    "hist_salary.set_xlabel('Ожидаемая заработная плата в рублях');\n",
    "\n",
    "\n",
    "boxplot_salary_l = sns.boxplot(\n",
    "    data = headhunter_data[headhunter_data['ЗП (руб)'] < 400000],\n",
    "    x = 'ЗП (руб)',\n",
    "    orient = 'h',\n",
    "    width = 0.9,\n",
    "    ax=axes[1][0]\n",
    ")\n",
    "boxplot_salary_l.set_title('(зп меньше 400 тыс. рублей)', fontsize=12);\n",
    "boxplot_salary_l.grid();\n",
    "boxplot_salary_l.set_xlabel('Ожидаемая заработная плата в рублях');\n",
    "\n",
    "hist_salary_l = sns.histplot(\n",
    "    data = headhunter_data[headhunter_data['ЗП (руб)'] < 400000],\n",
    "    x = 'ЗП (руб)',\n",
    "    bins=20,\n",
    "    ax=axes[1][1]\n",
    ")\n",
    "hist_salary_l.set_title('(зп меньше 400 тыс. рублей)', fontsize=12);\n",
    "hist_salary_l.set_ylabel('Количество');\n",
    "hist_salary_l.set_xlabel('Ожидаемая заработная плата в рублях');\n",
    "\n",
    "display(f\"Модальное значение опыта работы: {headhunter_data['ЗП (руб)'].mode()[0]} рублей\")\n"
   ]
  },
  {
   "cell_type": "code",
   "execution_count": null,
   "id": "cef32b87",
   "metadata": {},
   "outputs": [],
   "source": [
    "display(headhunter_data[headhunter_data['ЗП (руб)'] > 1000000])"
   ]
  },
  {
   "attachments": {},
   "cell_type": "markdown",
   "id": "6c39ca13-225e-48f7-a85c-ab07a6cc852a",
   "metadata": {},
   "source": [
    "* Модальное значение зарплаты 50 тысяч рублей.\n",
    "* Минимальная запрашиваемая зарплата в данных 1 рубль, максимальная 24 миллиона 304 тысячи 876 рублей.\n",
    "* В 84 случаях указана зарплата ниже 1000 руб. Что можно трактовать как ошибку данных, либо как не желание соискателя указывать зарплату.\n",
    "* Скорее всего объясняется ошибкой запись с требованием зарплаты в 24 миллиона рублей.\n",
    "* Ожидаемая зарплата большинства соисктелей находится в диапазоне от 40 до 90 тысяч рублей."
   ]
  },
  {
   "cell_type": "markdown",
   "id": "eab2206d-d95b-468b-8e5f-34381abf0ce7",
   "metadata": {},
   "source": [
    "4. Постройте диаграмму, которая показывает зависимость **медианной** желаемой заработной платы (**\"ЗП (руб)\"**) от уровня образования (**\"Образование\"**). Используйте для диаграммы данные о резюме, где желаемая заработная плата меньше 1 млн рублей.\n",
    "*Сделайте выводы по представленной диаграмме: для каких уровней образования наблюдаются наибольшие и наименьшие уровни желаемой заработной платы? Как вы считаете, важен ли признак уровня образования при прогнозировании заработной платы?*"
   ]
  },
  {
   "cell_type": "code",
   "execution_count": null,
   "id": "71c8a26d",
   "metadata": {},
   "outputs": [],
   "source": [
    "salary_education = headhunter_data[headhunter_data['ЗП (руб)'] < 1000000].groupby('Образование')['ЗП (руб)'].median()\n",
    "\n",
    "fig = plt.figure(figsize=(9, 5))\n",
    "\n",
    "barplot_salory_ed = sns.barplot(\n",
    "    x = salary_education.index,\n",
    "    y = salary_education.values,\n",
    ");\n",
    "barplot_salory_ed.set_title('Ожидаемая зарплата в разрезе образования', fontsize=15);\n",
    "\n",
    "barplot_salory_ed.set_xlabel('Уровень образования');\n",
    "barplot_salory_ed.set_ylabel(\"Медианная запрашиваемая зарплата в рублях\")\n",
    "barplot_salory_ed.grid();"
   ]
  },
  {
   "attachments": {},
   "cell_type": "markdown",
   "id": "dc463319-3f85-47dd-b66e-aecb0be0c76f",
   "metadata": {},
   "source": [
    "* Ожидаемая заработная плата максимальна для соискателей с высшим образованием и минимальна для соискателей со средним и средним специальным образованием.\n",
    "* Признак уровня образования играет важную роль при прогнозировании заработной платы."
   ]
  },
  {
   "cell_type": "markdown",
   "id": "0112af31-f6b0-4e3b-82ab-71296e752e5e",
   "metadata": {},
   "source": [
    "5. Постройте диаграмму, которая показывает распределение желаемой заработной платы (**\"ЗП (руб)\"**) в зависимости от города (**\"Город\"**). Используйте для диаграммы данные о резюме, где желая заработная плата меньше 1 млн рублей.\n",
    "*Сделайте выводы по полученной диаграмме: как соотносятся медианные уровни желаемой заработной платы и их размах в городах? Как вы считаете, важен ли признак города при прогнозировании заработной платы?*"
   ]
  },
  {
   "cell_type": "code",
   "execution_count": null,
   "id": "973b0cfc-a972-470a-8b4a-68744ef220c4",
   "metadata": {},
   "outputs": [],
   "source": [
    "salary_cities = headhunter_data[headhunter_data['ЗП (руб)'] < 1000000].groupby('Город')['ЗП (руб)'].median()\n",
    "\n",
    "fig = plt.figure(figsize=(9, 5))\n",
    "\n",
    "barplot_salary_cities = sns.barplot(\n",
    "    x = salary_cities.index,\n",
    "    y = salary_cities.values,\n",
    "    palette = 'dark'\n",
    ");\n",
    "barplot_salary_cities.set_title('Ожидаемая зарплата в разрезе городов', fontsize=15);\n",
    "\n",
    "barplot_salary_cities.set_ylabel(\"Медианная запрашиваемая зарплата в рублях\")\n",
    "barplot_salary_cities.grid();"
   ]
  },
  {
   "attachments": {},
   "cell_type": "markdown",
   "id": "2710ce73-2e81-4e38-b52f-833cd14ba47a",
   "metadata": {
    "tags": []
   },
   "source": [
    "* Наибольший уровень ожидаемой заплаты в Москве, далее Санк-Петербург, наименьший в других городах\n",
    "* Город является одним из определяющих факторов при прогнозироании зарплаты."
   ]
  },
  {
   "cell_type": "markdown",
   "id": "3bfcfdaf-755d-4d2b-8ed8-326201dc07ab",
   "metadata": {},
   "source": [
    "6. Постройте **многоуровневую столбчатую диаграмму**, которая показывает зависимость медианной заработной платы (**\"ЗП (руб)\"**) от признаков **\"Готовность к переезду\"** и **\"Готовность к командировкам\"**. Проанализируйте график, сравнив уровень заработной платы в категориях."
   ]
  },
  {
   "cell_type": "code",
   "execution_count": null,
   "id": "69829b5e",
   "metadata": {},
   "outputs": [],
   "source": [
    "fig = plt.figure(figsize=(9, 7))\n",
    "\n",
    "barplot_salary_movers = sns.barplot(\n",
    "    data = headhunter_data,\n",
    "    x = 'Готовность к переезду',\n",
    "    y = 'ЗП (руб)',\n",
    "    palette = 'dark',\n",
    "    hue = 'Готовность к командировкам'\n",
    ");\n",
    "barplot_salary_movers.set_title('Зависимость ожидаемой зарплаты от мобильности', fontsize=15);\n",
    "barplot_salary_movers.set_ylabel(\"Медианная запрашиваемая зарплата в рублях\")\n",
    "barplot_salary_movers.set_xticklabels(['Не готов', 'Готов']);\n",
    "barplot_salary_movers.grid();"
   ]
  },
  {
   "attachments": {},
   "cell_type": "markdown",
   "id": "2f43ba06",
   "metadata": {},
   "source": [
    "* Готовность к перезду, как и готовность к командировкам значительно увеличивает прогнозируему заработную плату."
   ]
  },
  {
   "cell_type": "markdown",
   "id": "7b02bb86-0546-40fb-94a4-242f050a5c57",
   "metadata": {},
   "source": [
    "7. Постройте сводную таблицу, иллюстрирующую зависимость **медианной** желаемой заработной платы от возраста (**\"Возраст\"**) и образования (**\"Образование\"**). На полученной сводной таблице постройте **тепловую карту**. Проанализируйте тепловую карту, сравнив показатели внутри групп."
   ]
  },
  {
   "cell_type": "code",
   "execution_count": null,
   "id": "0a7aff42",
   "metadata": {},
   "outputs": [],
   "source": [
    "age_education_salary = headhunter_data[headhunter_data['ЗП (руб)'] < 1000000].pivot_table(values='ЗП (руб)', index='Образование',\n",
    "                                                                                          columns='Возраст', aggfunc='median')\n",
    "\n",
    "fig = plt.figure(figsize=(10, 5))\n",
    "heatmap = sns.heatmap(data=age_education_salary, cmap='YlGn', annot=False,\n",
    "                      cbar_kws={'label': 'ожидаемая зарплата в рублях'});\n",
    "heatmap.set_title('Тепловая карта зависимости медианной зарплаты \\n от возраста и образования', fontsize=16);"
   ]
  },
  {
   "attachments": {},
   "cell_type": "markdown",
   "id": "3dbfc717",
   "metadata": {},
   "source": [
    "Постройте сводную таблицу, иллюстрирующую зависимость медианной желаемой заработной платы от возраста («Возраст») и образования («Образование»).\n",
    "\n",
    "По полученной сводной таблице постройте тепловую карту.\n",
    "\n",
    "Проанализируйте тепловую карту, сравнив показатели внутри групп."
   ]
  },
  {
   "attachments": {},
   "cell_type": "markdown",
   "id": "7aade1c2-16a0-418c-8427-ad93927c7705",
   "metadata": {},
   "source": [
    "* На тепловой карте можно увидеть, что высшее образование может двать больший прирост ожидаемой заплаты по мере взросления. "
   ]
  },
  {
   "cell_type": "markdown",
   "id": "d0247088-9003-455b-a591-a44650f487c3",
   "metadata": {},
   "source": [
    "8. Постройте **диаграмму рассеяния**, показывающую зависимость опыта работы (**\"Опыт работы (месяц)\"**) от возраста (**\"Возраст\"**). Опыт работы переведите из месяцев в года, чтобы признаки были в едином масштабе. Постройте на графике дополнительно прямую, проходящую через точки (0, 0) и (100, 100). Данная прямая соответствует значениям, когда опыт работы равен возрасту человека. Точки, лежащие на этой прямой и выше нее - аномалии в наших данных (опыт работы больше либо равен возрасту соискателя)"
   ]
  },
  {
   "cell_type": "code",
   "execution_count": null,
   "id": "50b6f622",
   "metadata": {},
   "outputs": [],
   "source": [
    "fig = plt.figure(figsize=(9, 5))\n",
    "experience_age_scatterplot = sns.scatterplot(\n",
    "    data=headhunter_data, \n",
    "    y=headhunter_data['Опыт работы (месяц)'] / 12, \n",
    "    x='Возраст',\n",
    "    hue='Образование',\n",
    "    palette=\"deep\"\n",
    ");\n",
    "experience_age_scatterplot.set_title('Зависимость опыта работы от возраста', fontsize=15);\n",
    "experience_age_scatterplot.set_xlabel('Возраст, лет');\n",
    "experience_age_scatterplot.set_ylabel('Опыт работы, лет');\n",
    "experience_age_scatterplot.plot([0, 100], [0, 100], color='grey');"
   ]
  },
  {
   "attachments": {},
   "cell_type": "markdown",
   "id": "6f9218ff-52c7-4742-b328-4db5d4da7262",
   "metadata": {},
   "source": [
    "* На графике прослеживается, как и ожидалось, зависимость опыта работы от возраста.\n",
    "* Заметно несколько аномалий, лежащих выше серой линии, когда соискатель указал опыт работы больше своего возраста.\n",
    "* Соискатели с вышим образованием в чаще имеют больший опыт работы, чем соискатели со средним специальным образованием."
   ]
  },
  {
   "attachments": {},
   "cell_type": "markdown",
   "id": "4338b5ec",
   "metadata": {},
   "source": [
    "**Дополнительные баллы**\n",
    "\n",
    "Для получения 2 дополнительных баллов по разведывательному анализу постройте еще два любых содержательных графика или диаграммы, которые помогут проиллюстрировать влияние признаков/взаимосвязь между признаками/распределения признаков. Приведите выводы по ним. Желательно, чтобы в анализе участвовали признаки, которые мы создавали ранее в разделе \"Преобразование данных\".\n"
   ]
  },
  {
   "cell_type": "code",
   "execution_count": null,
   "id": "08acf047",
   "metadata": {},
   "outputs": [],
   "source": [
    "# Исследуем готовность соискателей к вахтовому методу работы\n",
    "\n",
    "fig = plt.figure(figsize=(9, 5))\n",
    "barplot_move_cities = sns.barplot(\n",
    "    data=headhunter_data,\n",
    "    x = 'Город',\n",
    "    y = 'вахтовый метод',\n",
    "    palette = 'dark'\n",
    ");\n",
    "barplot_move_cities.set_title('Готовность к вахтовому методу работы в разрезе городов', fontsize=15);\n",
    "barplot_move_cities.set_ylabel(\"Доля готовых к вахтовому методу работы\")\n",
    "barplot_move_cities.grid();"
   ]
  },
  {
   "cell_type": "code",
   "execution_count": null,
   "id": "f183478b",
   "metadata": {},
   "outputs": [],
   "source": [
    "fig = plt.figure(figsize=(9, 5))\n",
    "\n",
    "barplot_move_s= sns.barplot(\n",
    "    data=headhunter_data,\n",
    "    x = 'Пол',\n",
    "    y = 'вахтовый метод',\n",
    "    palette = 'bright'\n",
    ");\n",
    "barplot_move_s.set_title('Готовность к вахтовому методу работы среди мужчин и женщин', fontsize=15);\n",
    "barplot_move_s.set_ylabel(\"Доля готовых к вахтовому методу работы\");\n",
    "barplot_move_s.set_xlabel(None);\n",
    "barplot_move_s.set_xticklabels(['Женщины', 'Мужчины']);\n",
    "barplot_move_s.grid();"
   ]
  },
  {
   "attachments": {},
   "cell_type": "markdown",
   "id": "0cc3b0d5-b551-424d-9956-8da18fce17a1",
   "metadata": {},
   "source": [
    "* Готовность к вахтовому методу работы выше среди мужчин и соискателей из небольших городов."
   ]
  },
  {
   "cell_type": "markdown",
   "id": "b1ef156a-efcb-49ce-bb23-90763e7f35b2",
   "metadata": {
    "tags": []
   },
   "source": [
    "# Очистка данных"
   ]
  },
  {
   "cell_type": "markdown",
   "id": "b9cd50a0-992d-4988-8463-2b2b1c4629b4",
   "metadata": {},
   "source": [
    "1. Начнем с дубликатов в наших данных. Найдите **полные дубликаты** в таблице с резюме и удалите их. "
   ]
  },
  {
   "cell_type": "code",
   "execution_count": null,
   "id": "8de3e257",
   "metadata": {},
   "outputs": [],
   "source": [
    "# Выяснилось, что когда преобразовывали зарплату в рубли, изменили столбец 'Обновление резюме' навсегда обрезов из него время.\n",
    "# Изменяем 'Обновление резюме' оставив в нем только дату. Это столбец влияет на количество полных дубликатов.\n",
    "# Выявляем полные дубликаты и удаляем их.\n",
    "\n",
    "headhunter_data['Обновление резюме'] = headhunter_data['Обновление резюме'].apply(lambda x: str(x)[:10])\n",
    "headhunter_data['Обновление резюме'] = pd.to_datetime(headhunter_data['Обновление резюме'], format=\"%d.%m.%Y\")\n",
    "\n",
    "display(f\"Количество дубликатов {headhunter_data[headhunter_data.duplicated()].shape[0]}\")\n",
    "headhunter_data = headhunter_data.drop(headhunter_data[headhunter_data.duplicated()].index)"
   ]
  },
  {
   "cell_type": "code",
   "execution_count": null,
   "id": "98ce0d71",
   "metadata": {},
   "outputs": [],
   "source": [
    "headhunter_data = headhunter_data.drop(headhunter_data[headhunter_data.duplicated()].index)"
   ]
  },
  {
   "cell_type": "markdown",
   "id": "4dea20cb-a36b-474a-a0b9-e08e8e3857a5",
   "metadata": {},
   "source": [
    "2. Займемся пропусками. Выведите информацию **о числе пропусков** в столбцах. "
   ]
  },
  {
   "cell_type": "code",
   "execution_count": null,
   "id": "9c61b3c0-bb66-46c9-ae1e-81d3f5752b4a",
   "metadata": {},
   "outputs": [],
   "source": [
    "display(headhunter_data.isna().sum())"
   ]
  },
  {
   "cell_type": "markdown",
   "id": "eedceb80-c5ca-480e-b27a-278dfb8b4438",
   "metadata": {},
   "source": [
    "3. Итак, у нас есть пропуски в 3ех столбцах: **\"Опыт работы (месяц)\"**, **\"Последнее/нынешнее место работы\"**, **\"Последняя/нынешняя должность\"**. Поступим следующим образом: удалите строки, где есть пропуск в столбцах с местом работы и должностью. Пропуски в столбце с опытом работы заполните **медианным** значением."
   ]
  },
  {
   "cell_type": "code",
   "execution_count": null,
   "id": "69621713-0cc5-4f1b-a1d7-bb144fa6148c",
   "metadata": {},
   "outputs": [],
   "source": [
    "headhunter_data = headhunter_data.drop(headhunter_data[headhunter_data['Последнее/нынешнее место работы'].isna() \n",
    "                                                       | headhunter_data['Последняя/нынешняя должность'].isna()].index)"
   ]
  },
  {
   "cell_type": "code",
   "execution_count": null,
   "id": "b2bbd5e6",
   "metadata": {},
   "outputs": [],
   "source": [
    "headhunter_data['Опыт работы (месяц)'] = headhunter_data['Опыт работы (месяц)'].fillna(headhunter_data['Опыт работы (месяц)'].median())\n",
    "\n",
    "experience_mean = headhunter_data['Опыт работы (месяц)'].mean()\n",
    "display(f\"Cреднее значение в столбце «Опыт работы (месяц)» после заполнения пропусков: {round(experience_mean)}\")"
   ]
  },
  {
   "cell_type": "markdown",
   "id": "1be1e9c6-37cf-4a5f-bfeb-04cab799dc80",
   "metadata": {},
   "source": [
    "4. Мы добрались до ликвидации выбросов. Сначала очистим данные вручную. Удалите резюме, в которых указана заработная плата либо выше 1 млн. рублей, либо ниже 1 тыс. рублей."
   ]
  },
  {
   "cell_type": "code",
   "execution_count": null,
   "id": "0036a355-9ccf-4564-8b01-73d8194297e7",
   "metadata": {},
   "outputs": [],
   "source": [
    "headhunter_data = headhunter_data.drop(headhunter_data[(headhunter_data['ЗП (руб)'] > 1000000)\n",
    "                                                       | (headhunter_data['ЗП (руб)'] < 1000)].index)"
   ]
  },
  {
   "cell_type": "markdown",
   "id": "ec3c8db7-fa21-4a41-a994-1af63742a642",
   "metadata": {},
   "source": [
    "5. В процессе разведывательного анализа мы обнаружили резюме, в которых **опыт работы в годах превышал возраст соискателя**. Найдите такие резюме и удалите их из данных\n"
   ]
  },
  {
   "cell_type": "code",
   "execution_count": null,
   "id": "949132bc-d5b6-4611-8218-0b9a504d74f4",
   "metadata": {},
   "outputs": [],
   "source": [
    "headhunter_data = headhunter_data.drop(headhunter_data[(headhunter_data['Опыт работы (месяц)'])/12 > headhunter_data['Возраст']].index)"
   ]
  },
  {
   "attachments": {},
   "cell_type": "markdown",
   "id": "1041c17a-ca8f-4543-a0ca-32778914fb00",
   "metadata": {},
   "source": [
    "6. В результате анализа мы обнаружили потенциальные выбросы в признаке **\"Возраст\"**. Это оказались резюме людей чересчур преклонного возраста для поиска работы. Попробуйте построить распределение признака в **логарифмическом масштабе**. Добавьте к графику линии, отображающие **среднее и границы интервала метода трех сигм**. Напомним, сделать это можно с помощью метода axvline. Например, для построение линии среднего будет иметь вид:\n",
    "\n",
    "`histplot.axvline(log_age.mean(), color='k', lw=2)`\n",
    "\n",
    "В какую сторону асимметрично логарифмическое распределение? Напишите об этом в комментарии к графику.\n",
    "Найдите выбросы с помощью метода z-отклонения и удалите их из данных, используйте логарифмический масштаб. Давайте сделаем послабление на **1 сигму** (возьмите 4 сигмы) в **правую сторону**.\n",
    "\n",
    "Выведите таблицу с полученными выбросами и оцените, с каким возрастом соискатели попадают под категорию выбросов?"
   ]
  },
  {
   "cell_type": "code",
   "execution_count": null,
   "id": "4dd18d26",
   "metadata": {},
   "outputs": [],
   "source": [
    "fig = plt.figure(figsize=(9, 5))\n",
    "hist_age_log = sns.histplot(\n",
    "    data = headhunter_data,\n",
    "    x = 'Возраст',\n",
    "    log_scale = True,\n",
    "    bins=20\n",
    ")\n",
    "hist_age_log.set_title('Гистограмма логарифмического распределения \\n соискателей по возрасту', fontsize=15);\n",
    "hist_age_log.set_ylabel('Количество');\n",
    "hist_age_log.set_xlabel('Возраст в логарифмической шкале');\n",
    "\n",
    "age_mean = np.log(headhunter_data['Возраст']).mean() # среднее логарифмированных данных\n",
    "age_sigma = np.log(headhunter_data['Возраст']).std() # сигма логарифмированных данных\n",
    "\n",
    "hist_age_log.axvline(np.exp(age_mean), color='r', lw=2);\n",
    "hist_age_log.axvline(np.exp(age_mean  + age_sigma * 3), linestyle='--', color='r', lw=2);\n",
    "hist_age_log.axvline(np.exp(age_mean  - age_sigma * 3), linestyle='--', color='r', lw=2);"
   ]
  },
  {
   "attachments": {},
   "cell_type": "markdown",
   "id": "1ad4f774",
   "metadata": {},
   "source": [
    "* Логарифмическое распределение возраста соискателей асимметрично. В сторону увеличения возраста плавное снижение, с наличеме больших возрастов выходящих за пределы трех сигма. Возраст ниже среднего имеет дополнительные пики и затем резко снижается, в массе не выходя за границы трех сигм."
   ]
  },
  {
   "cell_type": "code",
   "execution_count": null,
   "id": "48f01bc8",
   "metadata": {},
   "outputs": [],
   "source": [
    "def outliers_z_score_mod(data, feature, log_scale=False,  # функция z-отклонений с опциями логарифмической шкалы, и количества сигм\n",
    "                        left=3, right=3):\n",
    "    if log_scale:\n",
    "        x = np.log(data[feature]+1)\n",
    "    else:\n",
    "        x = data[feature]\n",
    "    mu = x.mean()\n",
    "    sigma = x.std()\n",
    "    lower_bound = mu - left * sigma\n",
    "    upper_bound = mu + right * sigma\n",
    "    outliers = data[(x < lower_bound) | (x > upper_bound)]\n",
    "    cleaned = data[(x > lower_bound) & (x < upper_bound)]\n",
    "    return outliers, cleaned\n",
    "\n",
    "outliers, cleaned  = outliers_z_score_mod(headhunter_data, 'Возраст', log_scale=True, left=3, right=4)\n",
    "\n",
    "display(outliers)\n",
    "headhunter_data = headhunter_data.drop(outliers.index);"
   ]
  },
  {
   "attachments": {},
   "cell_type": "markdown",
   "id": "6a7892b4-4113-4746-adce-18aa2844f18e",
   "metadata": {},
   "source": [
    "*  В таблицу выбросов попали записи с возрастом 15 лет и младше."
   ]
  }
 ],
 "metadata": {
  "kernelspec": {
   "display_name": "Python 3 (ipykernel)",
   "language": "python",
   "name": "python3"
  },
  "language_info": {
   "codemirror_mode": {
    "name": "ipython",
    "version": 3
   },
   "file_extension": ".py",
   "mimetype": "text/x-python",
   "name": "python",
   "nbconvert_exporter": "python",
   "pygments_lexer": "ipython3",
   "version": "3.11.2"
  }
 },
 "nbformat": 4,
 "nbformat_minor": 5
}
