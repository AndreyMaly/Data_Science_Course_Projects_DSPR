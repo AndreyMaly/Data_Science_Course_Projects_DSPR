{
 "cells": [
  {
   "cell_type": "code",
   "execution_count": 4,
   "metadata": {},
   "outputs": [],
   "source": [
    "#импорт библиотек\n",
    "import numpy as np #для матричных вычислений\n",
    "import pandas as pd #для анализа и предобработки данных\n",
    "import matplotlib.pyplot as plt #для визуализации\n",
    "import seaborn as sns #для визуализации\n",
    "\n",
    "from sklearn import linear_model #линейные моделиё\n",
    "from sklearn import tree #деревья решений\n",
    "from sklearn import ensemble #ансамбли\n",
    "from sklearn import metrics #метрики\n",
    "from sklearn import preprocessing #предобработка\n",
    "from sklearn.model_selection import train_test_split #сплитование выборки\n",
    "\n",
    "%matplotlib inline\n",
    "plt.style.use('seaborn-v0_8')"
   ]
  },
  {
   "cell_type": "code",
   "execution_count": 5,
   "metadata": {},
   "outputs": [],
   "source": [
    "# задаем значение random_state, которое будем использовать в моделях \n",
    "RANDOM_STATE = 42"
   ]
  },
  {
   "attachments": {},
   "cell_type": "markdown",
   "metadata": {},
   "source": [
    "## Описание задачи.\n",
    "\n",
    "* Необходимо обучить две модели: логистическую регрессию и случайный лес.  \n",
    "* Далее нужно сделать подбор гиперпараметров с помощью базовых и продвинутых методов оптимизации.  \n",
    "* Важно использовать все четыре метода (GridSeachCV, RandomizedSearchCV, Hyperopt, Optuna) хотя бы по разу, максимальное количество итераций не должно превышать 50.\n",
    "* В качестве метрики будем использовать F1-score.\n",
    "* Предварительная обработка не требуется, данные уже закодированы и нормализованы."
   ]
  },
  {
   "attachments": {},
   "cell_type": "markdown",
   "metadata": {},
   "source": [
    "### Загружаем данные."
   ]
  },
  {
   "cell_type": "code",
   "execution_count": 6,
   "metadata": {
    "slideshow": {
     "slide_type": "slide"
    }
   },
   "outputs": [
    {
     "data": {
      "text/html": [
       "<div>\n",
       "<style scoped>\n",
       "    .dataframe tbody tr th:only-of-type {\n",
       "        vertical-align: middle;\n",
       "    }\n",
       "\n",
       "    .dataframe tbody tr th {\n",
       "        vertical-align: top;\n",
       "    }\n",
       "\n",
       "    .dataframe thead th {\n",
       "        text-align: right;\n",
       "    }\n",
       "</style>\n",
       "<table border=\"1\" class=\"dataframe\">\n",
       "  <thead>\n",
       "    <tr style=\"text-align: right;\">\n",
       "      <th></th>\n",
       "      <th>Activity</th>\n",
       "      <th>D1</th>\n",
       "      <th>D2</th>\n",
       "      <th>D3</th>\n",
       "      <th>D4</th>\n",
       "      <th>D5</th>\n",
       "      <th>D6</th>\n",
       "      <th>D7</th>\n",
       "      <th>D8</th>\n",
       "      <th>D9</th>\n",
       "      <th>...</th>\n",
       "      <th>D1767</th>\n",
       "      <th>D1768</th>\n",
       "      <th>D1769</th>\n",
       "      <th>D1770</th>\n",
       "      <th>D1771</th>\n",
       "      <th>D1772</th>\n",
       "      <th>D1773</th>\n",
       "      <th>D1774</th>\n",
       "      <th>D1775</th>\n",
       "      <th>D1776</th>\n",
       "    </tr>\n",
       "  </thead>\n",
       "  <tbody>\n",
       "    <tr>\n",
       "      <th>0</th>\n",
       "      <td>1</td>\n",
       "      <td>0.000000</td>\n",
       "      <td>0.497009</td>\n",
       "      <td>0.10</td>\n",
       "      <td>0.0</td>\n",
       "      <td>0.132956</td>\n",
       "      <td>0.678031</td>\n",
       "      <td>0.273166</td>\n",
       "      <td>0.585445</td>\n",
       "      <td>0.743663</td>\n",
       "      <td>...</td>\n",
       "      <td>0</td>\n",
       "      <td>0</td>\n",
       "      <td>0</td>\n",
       "      <td>0</td>\n",
       "      <td>0</td>\n",
       "      <td>0</td>\n",
       "      <td>0</td>\n",
       "      <td>0</td>\n",
       "      <td>0</td>\n",
       "      <td>0</td>\n",
       "    </tr>\n",
       "    <tr>\n",
       "      <th>1</th>\n",
       "      <td>1</td>\n",
       "      <td>0.366667</td>\n",
       "      <td>0.606291</td>\n",
       "      <td>0.05</td>\n",
       "      <td>0.0</td>\n",
       "      <td>0.111209</td>\n",
       "      <td>0.803455</td>\n",
       "      <td>0.106105</td>\n",
       "      <td>0.411754</td>\n",
       "      <td>0.836582</td>\n",
       "      <td>...</td>\n",
       "      <td>1</td>\n",
       "      <td>1</td>\n",
       "      <td>1</td>\n",
       "      <td>1</td>\n",
       "      <td>0</td>\n",
       "      <td>1</td>\n",
       "      <td>0</td>\n",
       "      <td>0</td>\n",
       "      <td>1</td>\n",
       "      <td>0</td>\n",
       "    </tr>\n",
       "    <tr>\n",
       "      <th>2</th>\n",
       "      <td>1</td>\n",
       "      <td>0.033300</td>\n",
       "      <td>0.480124</td>\n",
       "      <td>0.00</td>\n",
       "      <td>0.0</td>\n",
       "      <td>0.209791</td>\n",
       "      <td>0.610350</td>\n",
       "      <td>0.356453</td>\n",
       "      <td>0.517720</td>\n",
       "      <td>0.679051</td>\n",
       "      <td>...</td>\n",
       "      <td>0</td>\n",
       "      <td>0</td>\n",
       "      <td>0</td>\n",
       "      <td>0</td>\n",
       "      <td>0</td>\n",
       "      <td>0</td>\n",
       "      <td>0</td>\n",
       "      <td>0</td>\n",
       "      <td>0</td>\n",
       "      <td>0</td>\n",
       "    </tr>\n",
       "    <tr>\n",
       "      <th>3</th>\n",
       "      <td>1</td>\n",
       "      <td>0.000000</td>\n",
       "      <td>0.538825</td>\n",
       "      <td>0.00</td>\n",
       "      <td>0.5</td>\n",
       "      <td>0.196344</td>\n",
       "      <td>0.724230</td>\n",
       "      <td>0.235606</td>\n",
       "      <td>0.288764</td>\n",
       "      <td>0.805110</td>\n",
       "      <td>...</td>\n",
       "      <td>0</td>\n",
       "      <td>0</td>\n",
       "      <td>0</td>\n",
       "      <td>0</td>\n",
       "      <td>0</td>\n",
       "      <td>0</td>\n",
       "      <td>0</td>\n",
       "      <td>0</td>\n",
       "      <td>0</td>\n",
       "      <td>0</td>\n",
       "    </tr>\n",
       "    <tr>\n",
       "      <th>4</th>\n",
       "      <td>0</td>\n",
       "      <td>0.100000</td>\n",
       "      <td>0.517794</td>\n",
       "      <td>0.00</td>\n",
       "      <td>0.0</td>\n",
       "      <td>0.494734</td>\n",
       "      <td>0.781422</td>\n",
       "      <td>0.154361</td>\n",
       "      <td>0.303809</td>\n",
       "      <td>0.812646</td>\n",
       "      <td>...</td>\n",
       "      <td>0</td>\n",
       "      <td>0</td>\n",
       "      <td>0</td>\n",
       "      <td>0</td>\n",
       "      <td>0</td>\n",
       "      <td>0</td>\n",
       "      <td>0</td>\n",
       "      <td>0</td>\n",
       "      <td>0</td>\n",
       "      <td>0</td>\n",
       "    </tr>\n",
       "  </tbody>\n",
       "</table>\n",
       "<p>5 rows × 1777 columns</p>\n",
       "</div>"
      ],
      "text/plain": [
       "   Activity        D1        D2    D3   D4        D5        D6        D7  \\\n",
       "0         1  0.000000  0.497009  0.10  0.0  0.132956  0.678031  0.273166   \n",
       "1         1  0.366667  0.606291  0.05  0.0  0.111209  0.803455  0.106105   \n",
       "2         1  0.033300  0.480124  0.00  0.0  0.209791  0.610350  0.356453   \n",
       "3         1  0.000000  0.538825  0.00  0.5  0.196344  0.724230  0.235606   \n",
       "4         0  0.100000  0.517794  0.00  0.0  0.494734  0.781422  0.154361   \n",
       "\n",
       "         D8        D9  ...  D1767  D1768  D1769  D1770  D1771  D1772  D1773  \\\n",
       "0  0.585445  0.743663  ...      0      0      0      0      0      0      0   \n",
       "1  0.411754  0.836582  ...      1      1      1      1      0      1      0   \n",
       "2  0.517720  0.679051  ...      0      0      0      0      0      0      0   \n",
       "3  0.288764  0.805110  ...      0      0      0      0      0      0      0   \n",
       "4  0.303809  0.812646  ...      0      0      0      0      0      0      0   \n",
       "\n",
       "   D1774  D1775  D1776  \n",
       "0      0      0      0  \n",
       "1      0      1      0  \n",
       "2      0      0      0  \n",
       "3      0      0      0  \n",
       "4      0      0      0  \n",
       "\n",
       "[5 rows x 1777 columns]"
      ]
     },
     "execution_count": 6,
     "metadata": {},
     "output_type": "execute_result"
    }
   ],
   "source": [
    "data = pd.read_csv('data/_train_sem09__1_.zip', compression='zip')\n",
    "data.head()"
   ]
  },
  {
   "attachments": {},
   "cell_type": "markdown",
   "metadata": {},
   "source": [
    "### По условиям предобработка не требуется.\n",
    "* Данные предварительно закодированы и нормализованы.\n",
    "* Проверяем отсутвие пропусков."
   ]
  },
  {
   "cell_type": "code",
   "execution_count": 7,
   "metadata": {},
   "outputs": [
    {
     "data": {
      "text/plain": [
       "0"
      ]
     },
     "execution_count": 7,
     "metadata": {},
     "output_type": "execute_result"
    }
   ],
   "source": [
    "data.isna().sum().sum()"
   ]
  },
  {
   "cell_type": "code",
   "execution_count": 8,
   "metadata": {},
   "outputs": [
    {
     "name": "stdout",
     "output_type": "stream",
     "text": [
      "<class 'pandas.core.frame.DataFrame'>\n",
      "RangeIndex: 3751 entries, 0 to 3750\n",
      "Columns: 1777 entries, Activity to D1776\n",
      "dtypes: float64(942), int64(835)\n",
      "memory usage: 50.9 MB\n"
     ]
    }
   ],
   "source": [
    "data.info()"
   ]
  },
  {
   "attachments": {},
   "cell_type": "markdown",
   "metadata": {},
   "source": [
    "### Выделяем целевой признак. Проверяем сбалансированность."
   ]
  },
  {
   "cell_type": "code",
   "execution_count": 9,
   "metadata": {},
   "outputs": [
    {
     "data": {
      "text/plain": [
       "((3751, 1776), (3751,))"
      ]
     },
     "execution_count": 9,
     "metadata": {},
     "output_type": "execute_result"
    }
   ],
   "source": [
    "X = data.drop(columns='Activity')\n",
    "y = data['Activity']\n",
    "X.shape, y.shape"
   ]
  },
  {
   "cell_type": "code",
   "execution_count": 10,
   "metadata": {},
   "outputs": [
    {
     "data": {
      "text/plain": [
       "1    0.542255\n",
       "0    0.457745\n",
       "Name: Activity, dtype: float64"
      ]
     },
     "execution_count": 10,
     "metadata": {},
     "output_type": "execute_result"
    }
   ],
   "source": [
    "y.value_counts(True)"
   ]
  },
  {
   "attachments": {},
   "cell_type": "markdown",
   "metadata": {},
   "source": [
    "> Целевой признак бинарный. Выборка достаточно сбалансирована. Стратификация не требуется."
   ]
  },
  {
   "attachments": {},
   "cell_type": "markdown",
   "metadata": {},
   "source": [
    "### Для обучения и оценки моделей разбиваем датасет на трейн и тест."
   ]
  },
  {
   "cell_type": "code",
   "execution_count": 11,
   "metadata": {},
   "outputs": [],
   "source": [
    "X_train, X_test, y_train, y_test = train_test_split(X, y, test_size=0.2, random_state=RANDOM_STATE)"
   ]
  },
  {
   "attachments": {},
   "cell_type": "markdown",
   "metadata": {},
   "source": [
    "### Создаем модель логистической регрессии с параметрами по умолчанию.\n",
    "* В качестве метрики будем использовать F1_score "
   ]
  },
  {
   "cell_type": "code",
   "execution_count": 12,
   "metadata": {},
   "outputs": [
    {
     "name": "stdout",
     "output_type": "stream",
     "text": [
      "accuracy на тестовом наборе: 0.75\n",
      "f1_score на трейн: 0.89\n",
      "f1_score на тест: 0.79\n"
     ]
    }
   ],
   "source": [
    "log_reg = linear_model.LogisticRegression(max_iter = 1000)\n",
    "log_reg.fit(X_train, y_train)\n",
    "\n",
    "y_train_pred = log_reg.predict(X_train)\n",
    "y_test_pred = log_reg.predict(X_test)\n",
    "print(f'accuracy на тестовом наборе: {metrics.accuracy_score(y_test, y_test_pred):.2f}')\n",
    "print(f'f1_score на трейн: {metrics.f1_score(y_train, y_train_pred):.2f}')\n",
    "print(f'f1_score на тест: {metrics.f1_score(y_test, y_test_pred):.2f}')"
   ]
  },
  {
   "attachments": {},
   "cell_type": "markdown",
   "metadata": {},
   "source": [
    "### Для поиска оптимальных гиперпараметров логистичекой регрессии используем RandomizedSearchCV\n",
    "* метрика для оценки F1_score"
   ]
  },
  {
   "cell_type": "code",
   "execution_count": 13,
   "metadata": {},
   "outputs": [
    {
     "name": "stdout",
     "output_type": "stream",
     "text": [
      "CPU times: user 50.1 s, sys: 504 ms, total: 50.6 s\n",
      "Wall time: 6min 12s\n",
      "accuracy на тестовом наборе: 0.76\n",
      "f1_score на тестовом наборе: 0.79\n",
      "Наилучшие значения гиперпараметров: {'solver': 'saga', 'penalty': 'l1', 'C': 0.45}\n"
     ]
    }
   ],
   "source": [
    "from sklearn.model_selection import RandomizedSearchCV\n",
    "\n",
    "# задаем сетку гиперпараметров\n",
    "param_distributions = [{'penalty': ['l2'] ,\n",
    "              'solver': ['lbfgs', 'sag', 'saga', 'newton-cg', 'liblinear'],\n",
    "               'C': list(np.linspace(0.01, 1, 10))\n",
    "               },\n",
    "                       {'penalty': ['l1'] ,\n",
    "              'solver': ['liblinear', 'saga'],\n",
    "              'C': list(np.linspace(0.01, 1, 10))\n",
    "               },]\n",
    "            \n",
    "random_search = RandomizedSearchCV(\n",
    "    estimator=linear_model.LogisticRegression(random_state=RANDOM_STATE, max_iter=10000), \n",
    "    param_distributions=param_distributions, \n",
    "    cv=5, \n",
    "    n_iter = 50,\n",
    "    n_jobs = -1\n",
    ")  \n",
    "%time random_search.fit(X_train, y_train) \n",
    "print(\"accuracy на тестовом наборе: {:.2f}\".format(random_search.score(X_test, y_test)))\n",
    "y_test_pred = random_search.predict(X_test)\n",
    "print('f1_score на тестовом наборе: {:.2f}'.format(metrics.f1_score(y_test, y_test_pred)))\n",
    "print(\"Наилучшие значения гиперпараметров: {}\".format(random_search.best_params_))"
   ]
  },
  {
   "attachments": {},
   "cell_type": "markdown",
   "metadata": {},
   "source": [
    "> * Выбранные RandomizedSearchCV гиперпараметры дают f1_score анлогичную бейзмодел (с парараметрами по умолчанию).  \n",
    "> * Едва заметно улучшение accuracy 0.76 vs 0.75  \n",
    "> * Mожно отметить, что подбирались гиперпараметры для минизации лосс-функции, что не всегда равносильно лучшему f1_score."
   ]
  },
  {
   "attachments": {},
   "cell_type": "markdown",
   "metadata": {},
   "source": [
    "### Используем Hyperopt для подбора параметров на основе баесовской оптимизации"
   ]
  },
  {
   "cell_type": "code",
   "execution_count": 14,
   "metadata": {},
   "outputs": [],
   "source": [
    "from sklearn.model_selection import cross_val_score\n",
    "import hyperopt\n",
    "from hyperopt import hp, fmin, tpe, Trials, space_eval\n",
    "# fmin - основная функция, она будет минимизировать наш функционал\n",
    "# tpe - алгоритм оптимизации\n",
    "# hp - включает набор методов для объявления пространства поиска гиперпараметров\n",
    "# trails - используется для логирования результатов"
   ]
  },
  {
   "cell_type": "code",
   "execution_count": 15,
   "metadata": {},
   "outputs": [],
   "source": [
    "# зададим пространство поиска гиперпараметров\n",
    "space_lr = hp.choice('penalty_ch',[\n",
    "                     {'penalty': 'l2',\n",
    "                      'solver': hp.choice('solver1', ['lbfgs', 'sag', 'saga', 'newton-cg', 'liblinear']),\n",
    "                      'C': hp.uniform('C1', 0.01, 1)},\n",
    "                     {'penalty': 'l1',\n",
    "                      'solver': hp.choice('solver2', ['liblinear', 'saga']),\n",
    "                      'C': hp.uniform('C2', 0.01, 1)},\n",
    "                     ])"
   ]
  },
  {
   "cell_type": "code",
   "execution_count": 16,
   "metadata": {},
   "outputs": [],
   "source": [
    "# зададим функцию, для оценки используем f1_score\n",
    "def hyperopt_lr(params, X_train=X_train, y_train=y_train, random_state=RANDOM_STATE):\n",
    "    params = {'penalty': params['penalty'], \n",
    "              'solver': params['solver'],\n",
    "              'C': params['C']\n",
    "              }\n",
    "    log_reg = linear_model.LogisticRegression(**params, random_state=random_state, max_iter = 10000)\n",
    "    log_reg.fit(X_train, y_train)\n",
    "    score = metrics.f1_score(y_train, log_reg.predict(X_train))\n",
    "    return -score"
   ]
  },
  {
   "cell_type": "code",
   "execution_count": 17,
   "metadata": {},
   "outputs": [
    {
     "name": "stdout",
     "output_type": "stream",
     "text": [
      "100%|██████████| 50/50 [06:58<00:00,  8.38s/trial, best loss: -0.8868274582560297]\n",
      "Наилучшие значения гиперпараметров {'C': 0.9940195730782141, 'penalty': 'l2', 'solver': 'liblinear'}\n",
      "CPU times: user 9min 5s, sys: 58.8 s, total: 10min 4s\n",
      "Wall time: 6min 58s\n"
     ]
    }
   ],
   "source": [
    "%%time\n",
    "trials = Trials() # используется для логирования результатов\n",
    "\n",
    "best=fmin(hyperopt_lr, # наша функция \n",
    "          space=space_lr, # пространство гиперпараметров\n",
    "          algo=tpe.suggest, # алгоритм оптимизации, установлен по умолчанию, задавать необязательно\n",
    "          max_evals=50, # максимальное количество итераций\n",
    "          trials=trials, # логирование результатов\n",
    "          rstate=np.random.default_rng(RANDOM_STATE)\n",
    "         )\n",
    "print(f'Наилучшие значения гиперпараметров {space_eval(space_lr, best)}')"
   ]
  },
  {
   "cell_type": "code",
   "execution_count": 18,
   "metadata": {},
   "outputs": [
    {
     "name": "stdout",
     "output_type": "stream",
     "text": [
      "accuracy на тестовом наборе: 0.75\n",
      "f1_score на трейн: 0.89\n",
      "f1_score на тест: 0.79\n"
     ]
    }
   ],
   "source": [
    "# рассчитаем для тестовой выборки\n",
    "log_reg_ho = linear_model.LogisticRegression(max_iter = 10000,\n",
    "                                             penalty='l2',\n",
    "                                             solver='liblinear',\n",
    "                                             C=0.99)\n",
    "log_reg_ho.fit(X_train, y_train)\n",
    "\n",
    "y_train_pred = log_reg_ho.predict(X_train)\n",
    "y_test_pred = log_reg_ho.predict(X_test)\n",
    "print(f'accuracy на тестовом наборе: {metrics.accuracy_score(y_test, y_test_pred):.2f}')\n",
    "print(f'f1_score на трейн: {metrics.f1_score(y_train, y_train_pred):.2f}')\n",
    "print(f'f1_score на тест: {metrics.f1_score(y_test, y_test_pred):.2f}')\n"
   ]
  },
  {
   "attachments": {},
   "cell_type": "markdown",
   "metadata": {},
   "source": [
    "> * Выбранные Hyperopt гиперпараметры дают f1_score аналогичную бейзмодел (с парараметрами по умолчанию).   \n",
    "> * f1_score на трейн значительно превышает тест, попробуем использовать для оценки кросс-валидацию."
   ]
  },
  {
   "cell_type": "code",
   "execution_count": 19,
   "metadata": {},
   "outputs": [],
   "source": [
    "# задаем функцию оценки с использованием кросс-валидации\n",
    "def hyperopt_lr_cv(params, cv=5, X_train=X_train, y_train=y_train, random_state=RANDOM_STATE):\n",
    "    # функция получает комбинацию гиперпараметров в \"params\"\n",
    "    params = {'penalty': params['penalty'], \n",
    "              'solver': params['solver'],\n",
    "              'C': params['C']\n",
    "              }\n",
    "  \n",
    "    log_reg = linear_model.LogisticRegression(**params, random_state=random_state, max_iter = 10000)\n",
    "    \n",
    "    \n",
    "    # обучать модель можно также с помощью кросс-валидации\n",
    "    # применим  cross validation с тем же количеством фолдов\n",
    "    score = cross_val_score(log_reg, X_train, y_train, cv=cv, scoring=\"f1\", n_jobs=-1).mean()\n",
    "\n",
    "    # метрику необходимо минимизировать, поэтому ставим знак минус\n",
    "    return -score"
   ]
  },
  {
   "cell_type": "code",
   "execution_count": 20,
   "metadata": {},
   "outputs": [
    {
     "name": "stdout",
     "output_type": "stream",
     "text": [
      "100%|██████████| 50/50 [07:57<00:00,  9.55s/trial, best loss: -0.7866466124784772]\n",
      "Наилучшие значения гиперпараметров {'C': 0.05084775379720359, 'penalty': 'l2', 'solver': 'lbfgs'}\n",
      "CPU times: user 586 ms, sys: 660 ms, total: 1.25 s\n",
      "Wall time: 7min 57s\n"
     ]
    }
   ],
   "source": [
    "%%time\n",
    "trials_cv = Trials() # используется для логирования результатов\n",
    "\n",
    "best=fmin(hyperopt_lr_cv, # наша функция \n",
    "          space=space_lr, # пространство гиперпараметров\n",
    "          algo=tpe.suggest, # алгоритм оптимизации, установлен по умолчанию, задавать необязательно\n",
    "          max_evals=50, # максимальное количество итераций\n",
    "          trials=trials_cv, # логирование результатов\n",
    "          rstate=np.random.default_rng(RANDOM_STATE)\n",
    "         )\n",
    "print(f'Наилучшие значения гиперпараметров {space_eval(space_lr, best)}')"
   ]
  },
  {
   "cell_type": "code",
   "execution_count": 21,
   "metadata": {},
   "outputs": [
    {
     "name": "stdout",
     "output_type": "stream",
     "text": [
      "accuracy на тестовом наборе: 0.76\n",
      "f1_score на трейн: 0.84\n",
      "f1_score на тест: 0.79\n"
     ]
    }
   ],
   "source": [
    "# рассчитаем для тестовой выборки\n",
    "log_reg_ho_vs = linear_model.LogisticRegression(max_iter = 10000,\n",
    "                                          penalty='l2',\n",
    "                                          solver='lbfgs',\n",
    "                                          C=0.05)\n",
    "log_reg_ho_vs.fit(X_train, y_train)\n",
    "\n",
    "y_train_pred = log_reg_ho_vs.predict(X_train)\n",
    "y_test_pred = log_reg_ho_vs.predict(X_test)\n",
    "print(f'accuracy на тестовом наборе: {metrics.accuracy_score(y_test, y_test_pred):.2f}')\n",
    "print(f'f1_score на трейн: {metrics.f1_score(y_train, y_train_pred):.2f}')\n",
    "print(f'f1_score на тест: {metrics.f1_score(y_test, y_test_pred):.2f}')\n"
   ]
  },
  {
   "attachments": {},
   "cell_type": "markdown",
   "metadata": {},
   "source": [
    "> * Нам по прежнему не удалось добиться улучшения f1_score.\n",
    "> * Возможно качество последней модели чуть-чуть лучше, так как f1_score на трейн и тест ближе, и accuracy хоть и на один пункт, но выше бейзмодел.\n",
    "> * В целом уже на этапе RandomizedSearchCV стало понятно, что подбор гиперпараметров в данном случае не дает существенного улчшения метрики для логистической регрессии.\n",
    "> * Можно пробовать другую модель."
   ]
  },
  {
   "attachments": {},
   "cell_type": "markdown",
   "metadata": {},
   "source": [
    "### Создаем Случаный лес - RandomForestClassifier с параметрами по умолчанию"
   ]
  },
  {
   "cell_type": "code",
   "execution_count": 22,
   "metadata": {},
   "outputs": [
    {
     "name": "stdout",
     "output_type": "stream",
     "text": [
      "accuracy на тестовом наборе: 0.80\n",
      "f1_score на трейн: 1.00\n",
      "f1_score на тест: 0.83\n"
     ]
    }
   ],
   "source": [
    "#Создаем объект класса случайный лес\n",
    "rf = ensemble.RandomForestClassifier(random_state=RANDOM_STATE)\n",
    "\n",
    "#Обучаем модель\n",
    "rf.fit(X_train, y_train)\n",
    "#Выводим значения метрики \n",
    "y_train_pred = rf.predict(X_train)\n",
    "y_test_pred = rf.predict(X_test)\n",
    "\n",
    "print(f'accuracy на тестовом наборе: {metrics.accuracy_score(y_test, y_test_pred):.2f}')\n",
    "print(f'f1_score на трейн: {metrics.f1_score(y_train, y_train_pred):.2f}')\n",
    "print(f'f1_score на тест: {metrics.f1_score(y_test, y_test_pred):.2f}')"
   ]
  },
  {
   "attachments": {},
   "cell_type": "markdown",
   "metadata": {},
   "source": [
    "> * RandomForestClassifier показывает метрики лучше, чем удалось добиться с LogisticRegression."
   ]
  },
  {
   "attachments": {},
   "cell_type": "markdown",
   "metadata": {},
   "source": [
    "### Для подбора гиперпараметров используем GridSearchCV"
   ]
  },
  {
   "cell_type": "code",
   "execution_count": 23,
   "metadata": {},
   "outputs": [
    {
     "name": "stdout",
     "output_type": "stream",
     "text": [
      "CPU times: user 1.65 s, sys: 212 ms, total: 1.86 s\n",
      "Wall time: 1min 6s\n",
      "accuracy на тестовом наборе: 0.80\n",
      "f1_score на трейн: 0.99\n",
      "f1_score на тест: 0.83\n",
      "Наилучшие значения гиперпараметров: {'max_depth': 15, 'min_samples_leaf': 1, 'n_estimators': 75}\n"
     ]
    }
   ],
   "source": [
    "from sklearn.model_selection import GridSearchCV\n",
    "\n",
    "param_grid = {'n_estimators': list(range(50, 200, 25)),\n",
    "              'min_samples_leaf': [1, 2, 5, 7],\n",
    "              'max_depth': list(np.linspace(10, 30, 5, dtype=int))\n",
    "              }\n",
    "            \n",
    "grid_search_forest = GridSearchCV(\n",
    "    estimator=ensemble.RandomForestClassifier(random_state=RANDOM_STATE), \n",
    "    param_grid=param_grid, \n",
    "    cv=5, \n",
    "    n_jobs = -1\n",
    ")  \n",
    "%time grid_search_forest.fit(X_train, y_train) \n",
    "y_train_pred = grid_search_forest.predict(X_train)\n",
    "y_test_pred = grid_search_forest.predict(X_test)\n",
    "\n",
    "\n",
    "print(f'accuracy на тестовом наборе: {metrics.accuracy_score(y_test, y_test_pred):.2f}')\n",
    "print(f'f1_score на трейн: {metrics.f1_score(y_train, y_train_pred):.2f}')\n",
    "print(f'f1_score на тест: {metrics.f1_score(y_test, y_test_pred):.2f}')\n",
    "print(f\"Наилучшие значения гиперпараметров: {grid_search_forest.best_params_}\")"
   ]
  },
  {
   "attachments": {},
   "cell_type": "markdown",
   "metadata": {},
   "source": [
    "> * Найденные GridSearchCV гиперпараметры не показывают существенного отличия метрики от базовой."
   ]
  },
  {
   "attachments": {},
   "cell_type": "markdown",
   "metadata": {},
   "source": [
    "### Используем библиотеку Optuna для поиска оптимальных гиперпараметров"
   ]
  },
  {
   "cell_type": "code",
   "execution_count": 24,
   "metadata": {},
   "outputs": [
    {
     "name": "stdout",
     "output_type": "stream",
     "text": [
      "Версия Optuna: 3.2.0\n"
     ]
    }
   ],
   "source": [
    "import optuna\n",
    "print(\"Версия Optuna: {}\".format(optuna.__version__))"
   ]
  },
  {
   "cell_type": "code",
   "execution_count": 44,
   "metadata": {},
   "outputs": [],
   "source": [
    "# задаем оценивающую фукцию с сеткой гиперпараметров для алгоритма случайного леса \n",
    "def optuna_rf_cv(trial, X_train=X_train, y_train=y_train, cv=5, random_state=RANDOM_STATE):\n",
    "    # определяем пространства поиска гиперпараметров\n",
    "    n_estimators = trial.suggest_int('n_estimators', 50, 200, 2)\n",
    "    max_depth = trial.suggest_int('max_depth', 10, 30, 1)\n",
    "    min_samples_leaf = trial.suggest_int('min_samples_leaf', 1, 10, 1)\n",
    "    criterion = trial.suggest_categorical('criterion', ['gini', 'entropy', 'log_loss'])\n",
    "\n",
    "    # создаем модель\n",
    "    model = ensemble.RandomForestClassifier(n_estimators=n_estimators,\n",
    "                                          max_depth=max_depth,\n",
    "                                          min_samples_leaf=min_samples_leaf,\n",
    "                                          random_state=random_state,\n",
    "                                          criterion=criterion\n",
    "                                          )\n",
    "    # используем крос-валидацию\n",
    "    score = cross_val_score(model, X_train, y_train, cv=cv, scoring=\"f1\", n_jobs=-1).mean()\n",
    "\n",
    "    return score\n",
    "  "
   ]
  },
  {
   "cell_type": "code",
   "execution_count": 56,
   "metadata": {},
   "outputs": [
    {
     "name": "stderr",
     "output_type": "stream",
     "text": [
      "[I 2023-06-01 15:44:52,997] A new study created in memory with name: RandomForestClassifier_cv\n",
      "[I 2023-06-01 15:44:54,352] Trial 0 finished with value: 0.7914935481406152 and parameters: {'n_estimators': 72, 'max_depth': 18, 'min_samples_leaf': 10, 'criterion': 'log_loss'}. Best is trial 0 with value: 0.7914935481406152.\n",
      "[I 2023-06-01 15:44:55,202] Trial 1 finished with value: 0.8013565082088345 and parameters: {'n_estimators': 60, 'max_depth': 10, 'min_samples_leaf': 1, 'criterion': 'entropy'}. Best is trial 1 with value: 0.8013565082088345.\n",
      "[I 2023-06-01 15:44:56,019] Trial 2 finished with value: 0.7898349947095099 and parameters: {'n_estimators': 60, 'max_depth': 18, 'min_samples_leaf': 10, 'criterion': 'entropy'}. Best is trial 1 with value: 0.8013565082088345.\n",
      "[I 2023-06-01 15:44:56,866] Trial 3 finished with value: 0.803002161741278 and parameters: {'n_estimators': 52, 'max_depth': 23, 'min_samples_leaf': 2, 'criterion': 'gini'}. Best is trial 3 with value: 0.803002161741278.\n",
      "[I 2023-06-01 15:44:57,905] Trial 4 finished with value: 0.8012605639244686 and parameters: {'n_estimators': 150, 'max_depth': 14, 'min_samples_leaf': 6, 'criterion': 'log_loss'}. Best is trial 3 with value: 0.803002161741278.\n",
      "[I 2023-06-01 15:44:58,672] Trial 5 finished with value: 0.7947957258527636 and parameters: {'n_estimators': 98, 'max_depth': 23, 'min_samples_leaf': 7, 'criterion': 'entropy'}. Best is trial 3 with value: 0.803002161741278.\n",
      "[I 2023-06-01 15:44:59,635] Trial 6 finished with value: 0.8111399943436088 and parameters: {'n_estimators': 114, 'max_depth': 22, 'min_samples_leaf': 3, 'criterion': 'log_loss'}. Best is trial 6 with value: 0.8111399943436088.\n",
      "[I 2023-06-01 15:45:00,481] Trial 7 finished with value: 0.797924769822929 and parameters: {'n_estimators': 124, 'max_depth': 30, 'min_samples_leaf': 7, 'criterion': 'gini'}. Best is trial 6 with value: 0.8111399943436088.\n",
      "[I 2023-06-01 15:45:02,219] Trial 8 finished with value: 0.8054544150408859 and parameters: {'n_estimators': 198, 'max_depth': 29, 'min_samples_leaf': 1, 'criterion': 'log_loss'}. Best is trial 6 with value: 0.8111399943436088.\n",
      "[I 2023-06-01 15:45:03,417] Trial 9 finished with value: 0.807363805930254 and parameters: {'n_estimators': 154, 'max_depth': 19, 'min_samples_leaf': 4, 'criterion': 'entropy'}. Best is trial 6 with value: 0.8111399943436088.\n",
      "[I 2023-06-01 15:45:04,358] Trial 10 finished with value: 0.8083286196167716 and parameters: {'n_estimators': 112, 'max_depth': 25, 'min_samples_leaf': 4, 'criterion': 'log_loss'}. Best is trial 6 with value: 0.8111399943436088.\n",
      "[I 2023-06-01 15:45:05,252] Trial 11 finished with value: 0.808702204523432 and parameters: {'n_estimators': 108, 'max_depth': 25, 'min_samples_leaf': 4, 'criterion': 'log_loss'}. Best is trial 6 with value: 0.8111399943436088.\n",
      "[I 2023-06-01 15:45:06,051] Trial 12 finished with value: 0.8085683478146077 and parameters: {'n_estimators': 92, 'max_depth': 25, 'min_samples_leaf': 4, 'criterion': 'log_loss'}. Best is trial 6 with value: 0.8111399943436088.\n",
      "[I 2023-06-01 15:45:07,265] Trial 13 finished with value: 0.8103946093156209 and parameters: {'n_estimators': 146, 'max_depth': 27, 'min_samples_leaf': 3, 'criterion': 'log_loss'}. Best is trial 6 with value: 0.8111399943436088.\n",
      "[I 2023-06-01 15:45:08,491] Trial 14 finished with value: 0.8110499382526084 and parameters: {'n_estimators': 150, 'max_depth': 28, 'min_samples_leaf': 3, 'criterion': 'log_loss'}. Best is trial 6 with value: 0.8111399943436088.\n",
      "[I 2023-06-01 15:45:09,980] Trial 15 finished with value: 0.8153413217671648 and parameters: {'n_estimators': 180, 'max_depth': 21, 'min_samples_leaf': 2, 'criterion': 'log_loss'}. Best is trial 15 with value: 0.8153413217671648.\n",
      "[I 2023-06-01 15:45:11,516] Trial 16 finished with value: 0.8108600238088377 and parameters: {'n_estimators': 200, 'max_depth': 21, 'min_samples_leaf': 2, 'criterion': 'gini'}. Best is trial 15 with value: 0.8153413217671648.\n",
      "[I 2023-06-01 15:45:12,760] Trial 17 finished with value: 0.8061459497440241 and parameters: {'n_estimators': 176, 'max_depth': 15, 'min_samples_leaf': 5, 'criterion': 'log_loss'}. Best is trial 15 with value: 0.8153413217671648.\n",
      "[I 2023-06-01 15:45:14,212] Trial 18 finished with value: 0.8135985527566187 and parameters: {'n_estimators': 174, 'max_depth': 21, 'min_samples_leaf': 2, 'criterion': 'log_loss'}. Best is trial 15 with value: 0.8153413217671648.\n",
      "[I 2023-06-01 15:45:15,542] Trial 19 finished with value: 0.8047830079071272 and parameters: {'n_estimators': 174, 'max_depth': 15, 'min_samples_leaf': 2, 'criterion': 'gini'}. Best is trial 15 with value: 0.8153413217671648.\n",
      "[I 2023-06-01 15:45:16,715] Trial 20 finished with value: 0.7958605216092917 and parameters: {'n_estimators': 178, 'max_depth': 20, 'min_samples_leaf': 8, 'criterion': 'log_loss'}. Best is trial 15 with value: 0.8153413217671648.\n",
      "[I 2023-06-01 15:45:17,856] Trial 21 finished with value: 0.8034357949791717 and parameters: {'n_estimators': 126, 'max_depth': 22, 'min_samples_leaf': 1, 'criterion': 'log_loss'}. Best is trial 15 with value: 0.8153413217671648.\n",
      "[I 2023-06-01 15:45:19,151] Trial 22 finished with value: 0.8107265011053897 and parameters: {'n_estimators': 166, 'max_depth': 17, 'min_samples_leaf': 3, 'criterion': 'log_loss'}. Best is trial 15 with value: 0.8153413217671648.\n",
      "[I 2023-06-01 15:45:20,680] Trial 23 finished with value: 0.8143610063654865 and parameters: {'n_estimators': 186, 'max_depth': 21, 'min_samples_leaf': 2, 'criterion': 'log_loss'}. Best is trial 15 with value: 0.8153413217671648.\n",
      "[I 2023-06-01 15:45:22,238] Trial 24 finished with value: 0.8126058678827379 and parameters: {'n_estimators': 190, 'max_depth': 20, 'min_samples_leaf': 2, 'criterion': 'log_loss'}. Best is trial 15 with value: 0.8153413217671648.\n",
      "[I 2023-06-01 15:45:23,830] Trial 25 finished with value: 0.812833259782676 and parameters: {'n_estimators': 184, 'max_depth': 24, 'min_samples_leaf': 1, 'criterion': 'log_loss'}. Best is trial 15 with value: 0.8153413217671648.\n",
      "[I 2023-06-01 15:45:25,175] Trial 26 finished with value: 0.8124411674510015 and parameters: {'n_estimators': 162, 'max_depth': 17, 'min_samples_leaf': 2, 'criterion': 'log_loss'}. Best is trial 15 with value: 0.8153413217671648.\n",
      "[I 2023-06-01 15:45:26,222] Trial 27 finished with value: 0.8048417628825406 and parameters: {'n_estimators': 136, 'max_depth': 21, 'min_samples_leaf': 5, 'criterion': 'log_loss'}. Best is trial 15 with value: 0.8153413217671648.\n",
      "[I 2023-06-01 15:45:27,400] Trial 28 finished with value: 0.8039468353224508 and parameters: {'n_estimators': 166, 'max_depth': 12, 'min_samples_leaf': 3, 'criterion': 'entropy'}. Best is trial 15 with value: 0.8153413217671648.\n",
      "[I 2023-06-01 15:45:28,555] Trial 29 finished with value: 0.794488691279459 and parameters: {'n_estimators': 192, 'max_depth': 18, 'min_samples_leaf': 9, 'criterion': 'gini'}. Best is trial 15 with value: 0.8153413217671648.\n",
      "[I 2023-06-01 15:45:29,882] Trial 30 finished with value: 0.8064985122561803 and parameters: {'n_estimators': 184, 'max_depth': 16, 'min_samples_leaf': 5, 'criterion': 'log_loss'}. Best is trial 15 with value: 0.8153413217671648.\n",
      "[I 2023-06-01 15:45:31,468] Trial 31 finished with value: 0.812833259782676 and parameters: {'n_estimators': 184, 'max_depth': 24, 'min_samples_leaf': 1, 'criterion': 'log_loss'}. Best is trial 15 with value: 0.8153413217671648.\n",
      "[I 2023-06-01 15:45:33,042] Trial 32 finished with value: 0.8058338621024344 and parameters: {'n_estimators': 172, 'max_depth': 26, 'min_samples_leaf': 1, 'criterion': 'log_loss'}. Best is trial 15 with value: 0.8153413217671648.\n",
      "[I 2023-06-01 15:45:34,518] Trial 33 finished with value: 0.8092019068861458 and parameters: {'n_estimators': 160, 'max_depth': 23, 'min_samples_leaf': 1, 'criterion': 'log_loss'}. Best is trial 15 with value: 0.8153413217671648.\n",
      "[I 2023-06-01 15:45:36,072] Trial 34 finished with value: 0.8135444675158675 and parameters: {'n_estimators': 186, 'max_depth': 19, 'min_samples_leaf': 2, 'criterion': 'entropy'}. Best is trial 15 with value: 0.8153413217671648.\n",
      "[I 2023-06-01 15:45:37,625] Trial 35 finished with value: 0.8144238288607083 and parameters: {'n_estimators': 192, 'max_depth': 19, 'min_samples_leaf': 2, 'criterion': 'entropy'}. Best is trial 15 with value: 0.8153413217671648.\n",
      "[I 2023-06-01 15:45:39,259] Trial 36 finished with value: 0.8162055016248878 and parameters: {'n_estimators': 198, 'max_depth': 21, 'min_samples_leaf': 2, 'criterion': 'entropy'}. Best is trial 36 with value: 0.8162055016248878.\n",
      "[I 2023-06-01 15:45:40,822] Trial 37 finished with value: 0.8111766545582132 and parameters: {'n_estimators': 200, 'max_depth': 19, 'min_samples_leaf': 3, 'criterion': 'entropy'}. Best is trial 36 with value: 0.8162055016248878.\n",
      "[I 2023-06-01 15:45:41,577] Trial 38 finished with value: 0.8135355102778314 and parameters: {'n_estimators': 72, 'max_depth': 22, 'min_samples_leaf': 2, 'criterion': 'entropy'}. Best is trial 36 with value: 0.8162055016248878.\n",
      "[I 2023-06-01 15:45:42,880] Trial 39 finished with value: 0.7979874663460406 and parameters: {'n_estimators': 194, 'max_depth': 13, 'min_samples_leaf': 6, 'criterion': 'entropy'}. Best is trial 36 with value: 0.8162055016248878.\n",
      "[I 2023-06-01 15:45:44,072] Trial 40 finished with value: 0.8088522525336284 and parameters: {'n_estimators': 140, 'max_depth': 18, 'min_samples_leaf': 3, 'criterion': 'entropy'}. Best is trial 36 with value: 0.8162055016248878.\n",
      "[I 2023-06-01 15:45:45,594] Trial 41 finished with value: 0.8146935921739192 and parameters: {'n_estimators': 178, 'max_depth': 21, 'min_samples_leaf': 2, 'criterion': 'entropy'}. Best is trial 36 with value: 0.8162055016248878.\n",
      "[I 2023-06-01 15:45:47,196] Trial 42 finished with value: 0.8128488698027017 and parameters: {'n_estimators': 192, 'max_depth': 20, 'min_samples_leaf': 2, 'criterion': 'entropy'}. Best is trial 36 with value: 0.8162055016248878.\n",
      "[I 2023-06-01 15:45:48,794] Trial 43 finished with value: 0.8077935152667421 and parameters: {'n_estimators': 178, 'max_depth': 22, 'min_samples_leaf': 1, 'criterion': 'entropy'}. Best is trial 36 with value: 0.8162055016248878.\n",
      "[I 2023-06-01 15:45:50,038] Trial 44 finished with value: 0.8069554169598735 and parameters: {'n_estimators': 158, 'max_depth': 23, 'min_samples_leaf': 4, 'criterion': 'entropy'}. Best is trial 36 with value: 0.8162055016248878.\n",
      "[I 2023-06-01 15:45:51,521] Trial 45 finished with value: 0.8092646763744383 and parameters: {'n_estimators': 188, 'max_depth': 21, 'min_samples_leaf': 3, 'criterion': 'entropy'}. Best is trial 36 with value: 0.8162055016248878.\n",
      "[I 2023-06-01 15:45:52,587] Trial 46 finished with value: 0.793860998869101 and parameters: {'n_estimators': 168, 'max_depth': 19, 'min_samples_leaf': 10, 'criterion': 'entropy'}. Best is trial 36 with value: 0.8162055016248878.\n",
      "[I 2023-06-01 15:45:54,096] Trial 47 finished with value: 0.8126663734325158 and parameters: {'n_estimators': 200, 'max_depth': 24, 'min_samples_leaf': 4, 'criterion': 'entropy'}. Best is trial 36 with value: 0.8162055016248878.\n",
      "[I 2023-06-01 15:45:55,574] Trial 48 finished with value: 0.8140639970575612 and parameters: {'n_estimators': 180, 'max_depth': 17, 'min_samples_leaf': 2, 'criterion': 'entropy'}. Best is trial 36 with value: 0.8162055016248878.\n",
      "[I 2023-06-01 15:45:57,001] Trial 49 finished with value: 0.8074992605173421 and parameters: {'n_estimators': 194, 'max_depth': 20, 'min_samples_leaf': 3, 'criterion': 'gini'}. Best is trial 36 with value: 0.8162055016248878.\n"
     ]
    },
    {
     "name": "stdout",
     "output_type": "stream",
     "text": [
      "CPU times: user 831 ms, sys: 627 ms, total: 1.46 s\n",
      "Wall time: 1min 4s\n"
     ]
    }
   ],
   "source": [
    "%%time\n",
    "# cоздаем объект исследования\n",
    "# можем напрямую указать, что нам необходимо максимизировать метрику direction=\"maximize\"\n",
    "stud_cv = optuna.create_study(study_name=\"RandomForestClassifier_cv\", direction=\"maximize\")\n",
    "# ищем лучшую комбинацию гиперпараметров n_trials раз\n",
    "stud_cv.optimize(optuna_rf_cv, n_trials=50)"
   ]
  },
  {
   "cell_type": "code",
   "execution_count": 57,
   "metadata": {},
   "outputs": [
    {
     "name": "stdout",
     "output_type": "stream",
     "text": [
      "Наилучшие значения гиперпараметров: {'n_estimators': 198, 'max_depth': 21, 'min_samples_leaf': 2, 'criterion': 'entropy'}\n",
      "f1_score на обучающем наборе: 0.82\n"
     ]
    }
   ],
   "source": [
    "# выводим результаты на обучающей выборке\n",
    "print(f\"Наилучшие значения гиперпараметров: {stud_cv.best_params}\")\n",
    "print(f\"f1_score на обучающем наборе: {stud_cv.best_value:.2f}\")"
   ]
  },
  {
   "cell_type": "code",
   "execution_count": 58,
   "metadata": {},
   "outputs": [
    {
     "name": "stdout",
     "output_type": "stream",
     "text": [
      "accuracy на тестовом наборе: 0.82\n",
      "f1_score на трейн: 1.00\n",
      "f1_score на тест: 0.85\n"
     ]
    }
   ],
   "source": [
    "# рассчитаем точность для тестовой выборки\n",
    "model_b = ensemble.RandomForestClassifier(**stud_cv.best_params, random_state=RANDOM_STATE)\n",
    "model_b.fit(X_train, y_train)\n",
    "\n",
    "y_train_pred = model_b.predict(X_train)\n",
    "y_test_pred = model_b.predict(X_test)\n",
    "\n",
    "print(f'accuracy на тестовом наборе: {metrics.accuracy_score(y_test, y_test_pred):.2f}')\n",
    "print(f'f1_score на трейн: {metrics.f1_score(y_train, y_train_pred):.2f}')\n",
    "print(f'f1_score на тест: {metrics.f1_score(y_test, y_test_pred):.2f}')"
   ]
  },
  {
   "attachments": {},
   "cell_type": "markdown",
   "metadata": {},
   "source": [
    "> * Гиперпараметры найденные Optuna дают некоторое улучшение, целевая метрика f1_score повысилась до 0.85.\n",
    "> * Аccuracy также показывает небольшее улучшение до 0.82.\n",
    "> * Optuna позволяет оценить более широкую сетку гиперпараметров за меньшее время."
   ]
  },
  {
   "attachments": {},
   "cell_type": "markdown",
   "metadata": {},
   "source": [
    "### Итоговый вывод.\n",
    "__Из рассмотренных способов подбора параметров Optuna дает возможность быстрого поиска оптимальных значений по широкой сетке параметров.__  \n",
    "\n",
    "__В данной работе методы подбора гиперпараметров смогли принести минимальные улучшения моделей по сравнению с базовыми (заданными по умолчанию гиперпараметрами).__ \n",
    "\n",
    "__Это может быть связано с тем, что гиперпараметры по умолчанию использованных моделей подобраны отимальными для большого круга задач.__\n"
   ]
  }
 ],
 "metadata": {
  "kernelspec": {
   "display_name": "venv",
   "language": "python",
   "name": "python3"
  },
  "language_info": {
   "codemirror_mode": {
    "name": "ipython",
    "version": 3
   },
   "file_extension": ".py",
   "mimetype": "text/x-python",
   "name": "python",
   "nbconvert_exporter": "python",
   "pygments_lexer": "ipython3",
   "version": "3.10.11"
  },
  "orig_nbformat": 4
 },
 "nbformat": 4,
 "nbformat_minor": 2
}
