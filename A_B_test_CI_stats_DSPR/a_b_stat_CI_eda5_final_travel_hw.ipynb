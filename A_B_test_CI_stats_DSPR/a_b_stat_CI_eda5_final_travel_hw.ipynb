{
 "cells": [
  {
   "cell_type": "markdown",
   "id": "c8a6af25-08d3-487a-bd90-001772ac9161",
   "metadata": {},
   "source": [
    "## <center> **Анализ результатов A/B-тестирования**"
   ]
  },
  {
   "cell_type": "markdown",
   "id": "d7d45571-6545-4904-a86b-9b3b6b8163d3",
   "metadata": {},
   "source": [
    "Компания планирует запустить новую акцию, чтобы продать как можно больше туров. Команда разработала два варианта посадочной страницы официального сайта компании и провела A/B-тестирование. Собранные в результате проведения эксперимента данные вы можете найти здесь.\n",
    "\n",
    "Вам предстоит решить настоящую бизнес-задачу: проанализировать эффективность обоих вариантов посадочной страницы сразу по двум критериям: конверсии покупки и среднему чеку. На основе проведенного анализа вам будет необходимо сделать выводы и принять решение: какой из вариантов дизайна более предпочтительный.\n",
    "\n",
    "Итак, наша фирма предлагает следующие варианты туров и их соответствующие стоимости:\n",
    "* Таиланд — 100000 рублей;\n",
    "* Турция — 60000 рублей;\n",
    "* Мальдивы — 200000 рублей;\n",
    "* Санкт-Петербург — 10000 рублей;\n",
    "* Камчатка — 150000 рублей."
   ]
  },
  {
   "cell_type": "code",
   "execution_count": 30,
   "id": "a974b482-e192-4014-8520-8a5c0c946da6",
   "metadata": {},
   "outputs": [],
   "source": [
    "import pandas as pd\n",
    "import numpy as np\n",
    "import matplotlib.pyplot as plt\n",
    "import seaborn as sns\n",
    "from scipy.stats import norm\n",
    "from scipy.stats import t\n",
    "from scipy.stats import ttest_ind, shapiro, f_oneway, mannwhitneyu\n",
    "from statsmodels.stats.proportion import proportions_ztest"
   ]
  },
  {
   "cell_type": "markdown",
   "id": "55c84550-4162-4325-acc2-7d3c0aafe6f0",
   "metadata": {},
   "source": [
    "Прочитаем наши данные и посмотрим на столбцы таблицы:"
   ]
  },
  {
   "cell_type": "code",
   "execution_count": 31,
   "id": "b0d18245-b9da-44bd-8aea-d272ea74b63a",
   "metadata": {},
   "outputs": [
    {
     "data": {
      "text/html": [
       "<div>\n",
       "<style scoped>\n",
       "    .dataframe tbody tr th:only-of-type {\n",
       "        vertical-align: middle;\n",
       "    }\n",
       "\n",
       "    .dataframe tbody tr th {\n",
       "        vertical-align: top;\n",
       "    }\n",
       "\n",
       "    .dataframe thead th {\n",
       "        text-align: right;\n",
       "    }\n",
       "</style>\n",
       "<table border=\"1\" class=\"dataframe\">\n",
       "  <thead>\n",
       "    <tr style=\"text-align: right;\">\n",
       "      <th></th>\n",
       "      <th>user_id</th>\n",
       "      <th>date</th>\n",
       "      <th>group</th>\n",
       "      <th>purchase</th>\n",
       "      <th>price</th>\n",
       "    </tr>\n",
       "  </thead>\n",
       "  <tbody>\n",
       "    <tr>\n",
       "      <th>0</th>\n",
       "      <td>851104</td>\n",
       "      <td>2021-01-21</td>\n",
       "      <td>A</td>\n",
       "      <td>0</td>\n",
       "      <td>0</td>\n",
       "    </tr>\n",
       "    <tr>\n",
       "      <th>1</th>\n",
       "      <td>804228</td>\n",
       "      <td>2021-01-12</td>\n",
       "      <td>A</td>\n",
       "      <td>0</td>\n",
       "      <td>0</td>\n",
       "    </tr>\n",
       "    <tr>\n",
       "      <th>2</th>\n",
       "      <td>661590</td>\n",
       "      <td>2021-01-11</td>\n",
       "      <td>B</td>\n",
       "      <td>0</td>\n",
       "      <td>0</td>\n",
       "    </tr>\n",
       "    <tr>\n",
       "      <th>3</th>\n",
       "      <td>853541</td>\n",
       "      <td>2021-01-08</td>\n",
       "      <td>B</td>\n",
       "      <td>0</td>\n",
       "      <td>0</td>\n",
       "    </tr>\n",
       "    <tr>\n",
       "      <th>4</th>\n",
       "      <td>864975</td>\n",
       "      <td>2021-01-21</td>\n",
       "      <td>A</td>\n",
       "      <td>1</td>\n",
       "      <td>150000</td>\n",
       "    </tr>\n",
       "  </tbody>\n",
       "</table>\n",
       "</div>"
      ],
      "text/plain": [
       "   user_id        date group  purchase   price\n",
       "0   851104  2021-01-21     A         0       0\n",
       "1   804228  2021-01-12     A         0       0\n",
       "2   661590  2021-01-11     B         0       0\n",
       "3   853541  2021-01-08     B         0       0\n",
       "4   864975  2021-01-21     A         1  150000"
      ]
     },
     "execution_count": 31,
     "metadata": {},
     "output_type": "execute_result"
    }
   ],
   "source": [
    "data = pd.read_csv('data/ab_data_tourist.csv')\n",
    "data.head()"
   ]
  },
  {
   "cell_type": "markdown",
   "id": "2fc48225-26ac-49c4-b99d-8b2a03dd74a1",
   "metadata": {
    "tags": []
   },
   "source": [
    "## **Задание 7.1.**\n",
    "\n",
    "Начнем с исследования структуры наших данных. С помощью метода info() выведите информацию о типах данных и количестве непустых значений. Какой тип данных имеет столбец date?"
   ]
  },
  {
   "cell_type": "code",
   "execution_count": 32,
   "id": "23496521-4878-46e2-ab02-1a98be14884a",
   "metadata": {},
   "outputs": [
    {
     "name": "stdout",
     "output_type": "stream",
     "text": [
      "<class 'pandas.core.frame.DataFrame'>\n",
      "RangeIndex: 294478 entries, 0 to 294477\n",
      "Data columns (total 5 columns):\n",
      " #   Column    Non-Null Count   Dtype \n",
      "---  ------    --------------   ----- \n",
      " 0   user_id   294478 non-null  int64 \n",
      " 1   date      294478 non-null  object\n",
      " 2   group     294478 non-null  object\n",
      " 3   purchase  294478 non-null  int64 \n",
      " 4   price     294478 non-null  int64 \n",
      "dtypes: int64(3), object(2)\n",
      "memory usage: 11.2+ MB\n"
     ]
    }
   ],
   "source": [
    "data.info()"
   ]
  },
  {
   "attachments": {},
   "cell_type": "markdown",
   "id": "5145453b",
   "metadata": {},
   "source": [
    "### Выводы 7.1.\n",
    "* Пустые значения отстствуют.\n",
    "* Столбец date содержит данные типа object."
   ]
  },
  {
   "cell_type": "markdown",
   "id": "946d017d-b4fe-4a17-b91d-0ce369d1ab2e",
   "metadata": {
    "tags": []
   },
   "source": [
    "## **Задание 7.2.**\n",
    "\n",
    "Приведите столбец date к типу данных datetime. Убедитесь в равной длительности проведения тестирования для каждой из группы. Для этого сгруппируйте данные по признаку группы и определите первую и последнюю дату наблюдения для каждой из групп. \n",
    "\n",
    "В какой промежуток времени проводился A/B-тест?\n"
   ]
  },
  {
   "cell_type": "code",
   "execution_count": 33,
   "id": "604c619d-6338-45c8-8248-ac098a2366bb",
   "metadata": {},
   "outputs": [],
   "source": [
    "data['date'] = pd.to_datetime(data['date'], format='%Y-%m-%d')\n"
   ]
  },
  {
   "cell_type": "code",
   "execution_count": 34,
   "id": "08edd898",
   "metadata": {},
   "outputs": [
    {
     "data": {
      "text/plain": [
       "group\n",
       "A   2021-01-02\n",
       "B   2021-01-02\n",
       "Name: date, dtype: datetime64[ns]"
      ]
     },
     "execution_count": 34,
     "metadata": {},
     "output_type": "execute_result"
    }
   ],
   "source": [
    "data.groupby('group')['date'].min()  # начальная (минимальная) дата наблюдения в каждой группе\n"
   ]
  },
  {
   "cell_type": "code",
   "execution_count": 35,
   "id": "826819ad",
   "metadata": {},
   "outputs": [
    {
     "data": {
      "text/plain": [
       "group\n",
       "A   2021-01-24\n",
       "B   2021-01-24\n",
       "Name: date, dtype: datetime64[ns]"
      ]
     },
     "execution_count": 35,
     "metadata": {},
     "output_type": "execute_result"
    }
   ],
   "source": [
    "data.groupby('group')['date'].max()  # конечная (максимальная) дата наблюдения в каждой группе"
   ]
  },
  {
   "attachments": {},
   "cell_type": "markdown",
   "id": "cd28a83d",
   "metadata": {},
   "source": [
    "### Выыоды 7.2\n",
    "* Тестирование проводилось со 2 января по 24 января 2021 года.\n",
    "* Cроки проведения тестирования для групп совпадают."
   ]
  },
  {
   "cell_type": "markdown",
   "id": "e04eb341-52ae-48b3-9dc2-0578ca91641a",
   "metadata": {},
   "source": [
    "## **Задание 7.3.**\n",
    "\n",
    "* Чему равно количество посещений сайта в группах А и B?\n",
    "\n",
    "* Чему равно суммарное количество покупок в группах А и B?\n",
    "\n",
    "* Чему равна сумма всех покупок в группах А и B? Ответ приведите в миллионах рублей. Например, 185.52 млн. руб."
   ]
  },
  {
   "cell_type": "code",
   "execution_count": 36,
   "id": "02bf0148-488e-4f34-95bf-37794b2fa98b",
   "metadata": {},
   "outputs": [
    {
     "data": {
      "text/html": [
       "<div>\n",
       "<style scoped>\n",
       "    .dataframe tbody tr th:only-of-type {\n",
       "        vertical-align: middle;\n",
       "    }\n",
       "\n",
       "    .dataframe tbody tr th {\n",
       "        vertical-align: top;\n",
       "    }\n",
       "\n",
       "    .dataframe thead th {\n",
       "        text-align: right;\n",
       "    }\n",
       "</style>\n",
       "<table border=\"1\" class=\"dataframe\">\n",
       "  <thead>\n",
       "    <tr style=\"text-align: right;\">\n",
       "      <th></th>\n",
       "      <th>cnt_users</th>\n",
       "      <th>cnt_purchase</th>\n",
       "      <th>revenue</th>\n",
       "    </tr>\n",
       "    <tr>\n",
       "      <th>group</th>\n",
       "      <th></th>\n",
       "      <th></th>\n",
       "      <th></th>\n",
       "    </tr>\n",
       "  </thead>\n",
       "  <tbody>\n",
       "    <tr>\n",
       "      <th>A</th>\n",
       "      <td>147202</td>\n",
       "      <td>17723</td>\n",
       "      <td>1436260000</td>\n",
       "    </tr>\n",
       "    <tr>\n",
       "      <th>B</th>\n",
       "      <td>147276</td>\n",
       "      <td>17514</td>\n",
       "      <td>1554100000</td>\n",
       "    </tr>\n",
       "  </tbody>\n",
       "</table>\n",
       "</div>"
      ],
      "text/plain": [
       "       cnt_users  cnt_purchase     revenue\n",
       "group                                     \n",
       "A         147202         17723  1436260000\n",
       "B         147276         17514  1554100000"
      ]
     },
     "execution_count": 36,
     "metadata": {},
     "output_type": "execute_result"
    }
   ],
   "source": [
    "# группируем данные по А и Б, считаем суммарное количество поспещений, количество покупок, сумму покупок revenue.\n",
    "\n",
    "data.groupby(['group']).agg({'user_id':'count', 'purchase':'sum', 'price':'sum'}).rename(\n",
    "                                               columns={'user_id':'cnt_users', \n",
    "                                                        'purchase':'cnt_purchase', \n",
    "                                                        'price':'revenue'})"
   ]
  },
  {
   "attachments": {},
   "cell_type": "markdown",
   "id": "6b24d44d",
   "metadata": {},
   "source": [
    "### Выводы 7.3.\n",
    "* Количество посещений в группе А: 147 202, в группе В: 147 276.\n",
    "* Суммарное количество покупок в групе А: 17 723, в группе В: 17 514.\n",
    "* Сумма покупок в группе А: 1 436.26 млн. руб., в группе В: 1 554.1 млн. руб."
   ]
  },
  {
   "cell_type": "markdown",
   "id": "2434db1b-17e6-4977-8e54-1df875c6f221",
   "metadata": {
    "tags": []
   },
   "source": [
    "## **Задание 7.4.**\n",
    "\n",
    "Проверьте, есть ли пользователи, которые в процессе A/B-теста попали в обе тестовые группы? Если да, то сколько таких уникальных пользователей, если нет - введите в поле для ответа 0?\n",
    "\n",
    "**Подсказка:**\n",
    "\n",
    "*Создайте множество пользователей группы А и множество пользователей группы B. Пересеките два этих множества (операция intersection) и вычислите количество элементов в полученном множестве.*\n"
   ]
  },
  {
   "cell_type": "code",
   "execution_count": 37,
   "id": "35aa0d28",
   "metadata": {},
   "outputs": [
    {
     "data": {
      "text/plain": [
       "'Количество пользователей попавших в обе группы: 1895'"
      ]
     },
     "metadata": {},
     "output_type": "display_data"
    }
   ],
   "source": [
    "# списки пользователей из групп А и В (в виде np.ndarray) проверим на пересечение с помощью np.intersect1d\n",
    "\n",
    "intersectid_id = np.intersect1d(data[data['group']=='A'].user_id.to_numpy(), \n",
    "                                data[data['group']=='B'].user_id.to_numpy())\n",
    "\n",
    "display(f'Количество пользователей попавших в обе группы: {len(intersectid_id)}')"
   ]
  },
  {
   "attachments": {},
   "cell_type": "markdown",
   "id": "118b1904-7d7a-4935-825e-535da45c611b",
   "metadata": {
    "tags": []
   },
   "source": [
    "## **Исключите пользователей, оказавшихся в обеих группах**\n",
    "\n",
    "Так как мы не можем определить, какая из версий сайта повлияла на принятие решения, исключим этих пользователей. Далее мы будем работать только с очищенными от пересечений данными."
   ]
  },
  {
   "cell_type": "code",
   "execution_count": 38,
   "id": "f3d74d27",
   "metadata": {},
   "outputs": [
    {
     "data": {
      "text/plain": [
       "(290688, 5)"
      ]
     },
     "execution_count": 38,
     "metadata": {},
     "output_type": "execute_result"
    }
   ],
   "source": [
    "updated_data = data[~data['user_id'].isin(intersectid_id)]\n",
    "updated_data.shape"
   ]
  },
  {
   "attachments": {
    "95f235d2-6323-4799-bf69-697fc57f727b.png": {
     "image/png": "[encoded data removed]"
    }
   },
   "cell_type": "markdown",
   "id": "2ddf6b2c-7987-41f3-82b1-8992630ae97b",
   "metadata": {
    "tags": []
   },
   "source": [
    "## **Задание 7.5.**\n",
    "\n",
    "Для первичного анализа результатов A/B-тестирования нам понадобится таблица следующего вида:\n",
    "\n",
    "![image.png](attachment:95f235d2-6323-4799-bf69-697fc57f727b.png)\n",
    " \n",
    " \n",
    "Для того, чтобы получить такую таблицу, сгруппируйте данные по признаку группы. В каждой группе рассчитайте следующие показатели:\n",
    "* количество посещений (количество пользователей)\n",
    "* количество совершенных покупок\n",
    "* сумма всех покупок в группе\n",
    "\n",
    "В полученной сгруппированной таблице переименуйте столбцы на **count_visits, count_purchases и sum_price**.\n",
    "\n",
    "**Подсказка:**\n",
    "\n",
    "*Для переименования столбцов можно использовать метод rename() с параметром columns, в который передается словарь. Ключи этого словаря - старые имена столбцов, а значения - новые.*\n",
    "\n",
    "Чему на этот раз равно количество посещений сайта в группах А и B?\n"
   ]
  },
  {
   "cell_type": "code",
   "execution_count": 39,
   "id": "5c0c018e-a250-48e9-b72a-e3c7be586ebd",
   "metadata": {},
   "outputs": [
    {
     "data": {
      "text/html": [
       "<div>\n",
       "<style scoped>\n",
       "    .dataframe tbody tr th:only-of-type {\n",
       "        vertical-align: middle;\n",
       "    }\n",
       "\n",
       "    .dataframe tbody tr th {\n",
       "        vertical-align: top;\n",
       "    }\n",
       "\n",
       "    .dataframe thead th {\n",
       "        text-align: right;\n",
       "    }\n",
       "</style>\n",
       "<table border=\"1\" class=\"dataframe\">\n",
       "  <thead>\n",
       "    <tr style=\"text-align: right;\">\n",
       "      <th></th>\n",
       "      <th>count_visits</th>\n",
       "      <th>count_purchases</th>\n",
       "      <th>sum_price</th>\n",
       "    </tr>\n",
       "    <tr>\n",
       "      <th>group</th>\n",
       "      <th></th>\n",
       "      <th></th>\n",
       "      <th></th>\n",
       "    </tr>\n",
       "  </thead>\n",
       "  <tbody>\n",
       "    <tr>\n",
       "      <th>A</th>\n",
       "      <td>145307</td>\n",
       "      <td>17487</td>\n",
       "      <td>1417780000</td>\n",
       "    </tr>\n",
       "    <tr>\n",
       "      <th>B</th>\n",
       "      <td>145381</td>\n",
       "      <td>17290</td>\n",
       "      <td>1533010000</td>\n",
       "    </tr>\n",
       "  </tbody>\n",
       "</table>\n",
       "</div>"
      ],
      "text/plain": [
       "       count_visits  count_purchases   sum_price\n",
       "group                                           \n",
       "A            145307            17487  1417780000\n",
       "B            145381            17290  1533010000"
      ]
     },
     "execution_count": 39,
     "metadata": {},
     "output_type": "execute_result"
    }
   ],
   "source": [
    "updated_data_piv = updated_data.groupby(['group']).agg({'user_id':'count', 'purchase':'sum', 'price':'sum'}).rename(\n",
    "                                               columns={'user_id':'count_visits', 'purchase':'count_purchases', 'price':'sum_price'})\n",
    "updated_data_piv.head()"
   ]
  },
  {
   "cell_type": "code",
   "execution_count": 40,
   "id": "6845627a",
   "metadata": {},
   "outputs": [
    {
     "data": {
      "text/plain": [
       "'Количество посещений сайта в группе А: 145307 в группе В: 145381.'"
      ]
     },
     "metadata": {},
     "output_type": "display_data"
    }
   ],
   "source": [
    "display(f\"Количество посещений сайта в группе А: {updated_data_piv.at['A', 'count_visits']}\" \n",
    "        + f\" в группе В: {updated_data_piv.at['B', 'count_visits']}.\")"
   ]
  },
  {
   "cell_type": "markdown",
   "id": "b71e1390-9846-4a8e-b357-f82b847d1952",
   "metadata": {},
   "source": [
    "Приведите промежуточные выводы по построенной таблице. Сопоставимо ли количество посещений обоих вариантов посадочной странице, можно ли говорить о сбалансированности выборок?"
   ]
  },
  {
   "attachments": {},
   "cell_type": "markdown",
   "id": "4ea1b65b-475e-4bff-9460-fac0acdb9620",
   "metadata": {},
   "source": [
    "### Выводы 7.5.\n",
    "* Предварительный анализ показывает, что разница в количестве посещений двух групп не больше десятых долей процента.\n",
    "* Можно считать выборки сбалансированными."
   ]
  },
  {
   "cell_type": "markdown",
   "id": "afb2ee0a-31d1-45a5-be42-a2bf168b9448",
   "metadata": {
    "tags": []
   },
   "source": [
    "## **Задание 7.6.**\n",
    "\n",
    "Добавьте в сгруппированную таблицу столбцы conversion - конверсия покупки (отношение количества покупок к количеству посещений сайта в каждой группе, выраженное в процентах) и mean_check - средний чек (отношение суммы покупок к количеству покупок в каждой группе).\n",
    "\n",
    "* Чему равна конверсия в группах? Ответ приведите в процентах и округлите до сотых. Например, 75.12 %\n",
    "* Чему равен средний чек в группах? Ответ приведите в рублях и округлите до целых. Например, 120519 рублей."
   ]
  },
  {
   "cell_type": "code",
   "execution_count": 41,
   "id": "bd9c3b3e-5956-41a8-bae0-43693f6de1f2",
   "metadata": {},
   "outputs": [
    {
     "data": {
      "text/plain": [
       "'Конверсия в группе А равна 12.03 процентов'"
      ]
     },
     "metadata": {},
     "output_type": "display_data"
    },
    {
     "data": {
      "text/plain": [
       "'Конверсия в группе В равна 11.89 процентов'"
      ]
     },
     "metadata": {},
     "output_type": "display_data"
    },
    {
     "data": {
      "text/plain": [
       "'Средний чек группы А: 81,076 рублей, группы В: 88,665 рублей'"
      ]
     },
     "metadata": {},
     "output_type": "display_data"
    }
   ],
   "source": [
    "updated_data_piv['convertion'] = updated_data_piv['count_purchases'] / updated_data_piv['count_visits'] * 100\n",
    "updated_data_piv['mean_check'] = updated_data_piv['sum_price'] / updated_data_piv['count_purchases']\n",
    "\n",
    "display(f\"Конверсия в группе А равна {updated_data_piv.at['A', 'convertion']:.2f} процентов\")\n",
    "display(f\"Конверсия в группе В равна {updated_data_piv.at['B', 'convertion']:.2f} процентов\")\n",
    "\n",
    "display(f\"Средний чек группы А: {updated_data_piv.at['A', 'mean_check']:,.0f} рублей,\" \n",
    "        + f\" группы В: {updated_data_piv.at['B', 'mean_check']:,.0f} рублей\")"
   ]
  },
  {
   "cell_type": "markdown",
   "id": "1eb6e140-c702-43e0-b301-9914a7f49448",
   "metadata": {},
   "source": [
    "Приведите промежуточные выводы по таблице. По какому(им) показателю(ям) вариант А эффективнее варианта B и наоборот?"
   ]
  },
  {
   "attachments": {},
   "cell_type": "markdown",
   "id": "9e88c883-84f9-44ec-accd-04d5d459b261",
   "metadata": {},
   "source": [
    "### Выводы 7.6.\n",
    "* Величина конверсии расчитанной для группы А 12.03%, что немного выше конверсии группы B составившей 11.89%.\n",
    "* В тоже время средний чек группы А: 81 076 рублей. Что заметно ниже среднего чека группы В составившего 88 665 рублей."
   ]
  },
  {
   "cell_type": "markdown",
   "id": "7f9f1ae0-f12f-49b3-8b57-1c299c208c49",
   "metadata": {
    "tags": []
   },
   "source": [
    "## **Задание 7.7.**\n",
    "\n",
    "Теперь давайте сравним варианты по покупательской способности туров. Для этого постройте сводную таблицу, которая покажет зависимость количества продаж от группы и цены тура. "
   ]
  },
  {
   "cell_type": "code",
   "execution_count": 42,
   "id": "fb6a3f2e",
   "metadata": {},
   "outputs": [
    {
     "data": {
      "text/html": [
       "<div>\n",
       "<style scoped>\n",
       "    .dataframe tbody tr th:only-of-type {\n",
       "        vertical-align: middle;\n",
       "    }\n",
       "\n",
       "    .dataframe tbody tr th {\n",
       "        vertical-align: top;\n",
       "    }\n",
       "\n",
       "    .dataframe thead th {\n",
       "        text-align: right;\n",
       "    }\n",
       "</style>\n",
       "<table border=\"1\" class=\"dataframe\">\n",
       "  <thead>\n",
       "    <tr style=\"text-align: right;\">\n",
       "      <th>group</th>\n",
       "      <th>A</th>\n",
       "      <th>B</th>\n",
       "    </tr>\n",
       "    <tr>\n",
       "      <th>price</th>\n",
       "      <th></th>\n",
       "      <th></th>\n",
       "    </tr>\n",
       "  </thead>\n",
       "  <tbody>\n",
       "    <tr>\n",
       "      <th>10000</th>\n",
       "      <td>5182</td>\n",
       "      <td>5201</td>\n",
       "    </tr>\n",
       "    <tr>\n",
       "      <th>60000</th>\n",
       "      <td>5271</td>\n",
       "      <td>1730</td>\n",
       "    </tr>\n",
       "    <tr>\n",
       "      <th>100000</th>\n",
       "      <td>1832</td>\n",
       "      <td>5227</td>\n",
       "    </tr>\n",
       "    <tr>\n",
       "      <th>150000</th>\n",
       "      <td>3478</td>\n",
       "      <td>3438</td>\n",
       "    </tr>\n",
       "    <tr>\n",
       "      <th>200000</th>\n",
       "      <td>1724</td>\n",
       "      <td>1694</td>\n",
       "    </tr>\n",
       "  </tbody>\n",
       "</table>\n",
       "</div>"
      ],
      "text/plain": [
       "group      A     B\n",
       "price             \n",
       "10000   5182  5201\n",
       "60000   5271  1730\n",
       "100000  1832  5227\n",
       "150000  3478  3438\n",
       "200000  1724  1694"
      ]
     },
     "metadata": {},
     "output_type": "display_data"
    }
   ],
   "source": [
    "# фильтруем данные с продажами, группируем по цене и группе\n",
    "purchases_pivot_table = pd.pivot_table(updated_data[updated_data['purchase']==1], \n",
    "                                       values='purchase', index='price', columns='group', aggfunc='count')\n",
    "display(purchases_pivot_table)"
   ]
  },
  {
   "cell_type": "markdown",
   "id": "977423ed-8f8d-475c-b773-621edd95338d",
   "metadata": {},
   "source": [
    "Визуализируйте полученную сводную таблицу с помощью тепловой карты с аннотацией. \n",
    "Чему равно количество проданных туров за 60000 рублей в группах?"
   ]
  },
  {
   "cell_type": "code",
   "execution_count": 43,
   "id": "f634fa8d-585c-42e3-b7d5-78e8d9eaa8c5",
   "metadata": {},
   "outputs": [
    {
     "data": {
      "image/png": "[encoded data removed]",
      "text/plain": [
       "<Figure size 800x600 with 2 Axes>"
      ]
     },
     "metadata": {},
     "output_type": "display_data"
    }
   ],
   "source": [
    "fig, ax = plt.subplots(1, figsize=(8,6))\n",
    "sns.heatmap(purchases_pivot_table, annot=True, fmt='.0f')\n",
    "\n",
    "ax.set_title('Тепловая карта количества покупок в разрезе цены по группам\\n')\n",
    "ax.set(xlabel=\"Покупки по группам\", ylabel='цена в рублях');"
   ]
  },
  {
   "cell_type": "code",
   "execution_count": 44,
   "id": "d1e853bf",
   "metadata": {},
   "outputs": [
    {
     "data": {
      "text/plain": [
       "'Количество проданных туров за 60 тысяч рублей в группе А: 5271 штук.'"
      ]
     },
     "metadata": {},
     "output_type": "display_data"
    },
    {
     "data": {
      "text/plain": [
       "'Количество проданных туров за 60 тысяч рублей в группе B: 1730 штук.'"
      ]
     },
     "metadata": {},
     "output_type": "display_data"
    }
   ],
   "source": [
    "display(f\"Количество проданных туров за 60 тысяч рублей в группе А: {purchases_pivot_table.at[60000, 'A']} штук.\")\n",
    "display(f\"Количество проданных туров за 60 тысяч рублей в группе B: {purchases_pivot_table.at[60000, 'B']} штук.\")"
   ]
  },
  {
   "cell_type": "markdown",
   "id": "9caa92ca-e261-4b8f-a16c-2abc322c9ffb",
   "metadata": {},
   "source": [
    "Сделайте выводы по построенной таблице. По каким турам покупательская способность участников группы А выше, чем участников группы B и наоборот?"
   ]
  },
  {
   "attachments": {},
   "cell_type": "markdown",
   "id": "6d13fd45-e3df-468f-9d32-1fc45d38b10c",
   "metadata": {},
   "source": [
    "### Выводы 7.7.\n",
    "* Нам было известно из предыдущего анализа, что общее количество продаж примерно одинаково.\n",
    "* Анализ продаж в разрезе цены показывает, что в группе В чаще преобретали туры стоимостью 100 тыс. рублей, чем туры стоимостью 60 тыс. рублей.\n",
    "* В группе А наоборот туры стоимостью 60 тыс. рублей были более популярны.\n",
    "* Соответвенно и количество продаж туров стоимостью 100 тыс. руб. в группе В было намного больше, чем в группе А.\n",
    "* Что коменсировалось большими продажами туров за 60 тыс. руб в группе А.\n",
    "* В остальных ценовых категориях существенных различий между группами не наблюдается."
   ]
  },
  {
   "cell_type": "markdown",
   "id": "8f021fb4-d0f6-4e43-b518-1a96c07a4531",
   "metadata": {
    "tags": []
   },
   "source": [
    "## **Задание 7.8.**\n",
    "\n",
    "Настало время поговорить о стабилизации кумулятивных метрик во времени. Но прежде, чем перейти к кумулятивным метрикам, нам необходимо построить таблицу с ежедневными данными результатов проведения A/B-тестирования.\n",
    "\n",
    "Сгруппируйте данные по дате и группе тестирования. В каждой группе вычислите количество посещений страницы, количество покупок и сумму покупок. \n",
    "\n",
    "Добавьте в таблицу информацию о ежедневной конверсии (ежедневное количество покупок / ежедневное количество посещений) в группе и ежедневном среднем чеке (ежедневная сумма покупок / ежедневное количество покупок)\n",
    "* Чему равна конверсия 3 января 2021 года? Ответ приведите в процентах и округлите до сотых.\n",
    "\n",
    "* Чему равен средний чек 3 января 2021 года? Ответ приведите в рублях и округлите до целого."
   ]
  },
  {
   "cell_type": "code",
   "execution_count": 45,
   "id": "4503b528-412e-433a-bc03-da7da52fa1a3",
   "metadata": {},
   "outputs": [
    {
     "data": {
      "text/html": [
       "<div>\n",
       "<style scoped>\n",
       "    .dataframe tbody tr th:only-of-type {\n",
       "        vertical-align: middle;\n",
       "    }\n",
       "\n",
       "    .dataframe tbody tr th {\n",
       "        vertical-align: top;\n",
       "    }\n",
       "\n",
       "    .dataframe thead th {\n",
       "        text-align: right;\n",
       "    }\n",
       "</style>\n",
       "<table border=\"1\" class=\"dataframe\">\n",
       "  <thead>\n",
       "    <tr style=\"text-align: right;\">\n",
       "      <th></th>\n",
       "      <th></th>\n",
       "      <th>count_visits</th>\n",
       "      <th>count_purchases</th>\n",
       "      <th>sum_price</th>\n",
       "      <th>convertion</th>\n",
       "      <th>mean_check</th>\n",
       "    </tr>\n",
       "    <tr>\n",
       "      <th>date</th>\n",
       "      <th>group</th>\n",
       "      <th></th>\n",
       "      <th></th>\n",
       "      <th></th>\n",
       "      <th></th>\n",
       "      <th></th>\n",
       "    </tr>\n",
       "  </thead>\n",
       "  <tbody>\n",
       "    <tr>\n",
       "      <th rowspan=\"2\" valign=\"top\">2021-01-02</th>\n",
       "      <th>A</th>\n",
       "      <td>2854</td>\n",
       "      <td>359</td>\n",
       "      <td>29410000</td>\n",
       "      <td>12.578837</td>\n",
       "      <td>81922.005571</td>\n",
       "    </tr>\n",
       "    <tr>\n",
       "      <th>B</th>\n",
       "      <td>2861</td>\n",
       "      <td>345</td>\n",
       "      <td>29660000</td>\n",
       "      <td>12.058721</td>\n",
       "      <td>85971.014493</td>\n",
       "    </tr>\n",
       "    <tr>\n",
       "      <th rowspan=\"2\" valign=\"top\">2021-01-03</th>\n",
       "      <th>A</th>\n",
       "      <td>6596</td>\n",
       "      <td>748</td>\n",
       "      <td>62000000</td>\n",
       "      <td>11.340206</td>\n",
       "      <td>82887.700535</td>\n",
       "    </tr>\n",
       "    <tr>\n",
       "      <th>B</th>\n",
       "      <td>6619</td>\n",
       "      <td>754</td>\n",
       "      <td>65960000</td>\n",
       "      <td>11.391449</td>\n",
       "      <td>87480.106101</td>\n",
       "    </tr>\n",
       "    <tr>\n",
       "      <th>2021-01-04</th>\n",
       "      <th>A</th>\n",
       "      <td>6566</td>\n",
       "      <td>799</td>\n",
       "      <td>64250000</td>\n",
       "      <td>12.168748</td>\n",
       "      <td>80413.016270</td>\n",
       "    </tr>\n",
       "  </tbody>\n",
       "</table>\n",
       "</div>"
      ],
      "text/plain": [
       "                  count_visits  count_purchases  sum_price  convertion   \n",
       "date       group                                                         \n",
       "2021-01-02 A              2854              359   29410000   12.578837  \\\n",
       "           B              2861              345   29660000   12.058721   \n",
       "2021-01-03 A              6596              748   62000000   11.340206   \n",
       "           B              6619              754   65960000   11.391449   \n",
       "2021-01-04 A              6566              799   64250000   12.168748   \n",
       "\n",
       "                    mean_check  \n",
       "date       group                \n",
       "2021-01-02 A      81922.005571  \n",
       "           B      85971.014493  \n",
       "2021-01-03 A      82887.700535  \n",
       "           B      87480.106101  \n",
       "2021-01-04 A      80413.016270  "
      ]
     },
     "metadata": {},
     "output_type": "display_data"
    },
    {
     "data": {
      "text/plain": [
       "'Конверсия 3 января 2021 года в группе А: 11.34%.'"
      ]
     },
     "metadata": {},
     "output_type": "display_data"
    },
    {
     "data": {
      "text/plain": [
       "'Конверсия 3 января 2021 года в группе B: 11.39%.'"
      ]
     },
     "metadata": {},
     "output_type": "display_data"
    },
    {
     "data": {
      "text/plain": [
       "'Средний чек 3 января 2021 года в группе А: 82,888 рублей.'"
      ]
     },
     "metadata": {},
     "output_type": "display_data"
    },
    {
     "data": {
      "text/plain": [
       "'Средний чек 3 января 2021 года в группе B: 87,480 рублей.'"
      ]
     },
     "metadata": {},
     "output_type": "display_data"
    }
   ],
   "source": [
    "days_data = updated_data.groupby(['date', 'group']).agg({'user_id':'count', 'purchase':'sum', 'price':'sum'}).rename(\n",
    "                                               columns={'user_id':'count_visits', 'purchase':'count_purchases', 'price':'sum_price'})\n",
    "\n",
    "days_data['convertion'] = days_data['count_purchases'] / days_data['count_visits'] * 100\n",
    "days_data['mean_check'] = days_data['sum_price'] / days_data['count_purchases']\n",
    "\n",
    "display(days_data.head())\n",
    "display(f\"Конверсия 3 января 2021 года в группе А: {days_data.at[(pd.to_datetime('2021-01-03'), 'A'), 'convertion']:.2f}%.\",\n",
    "        f\"Конверсия 3 января 2021 года в группе B: {days_data.at[(pd.to_datetime('2021-01-03'), 'B'), 'convertion']:.2f}%.\",\n",
    "        f\"Средний чек 3 января 2021 года в группе А: {days_data.at[(pd.to_datetime('2021-01-03'), 'A'), 'mean_check']:,.0f} рублей.\",\n",
    "        f\"Средний чек 3 января 2021 года в группе B: {days_data.at[(pd.to_datetime('2021-01-03'), 'B'), 'mean_check']:,.0f} рублей.\"\n",
    "        )"
   ]
  },
  {
   "cell_type": "markdown",
   "id": "bc8e241b-1ef1-4f67-ab90-77251889b7f2",
   "metadata": {},
   "source": [
    "## **Задание 7.9.** \n",
    "\n",
    "Добавьте в таблицу с ежедневными показателями кумулятивные признаки:\n",
    "* кумулятивное количество посещений страницы\n",
    "* кумулятивное количество покупок\n",
    "* кумулятивную сумму покупок\n",
    "\n",
    "Не забудьте при расчете кумулятивной суммы сгруппировать данные по группам. \n",
    "\n",
    "Вычислите кумулятивную конверсию и кумулятивный средний чек на основе полученных кумулятивных показателей. \n",
    "\n",
    "* Какая **кумулятивная** конверсия была в группе B на 20 января? Ответ приведите в процентах, округлив до сотых.\n",
    "* Какой **кумулятивный** средний чек был в группе А на 12 января 2021 года? Ответ приведите в рублях, округлив до целых."
   ]
  },
  {
   "cell_type": "code",
   "execution_count": 46,
   "id": "afe59f9a-8d39-45c1-a14f-9f62091d81a1",
   "metadata": {},
   "outputs": [
    {
     "data": {
      "text/html": [
       "<div>\n",
       "<style scoped>\n",
       "    .dataframe tbody tr th:only-of-type {\n",
       "        vertical-align: middle;\n",
       "    }\n",
       "\n",
       "    .dataframe tbody tr th {\n",
       "        vertical-align: top;\n",
       "    }\n",
       "\n",
       "    .dataframe thead th {\n",
       "        text-align: right;\n",
       "    }\n",
       "</style>\n",
       "<table border=\"1\" class=\"dataframe\">\n",
       "  <thead>\n",
       "    <tr style=\"text-align: right;\">\n",
       "      <th></th>\n",
       "      <th></th>\n",
       "      <th>count_visits</th>\n",
       "      <th>count_purchases</th>\n",
       "      <th>sum_price</th>\n",
       "      <th>convertion</th>\n",
       "      <th>mean_check</th>\n",
       "      <th>cum_count_visits</th>\n",
       "      <th>cum_count_purchases</th>\n",
       "      <th>cum_sum_price</th>\n",
       "      <th>cum_convertion</th>\n",
       "      <th>cum_mean_check</th>\n",
       "    </tr>\n",
       "    <tr>\n",
       "      <th>date</th>\n",
       "      <th>group</th>\n",
       "      <th></th>\n",
       "      <th></th>\n",
       "      <th></th>\n",
       "      <th></th>\n",
       "      <th></th>\n",
       "      <th></th>\n",
       "      <th></th>\n",
       "      <th></th>\n",
       "      <th></th>\n",
       "      <th></th>\n",
       "    </tr>\n",
       "  </thead>\n",
       "  <tbody>\n",
       "    <tr>\n",
       "      <th rowspan=\"2\" valign=\"top\">2021-01-02</th>\n",
       "      <th>A</th>\n",
       "      <td>2854</td>\n",
       "      <td>359</td>\n",
       "      <td>29410000</td>\n",
       "      <td>12.578837</td>\n",
       "      <td>81922.005571</td>\n",
       "      <td>2854</td>\n",
       "      <td>359</td>\n",
       "      <td>29410000</td>\n",
       "      <td>12.578837</td>\n",
       "      <td>81922.005571</td>\n",
       "    </tr>\n",
       "    <tr>\n",
       "      <th>B</th>\n",
       "      <td>2861</td>\n",
       "      <td>345</td>\n",
       "      <td>29660000</td>\n",
       "      <td>12.058721</td>\n",
       "      <td>85971.014493</td>\n",
       "      <td>2861</td>\n",
       "      <td>345</td>\n",
       "      <td>29660000</td>\n",
       "      <td>12.058721</td>\n",
       "      <td>85971.014493</td>\n",
       "    </tr>\n",
       "    <tr>\n",
       "      <th rowspan=\"2\" valign=\"top\">2021-01-03</th>\n",
       "      <th>A</th>\n",
       "      <td>6596</td>\n",
       "      <td>748</td>\n",
       "      <td>62000000</td>\n",
       "      <td>11.340206</td>\n",
       "      <td>82887.700535</td>\n",
       "      <td>9450</td>\n",
       "      <td>1107</td>\n",
       "      <td>91410000</td>\n",
       "      <td>11.714286</td>\n",
       "      <td>82574.525745</td>\n",
       "    </tr>\n",
       "    <tr>\n",
       "      <th>B</th>\n",
       "      <td>6619</td>\n",
       "      <td>754</td>\n",
       "      <td>65960000</td>\n",
       "      <td>11.391449</td>\n",
       "      <td>87480.106101</td>\n",
       "      <td>9480</td>\n",
       "      <td>1099</td>\n",
       "      <td>95620000</td>\n",
       "      <td>11.592827</td>\n",
       "      <td>87006.369427</td>\n",
       "    </tr>\n",
       "    <tr>\n",
       "      <th>2021-01-04</th>\n",
       "      <th>A</th>\n",
       "      <td>6566</td>\n",
       "      <td>799</td>\n",
       "      <td>64250000</td>\n",
       "      <td>12.168748</td>\n",
       "      <td>80413.016270</td>\n",
       "      <td>16016</td>\n",
       "      <td>1906</td>\n",
       "      <td>155660000</td>\n",
       "      <td>11.900599</td>\n",
       "      <td>81668.415530</td>\n",
       "    </tr>\n",
       "  </tbody>\n",
       "</table>\n",
       "</div>"
      ],
      "text/plain": [
       "                  count_visits  count_purchases  sum_price  convertion   \n",
       "date       group                                                         \n",
       "2021-01-02 A              2854              359   29410000   12.578837  \\\n",
       "           B              2861              345   29660000   12.058721   \n",
       "2021-01-03 A              6596              748   62000000   11.340206   \n",
       "           B              6619              754   65960000   11.391449   \n",
       "2021-01-04 A              6566              799   64250000   12.168748   \n",
       "\n",
       "                    mean_check  cum_count_visits  cum_count_purchases   \n",
       "date       group                                                        \n",
       "2021-01-02 A      81922.005571              2854                  359  \\\n",
       "           B      85971.014493              2861                  345   \n",
       "2021-01-03 A      82887.700535              9450                 1107   \n",
       "           B      87480.106101              9480                 1099   \n",
       "2021-01-04 A      80413.016270             16016                 1906   \n",
       "\n",
       "                  cum_sum_price  cum_convertion  cum_mean_check  \n",
       "date       group                                                 \n",
       "2021-01-02 A           29410000       12.578837    81922.005571  \n",
       "           B           29660000       12.058721    85971.014493  \n",
       "2021-01-03 A           91410000       11.714286    82574.525745  \n",
       "           B           95620000       11.592827    87006.369427  \n",
       "2021-01-04 A          155660000       11.900599    81668.415530  "
      ]
     },
     "metadata": {},
     "output_type": "display_data"
    },
    {
     "data": {
      "text/plain": [
       "'Куммулятивная конверсия в группе В на 20 января составила 11.90%'"
      ]
     },
     "metadata": {},
     "output_type": "display_data"
    },
    {
     "data": {
      "text/plain": [
       "'Куммулятивный средний чек в группе А на 12 января составил 81,492 рублей'"
      ]
     },
     "metadata": {},
     "output_type": "display_data"
    }
   ],
   "source": [
    "days_data_cum = pd.concat(\n",
    "                         [days_data,\n",
    "                          days_data.groupby('group')[\n",
    "                                                     ['count_visits', 'count_purchases', 'sum_price']\n",
    "                                                    ].cumsum().add_prefix('cum_', axis=1)],\n",
    "                          axis=1\n",
    "                          )\n",
    "days_data_cum['cum_convertion'] = days_data_cum['cum_count_purchases'] / days_data_cum['cum_count_visits'] * 100\n",
    "days_data_cum['cum_mean_check'] = days_data_cum['cum_sum_price'] / days_data_cum['cum_count_purchases']\n",
    "\n",
    "display(days_data_cum.head())\n",
    "display(\"Куммулятивная конверсия в группе В на 20 января составила\" \n",
    "        + f\" {days_data_cum.at[(pd.to_datetime('2021-01-20'), 'B'), 'cum_convertion']:.2f}%\")\n",
    "display(\"Куммулятивный средний чек в группе А на 12 января составил\"\n",
    "        + f\" {days_data_cum.at[(pd.to_datetime('2021-01-12'), 'A'), 'cum_mean_check']:,.0f} рублей\")\n"
   ]
  },
  {
   "cell_type": "markdown",
   "id": "c252b8ba-371b-4795-8fc3-a62317e9ba39",
   "metadata": {},
   "source": [
    "Постройте кумулятивные графики конверсии и среднего чека в каждой группе по дням. Сделайте выводы. Можно ли назвать A/B-тест завершенным - стабилизировались ли значения метрик во времени? Как соотносятся кумулятивные показатели в каждой группе?"
   ]
  },
  {
   "cell_type": "code",
   "execution_count": 47,
   "id": "27e23d20-7ed6-4a26-973d-6d0320b81adb",
   "metadata": {},
   "outputs": [
    {
     "data": {
      "image/png": "[encoded data removed]",
      "text/plain": [
       "<Figure size 1200x500 with 2 Axes>"
      ]
     },
     "metadata": {},
     "output_type": "display_data"
    }
   ],
   "source": [
    "fig1, ax1 = plt.subplots(1, 2, figsize=(12,5))\n",
    "sns.lineplot(\n",
    "    data=days_data_cum,\n",
    "    x='date',\n",
    "    y='cum_convertion',\n",
    "    hue='group',\n",
    "    ax=ax1[0]\n",
    ")\n",
    "ax1[0].set_title('Кумулятивный график конверсии по дням\\n')\n",
    "ax1[0].grid(True)\n",
    "ax1[0].xaxis.set_tick_params(rotation = 45)\n",
    "ax1[0].set(xlabel=\"Дата\", ylabel='Кумулятивная конверсия');\n",
    "\n",
    "sns.lineplot(\n",
    "    data=days_data_cum,\n",
    "    x='date',\n",
    "    y='cum_mean_check',\n",
    "    hue='group',\n",
    "    ax=ax1[1]\n",
    ")\n",
    "ax1[1].set_title('Кумулятивный средний чек по дням\\n')\n",
    "ax1[1].grid(True)\n",
    "ax1[1].xaxis.set_tick_params(rotation = 45)\n",
    "ax1[1].set(xlabel=\"Дата\", ylabel='Куммулятивный средний чек');\n"
   ]
  },
  {
   "attachments": {},
   "cell_type": "markdown",
   "id": "f645f8e5-ad16-4b3b-8228-fbdeeb286833",
   "metadata": {},
   "source": [
    "### Выводы 7.9.\n",
    "* Значения кумулятивной конверсии и среднего чека стабилизировались на временном графике. Можно считать А/В тест завершенным.\n",
    "* Средняя конверсия в конечной части графика в группе А несколько выше, чем в группе В.\n",
    "* Кумулятивный средний чек в группе В значительно выше среднего чека группы А."
   ]
  },
  {
   "cell_type": "markdown",
   "id": "2ecaa382-56e2-47f4-b086-24b4742570a3",
   "metadata": {
    "tags": []
   },
   "source": [
    "## **Задание 7.10.**\n",
    "\n",
    "Настало время переходить к проверке статистической значимости разницы между метриками в группах. Начнем с конверсии.\n",
    "\n",
    "Какой тест вы примените для проверки гипотезы о равенстве конверсий в группах?\n",
    "\n",
    "Проведите тестирование при следующих нулевой и альтернативной гипотезе:\n",
    "* $H_0$: Конверсии в группах А и B равны; \n",
    "* $H_1$: Конверсия в группе А больше чем конверсия в группе B;\n",
    "\n",
    "Вычислите p-value вашего теста для конверсий в группах А и B. Сравните полученное значение p-value с уровнем значимости $\\alpha$=0.05. "
   ]
  },
  {
   "cell_type": "code",
   "execution_count": 48,
   "id": "1f5f0aa3",
   "metadata": {},
   "outputs": [
    {
     "data": {
      "text/html": [
       "<div>\n",
       "<style scoped>\n",
       "    .dataframe tbody tr th:only-of-type {\n",
       "        vertical-align: middle;\n",
       "    }\n",
       "\n",
       "    .dataframe tbody tr th {\n",
       "        vertical-align: top;\n",
       "    }\n",
       "\n",
       "    .dataframe thead th {\n",
       "        text-align: right;\n",
       "    }\n",
       "</style>\n",
       "<table border=\"1\" class=\"dataframe\">\n",
       "  <thead>\n",
       "    <tr style=\"text-align: right;\">\n",
       "      <th></th>\n",
       "      <th>sum</th>\n",
       "      <th>count</th>\n",
       "    </tr>\n",
       "    <tr>\n",
       "      <th>group</th>\n",
       "      <th></th>\n",
       "      <th></th>\n",
       "    </tr>\n",
       "  </thead>\n",
       "  <tbody>\n",
       "    <tr>\n",
       "      <th>A</th>\n",
       "      <td>17487</td>\n",
       "      <td>145307</td>\n",
       "    </tr>\n",
       "    <tr>\n",
       "      <th>B</th>\n",
       "      <td>17290</td>\n",
       "      <td>145381</td>\n",
       "    </tr>\n",
       "  </tbody>\n",
       "</table>\n",
       "</div>"
      ],
      "text/plain": [
       "         sum   count\n",
       "group               \n",
       "A      17487  145307\n",
       "B      17290  145381"
      ]
     },
     "metadata": {},
     "output_type": "display_data"
    }
   ],
   "source": [
    "# рассчитаем обобщенные данные по конверсии в группах\n",
    "converted_updated_data = updated_data.groupby('group')['purchase'].agg(func=['sum','count'])\n",
    "display(converted_updated_data)"
   ]
  },
  {
   "cell_type": "code",
   "execution_count": 49,
   "id": "af539b1a",
   "metadata": {},
   "outputs": [
    {
     "data": {
      "text/plain": [
       "'p_value_conv = 0.120'"
      ]
     },
     "metadata": {},
     "output_type": "display_data"
    },
    {
     "data": {
      "text/plain": [
       "'Мы не можем отвергнуть нулевую гипотезу: Конверсии в группах А и B равны.'"
      ]
     },
     "metadata": {},
     "output_type": "display_data"
    }
   ],
   "source": [
    "# формулируем гипотезы, устанавливаем уровень альфа\n",
    "H0 = 'Конверсии в группах А и B равны.' \n",
    "H1 = 'Конверсия в группе А больше чем конверсия в группе B.'\n",
    "alpha = 0.05\n",
    "\n",
    "# используем proportions_ztest для проверки значимости разницы в конверсии\n",
    "_, p_value_conv = proportions_ztest(\n",
    "    count=converted_updated_data['sum'], \n",
    "    nobs=converted_updated_data['count'], \n",
    "    alternative='larger'\n",
    ")\n",
    "\n",
    "display(f'{p_value_conv = :.3f}')\n",
    "display(f\"Мы не можем отвергнуть нулевую гипотезу: {H0}\" if p_value_conv > alpha \n",
    "        else f\"Отвергаем нулевую гипотезу. Альтернативная гипотреза: {H1}\")\n"
   ]
  },
  {
   "cell_type": "markdown",
   "id": "da794b48-80e3-47af-aceb-084a1862c86b",
   "metadata": {},
   "source": [
    "Приведите свои выводы по результатам проведенного статистического теста. Есть ли статистическая разница между конверсиями в группах А и B?"
   ]
  },
  {
   "attachments": {},
   "cell_type": "markdown",
   "id": "75dddb06-389d-4d65-92c7-425efa28e51a",
   "metadata": {},
   "source": [
    "### Выводы 7.10.\n",
    "* Статистичекое тестирование конверсий в группах А и Б дает основания полагать, что разнича между ними лежит в пределах статистической погрешности.\n",
    "* Использование proportions_ztest дает p-value 0.12, выше принятого уровня альфа. Статистически значимой разницы в уровне конверсий нет."
   ]
  },
  {
   "cell_type": "markdown",
   "id": "32c5a1af-8cb2-4f3c-a126-410b70fb3ff3",
   "metadata": {
    "tags": []
   },
   "source": [
    "## **Задание 7.11.**\n",
    "Убедитесь в своих рассуждениях, построив 95%-ый доверительный интервал для конверсий и разницы между ними. Используйте $z_{крит}$ в своих расчетах\n",
    "\n",
    "Укажите нижнюю и верхнюю границы доверительных интервалов. Границы приведите в процентах и округлите до 2 знака после запятой. Например: нижняя граница 89.24%, верхняя граница 91.25%."
   ]
  },
  {
   "cell_type": "code",
   "execution_count": 50,
   "id": "e9decb7d-ff5e-40a6-8b71-63627c4ef64a",
   "metadata": {},
   "outputs": [],
   "source": [
    "# определим функцию для расчета доверитального итервала пропорции\n",
    "# n  - количество наблюдений, x_p - наблюдаемая (выборочная) конверсия\n",
    "\n",
    "def proportions_conf_interval(n, x_p, gamma=0.95):   \n",
    "    alpha = 1 - gamma \n",
    "    z_crit = -norm.ppf(alpha/2) # z критическое scipy.stats.norm\n",
    "    eps = z_crit * (x_p * (1 - x_p) / n) ** 0.5 \n",
    "    lower_bound = x_p - eps \n",
    "    upper_bound = x_p + eps \n",
    "    return round(lower_bound * 100, 2), round(upper_bound * 100, 2)"
   ]
  },
  {
   "cell_type": "code",
   "execution_count": 51,
   "id": "2e82186b",
   "metadata": {},
   "outputs": [
    {
     "data": {
      "text/plain": [
       "'Доверительнй интервал конверсии группы А: (11.87, 12.2)'"
      ]
     },
     "metadata": {},
     "output_type": "display_data"
    },
    {
     "data": {
      "text/plain": [
       "'Доверительнй интервал конверсии группы B: (11.73, 12.06)'"
      ]
     },
     "metadata": {},
     "output_type": "display_data"
    }
   ],
   "source": [
    "# рассчитаем доверительный интервал для групп\n",
    "convertion_A_CI = proportions_conf_interval(\n",
    "    n = converted_updated_data.at['A', 'count'],\n",
    "    x_p  = converted_updated_data.at['A', 'sum'] / converted_updated_data.at['A', 'count']\n",
    ")\n",
    "convertion_B_CI = proportions_conf_interval(\n",
    "    converted_updated_data.at['B', 'count'],\n",
    "    converted_updated_data.at['B', 'sum'] / converted_updated_data.at['B', 'count']\n",
    ")\n",
    "display(f\"Доверительнй интервал конверсии группы А: {convertion_A_CI}\")\n",
    "display(f\"Доверительнй интервал конверсии группы B: {convertion_B_CI}\")"
   ]
  },
  {
   "cell_type": "markdown",
   "id": "9332372d-66b2-45e9-a74c-f5d8b1d44afb",
   "metadata": {},
   "source": [
    "Проинтерпретируйте построенные доверительные интервалы для конверсий в группах. Есть ли перекрытие между доверительными интервалами для групп? Есть ли статистическая разница между конверсиями в группах А и B?"
   ]
  },
  {
   "attachments": {},
   "cell_type": "markdown",
   "id": "088f3f76",
   "metadata": {},
   "source": [
    "### Выводы 7.11.\n",
    "* 95%-ые доверительные интевалы конверсий групп А и В перекрываеются. Что говорит о возможности равного уровня конверсии групп.\n",
    "* Статистической разницы в конверсиях не обнаруживается."
   ]
  },
  {
   "cell_type": "code",
   "execution_count": 52,
   "id": "70a52233",
   "metadata": {},
   "outputs": [
    {
     "data": {
      "text/plain": [
       "'Доверительный интервал для разницы конверсии в группах: (-0.38, 0.09)'"
      ]
     },
     "metadata": {},
     "output_type": "display_data"
    }
   ],
   "source": [
    "# доверительный интервал для разницы\n",
    "# n  - iterable пары количеств наблюдений, x_p - iterable пары наблюдаемых конверсий\n",
    "\n",
    "def diff_proportions_conf_interval(n, xp, gamma=0.95):\n",
    "    alpha = 1 - gamma \n",
    "    diff = xp[1] - xp[0]\n",
    "    z_crit = -norm.ppf(alpha/2) \n",
    "    eps = z_crit * (xp[0] * (1 - xp[0])/n[0] + xp[1] * (1 - xp[1])/n[1]) ** 0.5 \n",
    "    lower_bound = diff - eps \n",
    "    upper_bound = diff + eps \n",
    "    return round(lower_bound *100, 2), round(upper_bound * 100, 2)\n",
    "\n",
    "n = [converted_updated_data.at['A', 'count'], \n",
    "     converted_updated_data.at['B', 'count']]\n",
    "xp = [(converted_updated_data.at['A', 'sum'] / converted_updated_data.at['A', 'count']),\n",
    "      (converted_updated_data.at['B', 'sum'] / converted_updated_data.at['B', 'count'])]\n",
    "  \n",
    "diff_convertion_CI = diff_proportions_conf_interval(n, xp, gamma=0.95)\n",
    "display(f\"Доверительный интервал для разницы конверсии в группах: {diff_convertion_CI}\")"
   ]
  },
  {
   "cell_type": "markdown",
   "id": "73c54883-b919-4889-bbf2-e1bdeb0b7055",
   "metadata": {},
   "source": [
    "## **Задание 7.12.**\n",
    "\n",
    "Ранее мы построили таблицу с ежедневными показателями. Теперь она нам снова понадобится, так как нас интересует ежедневный средний чек.\n",
    "\n",
    "Проверьте гипотезу о нормальности распределения ежедневного среднего чека в каждой из групп тестирования. \n",
    "\n",
    "* Какой тест вы примените  для проверки гипотезы о нормальности распределения ежедневного среднего чека?\n",
    "* Как будут звучать нулевая и альтернативная гипотезы?\n",
    "* Каковы результаты статистического теста с уровнем значимости $\\alpha$ =0.05?"
   ]
  },
  {
   "cell_type": "code",
   "execution_count": 53,
   "id": "ef2c21ff",
   "metadata": {},
   "outputs": [
    {
     "data": {
      "text/html": [
       "<div>\n",
       "<style scoped>\n",
       "    .dataframe tbody tr th:only-of-type {\n",
       "        vertical-align: middle;\n",
       "    }\n",
       "\n",
       "    .dataframe tbody tr th {\n",
       "        vertical-align: top;\n",
       "    }\n",
       "\n",
       "    .dataframe thead th {\n",
       "        text-align: right;\n",
       "    }\n",
       "</style>\n",
       "<table border=\"1\" class=\"dataframe\">\n",
       "  <thead>\n",
       "    <tr style=\"text-align: right;\">\n",
       "      <th></th>\n",
       "      <th></th>\n",
       "      <th>count_visits</th>\n",
       "      <th>count_purchases</th>\n",
       "      <th>sum_price</th>\n",
       "      <th>convertion</th>\n",
       "      <th>mean_check</th>\n",
       "    </tr>\n",
       "    <tr>\n",
       "      <th>date</th>\n",
       "      <th>group</th>\n",
       "      <th></th>\n",
       "      <th></th>\n",
       "      <th></th>\n",
       "      <th></th>\n",
       "      <th></th>\n",
       "    </tr>\n",
       "  </thead>\n",
       "  <tbody>\n",
       "    <tr>\n",
       "      <th rowspan=\"2\" valign=\"top\">2021-01-02</th>\n",
       "      <th>A</th>\n",
       "      <td>2854</td>\n",
       "      <td>359</td>\n",
       "      <td>29410000</td>\n",
       "      <td>12.578837</td>\n",
       "      <td>81922.005571</td>\n",
       "    </tr>\n",
       "    <tr>\n",
       "      <th>B</th>\n",
       "      <td>2861</td>\n",
       "      <td>345</td>\n",
       "      <td>29660000</td>\n",
       "      <td>12.058721</td>\n",
       "      <td>85971.014493</td>\n",
       "    </tr>\n",
       "    <tr>\n",
       "      <th rowspan=\"2\" valign=\"top\">2021-01-03</th>\n",
       "      <th>A</th>\n",
       "      <td>6596</td>\n",
       "      <td>748</td>\n",
       "      <td>62000000</td>\n",
       "      <td>11.340206</td>\n",
       "      <td>82887.700535</td>\n",
       "    </tr>\n",
       "    <tr>\n",
       "      <th>B</th>\n",
       "      <td>6619</td>\n",
       "      <td>754</td>\n",
       "      <td>65960000</td>\n",
       "      <td>11.391449</td>\n",
       "      <td>87480.106101</td>\n",
       "    </tr>\n",
       "    <tr>\n",
       "      <th>2021-01-04</th>\n",
       "      <th>A</th>\n",
       "      <td>6566</td>\n",
       "      <td>799</td>\n",
       "      <td>64250000</td>\n",
       "      <td>12.168748</td>\n",
       "      <td>80413.016270</td>\n",
       "    </tr>\n",
       "  </tbody>\n",
       "</table>\n",
       "</div>"
      ],
      "text/plain": [
       "                  count_visits  count_purchases  sum_price  convertion   \n",
       "date       group                                                         \n",
       "2021-01-02 A              2854              359   29410000   12.578837  \\\n",
       "           B              2861              345   29660000   12.058721   \n",
       "2021-01-03 A              6596              748   62000000   11.340206   \n",
       "           B              6619              754   65960000   11.391449   \n",
       "2021-01-04 A              6566              799   64250000   12.168748   \n",
       "\n",
       "                    mean_check  \n",
       "date       group                \n",
       "2021-01-02 A      81922.005571  \n",
       "           B      85971.014493  \n",
       "2021-01-03 A      82887.700535  \n",
       "           B      87480.106101  \n",
       "2021-01-04 A      80413.016270  "
      ]
     },
     "execution_count": 53,
     "metadata": {},
     "output_type": "execute_result"
    }
   ],
   "source": [
    "days_data.head()"
   ]
  },
  {
   "cell_type": "code",
   "execution_count": 54,
   "id": "195355d7",
   "metadata": {},
   "outputs": [
    {
     "data": {
      "text/plain": [
       "'shapiro_A_mean_check.pvalue = 0.253, shapiro_B_mean_check.pvalue = 0.094'"
      ]
     },
     "metadata": {},
     "output_type": "display_data"
    },
    {
     "data": {
      "text/plain": [
       "'Тест Шапиро подтверждает: Средний ежедневный чек имеет нормальное распределение в обеих группах'"
      ]
     },
     "metadata": {},
     "output_type": "display_data"
    }
   ],
   "source": [
    "# используем scipy.stats.shapiro для проверки гипотезы о нормальном рассперделении ежедневного среднего чека в группах\n",
    "H0_norm = 'Средний ежедневный чек имеет нормальное распределение' \n",
    "H1_norm = 'Распределение среднего ежедневного чека отличается от нормального'\n",
    "alpha_norm = 0.05\n",
    "\n",
    "shapiro_A_mean_check = shapiro(days_data.xs('A', level=1).mean_check)\n",
    "shapiro_B_mean_check = shapiro(days_data.xs('B', level=1).mean_check)\n",
    "\n",
    "display(f\"{shapiro_A_mean_check.pvalue = :.3f}, {shapiro_B_mean_check.pvalue = :.3f}\")\n",
    "\n",
    "display(f\"Тест Шапиро подтверждает: {H0_norm} в обеих группах\" if \n",
    "        {(shapiro_A_mean_check.pvalue > alpha_norm) and (shapiro_B_mean_check.pvalue > alpha_norm)} \n",
    "        else f\"{H1_norm}\")\n",
    "\n"
   ]
  },
  {
   "attachments": {},
   "cell_type": "markdown",
   "id": "66f5f083",
   "metadata": {},
   "source": [
    "### Выводы 7.12.\n",
    "* При уровне значимости 0.05 мы подтверждаем гипотезу о нормальном распределении среднего чека в обеих группах."
   ]
  },
  {
   "cell_type": "markdown",
   "id": "cbddecf9-4d15-4ff1-84e9-46c4d98fc1e0",
   "metadata": {
    "tags": []
   },
   "source": [
    "## **Задание 7.13.**\n",
    "Настало время сравнить варианты дизайна страницы по метрике среднего чека. \n",
    "\n",
    "Какой тест вы примените для проверки гипотезы о равенстве средних чеков по дням в группах?\n",
    "\n",
    "Проведите тестирование при следующих нулевой и альтернативной гипотезе:\n",
    "* $H_0$: Ежедневные средние чеки в группах А и B равны; \n",
    "* $H_1$: Ежедневный средний чек в группе А меньше чем в группе B;\n",
    "\n",
    "Вычислите p-value вашего теста для ежедневного среднего чека в группах А и B. Сравните полученное значение p-value с уровнем значимости $\\alpha$ =0.05. "
   ]
  },
  {
   "cell_type": "code",
   "execution_count": 55,
   "id": "fec96545",
   "metadata": {},
   "outputs": [
    {
     "data": {
      "text/plain": [
       "'p-value: 0.000'"
      ]
     },
     "metadata": {},
     "output_type": "display_data"
    },
    {
     "data": {
      "text/plain": [
       "'Мы отвергаем нулевую гипотезу. Принимаем альтернативную: Ежедневный средний чек в группе А меньше чем в группе В.'"
      ]
     },
     "metadata": {},
     "output_type": "display_data"
    }
   ],
   "source": [
    "# Исходя из нормального распределения ежедневных средних чеков в группах и количества сэмплов по 23\n",
    "# Используем scipy.stats.ttest_ind для проверки гипотезы равенства среднего чека в групах\n",
    "\n",
    "H0_avg_check = 'Ежедневные средние чеки в группах А и В равны.' \n",
    "H1_avg_check = 'Ежедневный средний чек в группе А меньше чем в группе В.'\n",
    "alpha_avg_check = 0.05\n",
    "\n",
    "avg_checks_ttest = ttest_ind(\n",
    "    a=days_data.xs('A', level=1).mean_check,\n",
    "    b=days_data.xs('B', level=1).mean_check, \n",
    "    alternative='less'\n",
    ")\n",
    "display(f\"p-value: {avg_checks_ttest.pvalue:.3f}\")\n",
    "display(f'Мы не можем отвергнуть гипотезу {H0_avg_check}' if avg_checks_ttest.pvalue > alpha_avg_check\n",
    "        else f'Мы отвергаем нулевую гипотезу. Принимаем альтернативную: {H1_avg_check}')\n"
   ]
  },
  {
   "cell_type": "markdown",
   "id": "8534ab25-68b8-48f7-b2c1-ef1b72d8a767",
   "metadata": {},
   "source": [
    " Приведите свои выводы по проведенному статистическому тесту. Есть ли статистическая разница между ежедневными средними чеками в группах А и B?"
   ]
  },
  {
   "attachments": {},
   "cell_type": "markdown",
   "id": "0f37f568",
   "metadata": {},
   "source": [
    "### Выводы 7.13.\n",
    "* Т-тест показал, что еждневные средние чеки в группах нельзя считать статистически равными.\n",
    "* Ожидаемый средний ежедневный чек в группе В статистически выше, чем в группе А."
   ]
  },
  {
   "cell_type": "markdown",
   "id": "5e46c9a6-a943-48b4-ad72-935337469613",
   "metadata": {
    "tags": []
   },
   "source": [
    "## **Задание 7.14.**\n",
    "\n",
    "Постройте 95%-ый доверительный интервал для среднего чека в каждой группе. Так как выборка средних чеков небольшая, используйте  $t_{крит}$ в своих расчетах.\n",
    "\n",
    "Укажите нижнюю границу доверительного интервала для истинного среднего чека каждой из групп. Ответ приведите в процентах и округлите до целого."
   ]
  },
  {
   "cell_type": "code",
   "execution_count": 56,
   "id": "c06467a0",
   "metadata": {},
   "outputs": [],
   "source": [
    "def t_crit_conf_interval(n, x_mean, x_std, gamma=0.95):\n",
    "    '''\n",
    "    Функция расчета доверительного интервала среднего на данных выборки (размером менее 30).\n",
    "    Для рассчета t распределения использует scipy.stats.t.\n",
    "    Confidence interval for mean from the sample < 30.\n",
    "    n - объем выборки (sample size)\n",
    "    x_mean -  выборочное среднее (sample mean)\n",
    "    x_std -  выборочное стандартное отклонение (sample std)\n",
    "    gamma - уровень доверия (confidence level), по умолчанияю равен 0.95\n",
    "    Функция возвращает tuple с нижней и верхней границей интервала, округленными до целого.\n",
    "    '''\n",
    "    alpha = 1 - gamma\n",
    "    k = n - 1\n",
    "    t_crit = -t.ppf(alpha/2, k) \n",
    "    eps = t_crit * x_std/(n ** 0.5)\n",
    "    lower_bound = x_mean - eps \n",
    "    upper_bound = x_mean + eps \n",
    "    return round(lower_bound), round(upper_bound)"
   ]
  },
  {
   "cell_type": "code",
   "execution_count": 57,
   "id": "0fd03053",
   "metadata": {},
   "outputs": [
    {
     "data": {
      "text/plain": [
       "'Границы 95%-го доверительного интервала для истинного среднего чека группы А составляют 79,630 и 82,308 рублей'"
      ]
     },
     "metadata": {},
     "output_type": "display_data"
    },
    {
     "data": {
      "text/plain": [
       "'Границы 95%-го доверительного интервала для истинного среднего чека группы В составляют 87,626 и 89,526 рублей'"
      ]
     },
     "metadata": {},
     "output_type": "display_data"
    }
   ],
   "source": [
    "mean_check_A_CI = t_crit_conf_interval(*days_data.xs('A', level=1).mean_check.agg(['count', 'mean', 'std']))\n",
    "mean_check_B_CI = t_crit_conf_interval(*days_data.xs('B', level=1).mean_check.agg(['count', 'mean', 'std']))\n",
    "\n",
    "display('Границы 95%-го доверительного интервала для истинного среднего чека группы А составляют'\n",
    "        + f' {mean_check_A_CI[0]:,} и {mean_check_A_CI[1]:,} рублей')\n",
    "display('Границы 95%-го доверительного интервала для истинного среднего чека группы В составляют'\n",
    "        + f' {mean_check_B_CI[0]:,} и {mean_check_B_CI[1]:,} рублей')"
   ]
  },
  {
   "cell_type": "markdown",
   "id": "74a78db8-48f7-41d2-94cb-faefb30b8f76",
   "metadata": {},
   "source": [
    "Проинтерпретируйте построенные доверительные интервалы для ежедневных средних чеков в группах. Есть ли между ними пересечения?"
   ]
  },
  {
   "attachments": {},
   "cell_type": "markdown",
   "id": "9cd930a2",
   "metadata": {},
   "source": [
    "### Выводы 7.14.\n",
    "* Нижняя граница доверительного интервала среднего чека группы В выше верхней границы среднего чека группы А.\n",
    "* Доверительные интервалы среднего чего групп не пересекаются, что подверждает ранее сделанный вывод о том, что значение среднего чего для группы В статистически значимо выше среднего чека группы А."
   ]
  },
  {
   "cell_type": "markdown",
   "id": "c078852f-892f-42ed-8d78-73edf8eb1f5e",
   "metadata": {
    "tags": []
   },
   "source": [
    "## **Сделайте общий вывод по результатам A/B-теста**\n",
    "\n",
    "Какой варианта дизайна посадочной страницы является более эффективным в комплексе по метрикам конверсии и среднего чека и почему? "
   ]
  },
  {
   "attachments": {},
   "cell_type": "markdown",
   "id": "30a85f3b",
   "metadata": {},
   "source": [
    "## Общий вывод по результатам А/В теста.\n",
    "* A/B тестирование проводилось в двух группах со 2 января по 24 января 2021 года.\n",
    "* Cроки проведения, качество выборки достаточны и сбалансированны для статистических выводов.\n",
    "* Проведенный статистический анализ говорит о примерном статистическом равенстве величины конверсии среди групп.\n",
    "* Статистичекий анализ среднего чека показал значимое превышение ожидаемго среднего чека в группе В по сравнению с группой А.\n",
    "* Границы 95%-го доверительного интервала для истинного среднего чека группы А составляют 79 630 и 82 308 рублей.\n",
    "* Границы 95%-го доверительного интервала для истинного среднего чека группы B составляют 87 626 и 89 526 рублей.\n",
    "* Используя метрики конверсии и среднего чека можно сделать вывод о большей эффективности варината В.\n",
    "* Результаты тестированя могут служить основой для управленческих решений о выборе эффективного дизайна."
   ]
  }
 ],
 "metadata": {
  "kernelspec": {
   "display_name": "Python 3 (ipykernel)",
   "language": "python",
   "name": "python3"
  },
  "language_info": {
   "codemirror_mode": {
    "name": "ipython",
    "version": 3
   },
   "file_extension": ".py",
   "mimetype": "text/x-python",
   "name": "python",
   "nbconvert_exporter": "python",
   "pygments_lexer": "ipython3",
   "version": "3.9.6"
  }
 },
 "nbformat": 4,
 "nbformat_minor": 5
}
