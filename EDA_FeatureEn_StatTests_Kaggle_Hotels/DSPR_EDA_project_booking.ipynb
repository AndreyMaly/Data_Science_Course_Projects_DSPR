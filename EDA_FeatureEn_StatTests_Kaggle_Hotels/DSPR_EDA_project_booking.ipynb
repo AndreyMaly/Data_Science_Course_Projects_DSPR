{
 "cells": [
  {
   "cell_type": "code",
   "execution_count": 104,
   "id": "81a20841",
   "metadata": {
    "_cell_guid": "b1076dfc-b9ad-4769-8c92-a6c4dae69d19",
    "_uuid": "8f2839f25d086af736a60e9eeb907d3b93b6e0e5",
    "execution": {
     "iopub.execute_input": "2022-02-08T19:14:22.339329Z",
     "iopub.status.busy": "2022-02-08T19:14:22.338238Z",
     "iopub.status.idle": "2022-02-08T19:14:23.673423Z",
     "shell.execute_reply": "2022-02-08T19:14:23.673936Z",
     "shell.execute_reply.started": "2022-02-08T18:44:26.624161Z"
    },
    "papermill": {
     "duration": 1.363434,
     "end_time": "2022-02-08T19:14:23.674225",
     "exception": false,
     "start_time": "2022-02-08T19:14:22.310791",
     "status": "completed"
    },
    "tags": []
   },
   "outputs": [],
   "source": [
    "# This Python 3 environment comes with many helpful analytics libraries installed\n",
    "# It is defined by the kaggle/python Docker image: https://github.com/kaggle/docker-python\n",
    "# For example, here's several helpful packages to load\n",
    "\n",
    "import numpy as np # linear algebra\n",
    "import pandas as pd # data processing, CSV file I/O (e.g. pd.read_csv)\n",
    "\n",
    "# импортируем библиотеки для визуализации\n",
    "import matplotlib.pyplot as plt\n",
    "import seaborn as sns \n",
    "%matplotlib inline\n",
    "\n",
    "# Загружаем специальный удобный инструмент для разделения датасета:\n",
    "from sklearn.model_selection import train_test_split\n",
    "from sklearn.preprocessing import OneHotEncoder\n",
    "from sklearn.preprocessing import MinMaxScaler\n",
    "from sklearn.feature_selection import f_classif\n",
    "from sklearn.ensemble import RandomForestRegressor\n",
    "\n",
    "from sklearn.metrics import mean_absolute_error\n",
    "from sklearn.metrics import mean_absolute_percentage_error\n",
    "\n",
    "from xgboost import XGBRegressor\n",
    "\n",
    "# Input data files are available in the read-only \"../input/\" directory\n",
    "\n",
    "import os\n",
    "for dirname, _, filenames in os.walk('/kaggle/input'):\n",
    "    for filename in filenames:\n",
    "        print(os.path.join(dirname, filename))\n",
    "\n",
    "# You can write up to 20GB to the current directory (/kaggle/working/) \n",
    "# that gets preserved as output when you create a version using \"Save & Run All\" \n",
    "# You can also write temporary files to /kaggle/temp/, but they won't be saved outside of the current session"
   ]
  },
  {
   "cell_type": "code",
   "execution_count": 105,
   "id": "8bd9892a",
   "metadata": {
    "execution": {
     "iopub.execute_input": "2022-02-08T19:14:23.722495Z",
     "iopub.status.busy": "2022-02-08T19:14:23.721381Z",
     "iopub.status.idle": "2022-02-08T19:14:23.725121Z",
     "shell.execute_reply": "2022-02-08T19:14:23.725576Z",
     "shell.execute_reply.started": "2022-02-08T18:44:26.641433Z"
    },
    "papermill": {
     "duration": 0.028937,
     "end_time": "2022-02-08T19:14:23.725766",
     "exception": false,
     "start_time": "2022-02-08T19:14:23.696829",
     "status": "completed"
    },
    "tags": []
   },
   "outputs": [],
   "source": [
    "# фиксируем RANDOM_SEED для воспроизводимости\n",
    "RANDOM_SEED = 34"
   ]
  },
  {
   "cell_type": "code",
   "execution_count": 106,
   "id": "2586b1ef",
   "metadata": {
    "execution": {
     "iopub.execute_input": "2022-02-08T19:14:28.262028Z",
     "iopub.status.busy": "2022-02-08T19:14:28.261082Z",
     "iopub.status.idle": "2022-02-08T19:14:33.762274Z",
     "shell.execute_reply": "2022-02-08T19:14:33.761547Z",
     "shell.execute_reply.started": "2022-02-08T18:44:29.657645Z"
    },
    "papermill": {
     "duration": 5.530208,
     "end_time": "2022-02-08T19:14:33.762433",
     "exception": false,
     "start_time": "2022-02-08T19:14:28.232225",
     "status": "completed"
    },
    "tags": []
   },
   "outputs": [],
   "source": [
    "# Подгрузим наши данные из соревнования\n",
    "\n",
    "DATA_DIR = 'data/'\n",
    "df_train = pd.read_csv(DATA_DIR+'/hotels_train.csv') # датасет для обучения\n",
    "df_test = pd.read_csv(DATA_DIR+'hotels_test.csv') # датасет для предсказания\n",
    "sample_submission = pd.read_csv(DATA_DIR+'/submission.csv') # сабмишн"
   ]
  },
  {
   "cell_type": "code",
   "execution_count": 107,
   "id": "5aadcce6",
   "metadata": {
    "execution": {
     "iopub.execute_input": "2022-02-08T19:14:33.814184Z",
     "iopub.status.busy": "2022-02-08T19:14:33.813500Z",
     "iopub.status.idle": "2022-02-08T19:14:33.985724Z",
     "shell.execute_reply": "2022-02-08T19:14:33.986240Z",
     "shell.execute_reply.started": "2022-02-08T18:44:32.949435Z"
    },
    "papermill": {
     "duration": 0.201246,
     "end_time": "2022-02-08T19:14:33.986418",
     "exception": false,
     "start_time": "2022-02-08T19:14:33.785172",
     "status": "completed"
    },
    "tags": []
   },
   "outputs": [
    {
     "name": "stdout",
     "output_type": "stream",
     "text": [
      "<class 'pandas.core.frame.DataFrame'>\n",
      "RangeIndex: 386803 entries, 0 to 386802\n",
      "Data columns (total 17 columns):\n",
      " #   Column                                      Non-Null Count   Dtype  \n",
      "---  ------                                      --------------   -----  \n",
      " 0   hotel_address                               386803 non-null  object \n",
      " 1   additional_number_of_scoring                386803 non-null  int64  \n",
      " 2   review_date                                 386803 non-null  object \n",
      " 3   average_score                               386803 non-null  float64\n",
      " 4   hotel_name                                  386803 non-null  object \n",
      " 5   reviewer_nationality                        386803 non-null  object \n",
      " 6   negative_review                             386803 non-null  object \n",
      " 7   review_total_negative_word_counts           386803 non-null  int64  \n",
      " 8   total_number_of_reviews                     386803 non-null  int64  \n",
      " 9   positive_review                             386803 non-null  object \n",
      " 10  review_total_positive_word_counts           386803 non-null  int64  \n",
      " 11  total_number_of_reviews_reviewer_has_given  386803 non-null  int64  \n",
      " 12  reviewer_score                              386803 non-null  float64\n",
      " 13  tags                                        386803 non-null  object \n",
      " 14  days_since_review                           386803 non-null  object \n",
      " 15  lat                                         384355 non-null  float64\n",
      " 16  lng                                         384355 non-null  float64\n",
      "dtypes: float64(4), int64(5), object(8)\n",
      "memory usage: 50.2+ MB\n"
     ]
    }
   ],
   "source": [
    "df_train.info()"
   ]
  },
  {
   "cell_type": "code",
   "execution_count": 108,
   "id": "eff9e899",
   "metadata": {
    "execution": {
     "iopub.execute_input": "2022-02-08T19:14:34.040534Z",
     "iopub.status.busy": "2022-02-08T19:14:34.039607Z",
     "iopub.status.idle": "2022-02-08T19:14:34.067200Z",
     "shell.execute_reply": "2022-02-08T19:14:34.067646Z",
     "shell.execute_reply.started": "2022-02-08T18:44:33.295852Z"
    },
    "papermill": {
     "duration": 0.060301,
     "end_time": "2022-02-08T19:14:34.067848",
     "exception": false,
     "start_time": "2022-02-08T19:14:34.007547",
     "status": "completed"
    },
    "tags": []
   },
   "outputs": [
    {
     "data": {
      "text/html": [
       "<div>\n",
       "<style scoped>\n",
       "    .dataframe tbody tr th:only-of-type {\n",
       "        vertical-align: middle;\n",
       "    }\n",
       "\n",
       "    .dataframe tbody tr th {\n",
       "        vertical-align: top;\n",
       "    }\n",
       "\n",
       "    .dataframe thead th {\n",
       "        text-align: right;\n",
       "    }\n",
       "</style>\n",
       "<table border=\"1\" class=\"dataframe\">\n",
       "  <thead>\n",
       "    <tr style=\"text-align: right;\">\n",
       "      <th></th>\n",
       "      <th>hotel_address</th>\n",
       "      <th>additional_number_of_scoring</th>\n",
       "      <th>review_date</th>\n",
       "      <th>average_score</th>\n",
       "      <th>hotel_name</th>\n",
       "      <th>reviewer_nationality</th>\n",
       "      <th>negative_review</th>\n",
       "      <th>review_total_negative_word_counts</th>\n",
       "      <th>total_number_of_reviews</th>\n",
       "      <th>positive_review</th>\n",
       "      <th>review_total_positive_word_counts</th>\n",
       "      <th>total_number_of_reviews_reviewer_has_given</th>\n",
       "      <th>reviewer_score</th>\n",
       "      <th>tags</th>\n",
       "      <th>days_since_review</th>\n",
       "      <th>lat</th>\n",
       "      <th>lng</th>\n",
       "    </tr>\n",
       "  </thead>\n",
       "  <tbody>\n",
       "    <tr>\n",
       "      <th>0</th>\n",
       "      <td>Stratton Street Mayfair Westminster Borough Lo...</td>\n",
       "      <td>581</td>\n",
       "      <td>2/19/2016</td>\n",
       "      <td>8.4</td>\n",
       "      <td>The May Fair Hotel</td>\n",
       "      <td>United Kingdom</td>\n",
       "      <td>Leaving</td>\n",
       "      <td>3</td>\n",
       "      <td>1994</td>\n",
       "      <td>Staff were amazing</td>\n",
       "      <td>4</td>\n",
       "      <td>7</td>\n",
       "      <td>10.0</td>\n",
       "      <td>[' Leisure trip ', ' Couple ', ' Studio Suite ...</td>\n",
       "      <td>531 day</td>\n",
       "      <td>51.507894</td>\n",
       "      <td>-0.143671</td>\n",
       "    </tr>\n",
       "    <tr>\n",
       "      <th>1</th>\n",
       "      <td>130 134 Southampton Row Camden London WC1B 5AF...</td>\n",
       "      <td>299</td>\n",
       "      <td>1/12/2017</td>\n",
       "      <td>8.3</td>\n",
       "      <td>Mercure London Bloomsbury Hotel</td>\n",
       "      <td>United Kingdom</td>\n",
       "      <td>poor breakfast</td>\n",
       "      <td>3</td>\n",
       "      <td>1361</td>\n",
       "      <td>location</td>\n",
       "      <td>2</td>\n",
       "      <td>14</td>\n",
       "      <td>6.3</td>\n",
       "      <td>[' Business trip ', ' Couple ', ' Standard Dou...</td>\n",
       "      <td>203 day</td>\n",
       "      <td>51.521009</td>\n",
       "      <td>-0.123097</td>\n",
       "    </tr>\n",
       "  </tbody>\n",
       "</table>\n",
       "</div>"
      ],
      "text/plain": [
       "                                       hotel_address  \\\n",
       "0  Stratton Street Mayfair Westminster Borough Lo...   \n",
       "1  130 134 Southampton Row Camden London WC1B 5AF...   \n",
       "\n",
       "   additional_number_of_scoring review_date  average_score  \\\n",
       "0                           581   2/19/2016            8.4   \n",
       "1                           299   1/12/2017            8.3   \n",
       "\n",
       "                        hotel_name reviewer_nationality  negative_review  \\\n",
       "0               The May Fair Hotel      United Kingdom          Leaving    \n",
       "1  Mercure London Bloomsbury Hotel      United Kingdom    poor breakfast   \n",
       "\n",
       "   review_total_negative_word_counts  total_number_of_reviews  \\\n",
       "0                                  3                     1994   \n",
       "1                                  3                     1361   \n",
       "\n",
       "       positive_review  review_total_positive_word_counts  \\\n",
       "0   Staff were amazing                                  4   \n",
       "1             location                                  2   \n",
       "\n",
       "   total_number_of_reviews_reviewer_has_given  reviewer_score  \\\n",
       "0                                           7            10.0   \n",
       "1                                          14             6.3   \n",
       "\n",
       "                                                tags days_since_review  \\\n",
       "0  [' Leisure trip ', ' Couple ', ' Studio Suite ...           531 day   \n",
       "1  [' Business trip ', ' Couple ', ' Standard Dou...           203 day   \n",
       "\n",
       "         lat       lng  \n",
       "0  51.507894 -0.143671  \n",
       "1  51.521009 -0.123097  "
      ]
     },
     "execution_count": 108,
     "metadata": {},
     "output_type": "execute_result"
    }
   ],
   "source": [
    "df_train.head(2)"
   ]
  },
  {
   "cell_type": "code",
   "execution_count": 109,
   "id": "f2a61b14",
   "metadata": {
    "execution": {
     "iopub.execute_input": "2022-02-08T19:14:34.129923Z",
     "iopub.status.busy": "2022-02-08T19:14:34.129023Z",
     "iopub.status.idle": "2022-02-08T19:14:34.201112Z",
     "shell.execute_reply": "2022-02-08T19:14:34.201672Z",
     "shell.execute_reply.started": "2022-02-08T18:44:33.315329Z"
    },
    "papermill": {
     "duration": 0.104528,
     "end_time": "2022-02-08T19:14:34.201919",
     "exception": false,
     "start_time": "2022-02-08T19:14:34.097391",
     "status": "completed"
    },
    "tags": []
   },
   "outputs": [
    {
     "name": "stdout",
     "output_type": "stream",
     "text": [
      "<class 'pandas.core.frame.DataFrame'>\n",
      "RangeIndex: 128935 entries, 0 to 128934\n",
      "Data columns (total 16 columns):\n",
      " #   Column                                      Non-Null Count   Dtype  \n",
      "---  ------                                      --------------   -----  \n",
      " 0   hotel_address                               128935 non-null  object \n",
      " 1   additional_number_of_scoring                128935 non-null  int64  \n",
      " 2   review_date                                 128935 non-null  object \n",
      " 3   average_score                               128935 non-null  float64\n",
      " 4   hotel_name                                  128935 non-null  object \n",
      " 5   reviewer_nationality                        128935 non-null  object \n",
      " 6   negative_review                             128935 non-null  object \n",
      " 7   review_total_negative_word_counts           128935 non-null  int64  \n",
      " 8   total_number_of_reviews                     128935 non-null  int64  \n",
      " 9   positive_review                             128935 non-null  object \n",
      " 10  review_total_positive_word_counts           128935 non-null  int64  \n",
      " 11  total_number_of_reviews_reviewer_has_given  128935 non-null  int64  \n",
      " 12  tags                                        128935 non-null  object \n",
      " 13  days_since_review                           128935 non-null  object \n",
      " 14  lat                                         128115 non-null  float64\n",
      " 15  lng                                         128115 non-null  float64\n",
      "dtypes: float64(3), int64(5), object(8)\n",
      "memory usage: 15.7+ MB\n"
     ]
    }
   ],
   "source": [
    "df_test.info()"
   ]
  },
  {
   "cell_type": "code",
   "execution_count": 110,
   "id": "ff071ddd",
   "metadata": {
    "execution": {
     "iopub.execute_input": "2022-02-08T19:14:34.253561Z",
     "iopub.status.busy": "2022-02-08T19:14:34.252940Z",
     "iopub.status.idle": "2022-02-08T19:14:34.267949Z",
     "shell.execute_reply": "2022-02-08T19:14:34.268388Z",
     "shell.execute_reply.started": "2022-02-08T18:44:33.439055Z"
    },
    "papermill": {
     "duration": 0.041895,
     "end_time": "2022-02-08T19:14:34.268570",
     "exception": false,
     "start_time": "2022-02-08T19:14:34.226675",
     "status": "completed"
    },
    "tags": []
   },
   "outputs": [
    {
     "data": {
      "text/html": [
       "<div>\n",
       "<style scoped>\n",
       "    .dataframe tbody tr th:only-of-type {\n",
       "        vertical-align: middle;\n",
       "    }\n",
       "\n",
       "    .dataframe tbody tr th {\n",
       "        vertical-align: top;\n",
       "    }\n",
       "\n",
       "    .dataframe thead th {\n",
       "        text-align: right;\n",
       "    }\n",
       "</style>\n",
       "<table border=\"1\" class=\"dataframe\">\n",
       "  <thead>\n",
       "    <tr style=\"text-align: right;\">\n",
       "      <th></th>\n",
       "      <th>hotel_address</th>\n",
       "      <th>additional_number_of_scoring</th>\n",
       "      <th>review_date</th>\n",
       "      <th>average_score</th>\n",
       "      <th>hotel_name</th>\n",
       "      <th>reviewer_nationality</th>\n",
       "      <th>negative_review</th>\n",
       "      <th>review_total_negative_word_counts</th>\n",
       "      <th>total_number_of_reviews</th>\n",
       "      <th>positive_review</th>\n",
       "      <th>review_total_positive_word_counts</th>\n",
       "      <th>total_number_of_reviews_reviewer_has_given</th>\n",
       "      <th>tags</th>\n",
       "      <th>days_since_review</th>\n",
       "      <th>lat</th>\n",
       "      <th>lng</th>\n",
       "    </tr>\n",
       "  </thead>\n",
       "  <tbody>\n",
       "    <tr>\n",
       "      <th>0</th>\n",
       "      <td>Via Senigallia 6 20161 Milan Italy</td>\n",
       "      <td>904</td>\n",
       "      <td>7/21/2017</td>\n",
       "      <td>8.1</td>\n",
       "      <td>Hotel Da Vinci</td>\n",
       "      <td>United Kingdom</td>\n",
       "      <td>Would have appreciated a shop in the hotel th...</td>\n",
       "      <td>52</td>\n",
       "      <td>16670</td>\n",
       "      <td>Hotel was great clean friendly staff free bre...</td>\n",
       "      <td>62</td>\n",
       "      <td>1</td>\n",
       "      <td>[' Leisure trip ', ' Couple ', ' Double Room '...</td>\n",
       "      <td>13 days</td>\n",
       "      <td>45.533137</td>\n",
       "      <td>9.171102</td>\n",
       "    </tr>\n",
       "    <tr>\n",
       "      <th>1</th>\n",
       "      <td>Arlandaweg 10 Westpoort 1043 EW Amsterdam Neth...</td>\n",
       "      <td>612</td>\n",
       "      <td>12/12/2016</td>\n",
       "      <td>8.6</td>\n",
       "      <td>Urban Lodge Hotel</td>\n",
       "      <td>Belgium</td>\n",
       "      <td>No tissue paper box was present at the room</td>\n",
       "      <td>10</td>\n",
       "      <td>5018</td>\n",
       "      <td>No Positive</td>\n",
       "      <td>0</td>\n",
       "      <td>7</td>\n",
       "      <td>[' Leisure trip ', ' Group ', ' Triple Room ',...</td>\n",
       "      <td>234 day</td>\n",
       "      <td>52.385649</td>\n",
       "      <td>4.834443</td>\n",
       "    </tr>\n",
       "  </tbody>\n",
       "</table>\n",
       "</div>"
      ],
      "text/plain": [
       "                                       hotel_address  \\\n",
       "0                 Via Senigallia 6 20161 Milan Italy   \n",
       "1  Arlandaweg 10 Westpoort 1043 EW Amsterdam Neth...   \n",
       "\n",
       "   additional_number_of_scoring review_date  average_score         hotel_name  \\\n",
       "0                           904   7/21/2017            8.1     Hotel Da Vinci   \n",
       "1                           612  12/12/2016            8.6  Urban Lodge Hotel   \n",
       "\n",
       "  reviewer_nationality                                    negative_review  \\\n",
       "0      United Kingdom    Would have appreciated a shop in the hotel th...   \n",
       "1             Belgium         No tissue paper box was present at the room   \n",
       "\n",
       "   review_total_negative_word_counts  total_number_of_reviews  \\\n",
       "0                                 52                    16670   \n",
       "1                                 10                     5018   \n",
       "\n",
       "                                     positive_review  \\\n",
       "0   Hotel was great clean friendly staff free bre...   \n",
       "1                                        No Positive   \n",
       "\n",
       "   review_total_positive_word_counts  \\\n",
       "0                                 62   \n",
       "1                                  0   \n",
       "\n",
       "   total_number_of_reviews_reviewer_has_given  \\\n",
       "0                                           1   \n",
       "1                                           7   \n",
       "\n",
       "                                                tags days_since_review  \\\n",
       "0  [' Leisure trip ', ' Couple ', ' Double Room '...           13 days   \n",
       "1  [' Leisure trip ', ' Group ', ' Triple Room ',...           234 day   \n",
       "\n",
       "         lat       lng  \n",
       "0  45.533137  9.171102  \n",
       "1  52.385649  4.834443  "
      ]
     },
     "execution_count": 110,
     "metadata": {},
     "output_type": "execute_result"
    }
   ],
   "source": [
    "df_test.head(2)"
   ]
  },
  {
   "cell_type": "code",
   "execution_count": 111,
   "id": "a42b8ffe",
   "metadata": {
    "execution": {
     "iopub.execute_input": "2022-02-08T19:14:34.316935Z",
     "iopub.status.busy": "2022-02-08T19:14:34.316327Z",
     "iopub.status.idle": "2022-02-08T19:14:34.323236Z",
     "shell.execute_reply": "2022-02-08T19:14:34.323678Z",
     "shell.execute_reply.started": "2022-02-08T18:44:33.456558Z"
    },
    "papermill": {
     "duration": 0.032568,
     "end_time": "2022-02-08T19:14:34.323861",
     "exception": false,
     "start_time": "2022-02-08T19:14:34.291293",
     "status": "completed"
    },
    "tags": []
   },
   "outputs": [
    {
     "data": {
      "text/html": [
       "<div>\n",
       "<style scoped>\n",
       "    .dataframe tbody tr th:only-of-type {\n",
       "        vertical-align: middle;\n",
       "    }\n",
       "\n",
       "    .dataframe tbody tr th {\n",
       "        vertical-align: top;\n",
       "    }\n",
       "\n",
       "    .dataframe thead th {\n",
       "        text-align: right;\n",
       "    }\n",
       "</style>\n",
       "<table border=\"1\" class=\"dataframe\">\n",
       "  <thead>\n",
       "    <tr style=\"text-align: right;\">\n",
       "      <th></th>\n",
       "      <th>reviewer_score</th>\n",
       "      <th>id</th>\n",
       "    </tr>\n",
       "  </thead>\n",
       "  <tbody>\n",
       "    <tr>\n",
       "      <th>0</th>\n",
       "      <td>1</td>\n",
       "      <td>488440</td>\n",
       "    </tr>\n",
       "    <tr>\n",
       "      <th>1</th>\n",
       "      <td>10</td>\n",
       "      <td>274649</td>\n",
       "    </tr>\n",
       "  </tbody>\n",
       "</table>\n",
       "</div>"
      ],
      "text/plain": [
       "   reviewer_score      id\n",
       "0               1  488440\n",
       "1              10  274649"
      ]
     },
     "execution_count": 111,
     "metadata": {},
     "output_type": "execute_result"
    }
   ],
   "source": [
    "sample_submission.head(2)"
   ]
  },
  {
   "cell_type": "code",
   "execution_count": 112,
   "id": "f00eb590",
   "metadata": {
    "execution": {
     "iopub.execute_input": "2022-02-08T19:14:34.372564Z",
     "iopub.status.busy": "2022-02-08T19:14:34.371990Z",
     "iopub.status.idle": "2022-02-08T19:14:34.382350Z",
     "shell.execute_reply": "2022-02-08T19:14:34.382803Z",
     "shell.execute_reply.started": "2022-02-08T18:44:33.464464Z"
    },
    "papermill": {
     "duration": 0.036517,
     "end_time": "2022-02-08T19:14:34.382984",
     "exception": false,
     "start_time": "2022-02-08T19:14:34.346467",
     "status": "completed"
    },
    "tags": []
   },
   "outputs": [
    {
     "name": "stdout",
     "output_type": "stream",
     "text": [
      "<class 'pandas.core.frame.DataFrame'>\n",
      "RangeIndex: 128935 entries, 0 to 128934\n",
      "Data columns (total 2 columns):\n",
      " #   Column          Non-Null Count   Dtype\n",
      "---  ------          --------------   -----\n",
      " 0   reviewer_score  128935 non-null  int64\n",
      " 1   id              128935 non-null  int64\n",
      "dtypes: int64(2)\n",
      "memory usage: 2.0 MB\n"
     ]
    }
   ],
   "source": [
    "sample_submission.info()"
   ]
  },
  {
   "cell_type": "code",
   "execution_count": 113,
   "id": "82718822",
   "metadata": {
    "execution": {
     "iopub.execute_input": "2022-02-08T19:14:34.432723Z",
     "iopub.status.busy": "2022-02-08T19:14:34.432113Z",
     "iopub.status.idle": "2022-02-08T19:14:34.920690Z",
     "shell.execute_reply": "2022-02-08T19:14:34.920082Z",
     "shell.execute_reply.started": "2022-02-08T18:44:33.480147Z"
    },
    "papermill": {
     "duration": 0.514636,
     "end_time": "2022-02-08T19:14:34.920844",
     "exception": false,
     "start_time": "2022-02-08T19:14:34.406208",
     "status": "completed"
    },
    "tags": []
   },
   "outputs": [],
   "source": [
    "# ВАЖНО! дря корректной обработки признаков объединяем трейн и тест в один датасет\n",
    "df_train['sample'] = 1 # помечаем где у нас трейн\n",
    "df_test['sample'] = 0 # помечаем где у нас тест\n",
    "df_test['reviewer_score'] = 0 # в тесте у нас нет значения reviewer_score заполняем нулями\n",
    "\n",
    "# объединяем\n",
    "data = pd.concat([df_test, df_train], axis=0, ignore_index=True)"
   ]
  },
  {
   "cell_type": "code",
   "execution_count": 114,
   "id": "9c492391",
   "metadata": {
    "execution": {
     "iopub.execute_input": "2022-02-08T19:14:34.973792Z",
     "iopub.status.busy": "2022-02-08T19:14:34.973193Z",
     "iopub.status.idle": "2022-02-08T19:14:35.186288Z",
     "shell.execute_reply": "2022-02-08T19:14:35.185728Z",
     "shell.execute_reply.started": "2022-02-08T18:44:34.015455Z"
    },
    "papermill": {
     "duration": 0.242101,
     "end_time": "2022-02-08T19:14:35.186448",
     "exception": false,
     "start_time": "2022-02-08T19:14:34.944347",
     "status": "completed"
    },
    "tags": []
   },
   "outputs": [
    {
     "name": "stdout",
     "output_type": "stream",
     "text": [
      "<class 'pandas.core.frame.DataFrame'>\n",
      "RangeIndex: 515738 entries, 0 to 515737\n",
      "Data columns (total 18 columns):\n",
      " #   Column                                      Non-Null Count   Dtype  \n",
      "---  ------                                      --------------   -----  \n",
      " 0   hotel_address                               515738 non-null  object \n",
      " 1   additional_number_of_scoring                515738 non-null  int64  \n",
      " 2   review_date                                 515738 non-null  object \n",
      " 3   average_score                               515738 non-null  float64\n",
      " 4   hotel_name                                  515738 non-null  object \n",
      " 5   reviewer_nationality                        515738 non-null  object \n",
      " 6   negative_review                             515738 non-null  object \n",
      " 7   review_total_negative_word_counts           515738 non-null  int64  \n",
      " 8   total_number_of_reviews                     515738 non-null  int64  \n",
      " 9   positive_review                             515738 non-null  object \n",
      " 10  review_total_positive_word_counts           515738 non-null  int64  \n",
      " 11  total_number_of_reviews_reviewer_has_given  515738 non-null  int64  \n",
      " 12  tags                                        515738 non-null  object \n",
      " 13  days_since_review                           515738 non-null  object \n",
      " 14  lat                                         512470 non-null  float64\n",
      " 15  lng                                         512470 non-null  float64\n",
      " 16  sample                                      515738 non-null  int64  \n",
      " 17  reviewer_score                              515738 non-null  float64\n",
      "dtypes: float64(4), int64(6), object(8)\n",
      "memory usage: 70.8+ MB\n"
     ]
    }
   ],
   "source": [
    "data.info()"
   ]
  },
  {
   "cell_type": "code",
   "execution_count": null,
   "id": "3076dd6f",
   "metadata": {},
   "outputs": [],
   "source": []
  },
  {
   "attachments": {},
   "cell_type": "markdown",
   "id": "38e28ffc",
   "metadata": {},
   "source": [
    "### Для корректной работы модели преобразуем пропущенные данные\n",
    "* Пропущенные данные встречаются в столбцах геопозиции. Заменяем пропуски нулем."
   ]
  },
  {
   "cell_type": "code",
   "execution_count": 115,
   "id": "15b9af25",
   "metadata": {
    "execution": {
     "iopub.execute_input": "2022-02-08T19:14:35.237845Z",
     "iopub.status.busy": "2022-02-08T19:14:35.236834Z",
     "iopub.status.idle": "2022-02-08T19:14:35.259821Z",
     "shell.execute_reply": "2022-02-08T19:14:35.259247Z",
     "shell.execute_reply.started": "2022-02-08T18:44:34.479202Z"
    },
    "papermill": {
     "duration": 0.04969,
     "end_time": "2022-02-08T19:14:35.259972",
     "exception": false,
     "start_time": "2022-02-08T19:14:35.210282",
     "status": "completed"
    },
    "tags": []
   },
   "outputs": [],
   "source": [
    "\n",
    "data['lat'] = data['lat'].fillna(0)\n",
    "data['lng'] = data['lng'].fillna(0)"
   ]
  },
  {
   "attachments": {},
   "cell_type": "markdown",
   "id": "87a24c9d",
   "metadata": {},
   "source": [
    "### Преобразование признаков\n",
    "* Преобразуем review_date в формат даты\n",
    "* Сoздадим новый признак review_days с количеством дней, за точку осчета возьмем максимальную дату в датасете. Получится количетсво прошедших дней с даты последнего отзыва.\n",
    "* Создадим новый признак review_month - месяц, в котором составлен отзыв\n",
    "* days_since_review преобразуем в числовой формат\n",
    "* Первоначальный review_date удалим"
   ]
  },
  {
   "cell_type": "code",
   "execution_count": 116,
   "id": "02c117ed",
   "metadata": {},
   "outputs": [
    {
     "data": {
      "text/plain": [
       "'Максимальная дата (дата последнего отзыва): 2017-08-03'"
      ]
     },
     "metadata": {},
     "output_type": "display_data"
    }
   ],
   "source": [
    "data['review_date'] = pd.to_datetime(data.review_date, format='%m/%d/%Y')\n",
    "display(f\"Максимальная дата (дата последнего отзыва): {data['review_date'].max():%Y-%m-%d}\")\n",
    "data['review_days'] = (pd.to_datetime(data['review_date'].max()) - data['review_date']).dt.days\n",
    "\n",
    "data['review_month'] = data['review_date'].dt.month\n",
    "data['days_since_review'] = pd.to_timedelta(data['days_since_review']).dt.days\n",
    "\n",
    "data.drop(columns='review_date', inplace=True)"
   ]
  },
  {
   "attachments": {},
   "cell_type": "markdown",
   "id": "31a0d607",
   "metadata": {},
   "source": [
    "#### Преобразуем столбец tags\n",
    "* Для получения списка тегов в виде list oбрезаем пробелы и символы []\" в начале и в конце значений столбца\n",
    "* Создаем лист используя разделитель \" ,\"\n",
    "* У каждого тега внутри листа обрезаем пробелы и символы ' \"\n",
    "* Создаем новый признак tags_count с количиством тегов"
   ]
  },
  {
   "cell_type": "code",
   "execution_count": 117,
   "id": "ef62bf5a",
   "metadata": {},
   "outputs": [
    {
     "data": {
      "text/plain": [
       "Leisure trip                      417778\n",
       "Submitted from a mobile device    307640\n",
       "Couple                            252294\n",
       "Stayed 1 night                    193645\n",
       "Stayed 2 nights                   133937\n",
       "Solo traveler                     108545\n",
       "Stayed 3 nights                    95821\n",
       "Business trip                      82939\n",
       "Group                              65392\n",
       "Family with young children         61015\n",
       "Name: tags, dtype: int64"
      ]
     },
     "metadata": {},
     "output_type": "display_data"
    }
   ],
   "source": [
    "data['tags'] = data['tags'].str.strip('\" []').str.split(\", \").apply(lambda x: [tag.strip('\\\"\\' ') for tag in x])\n",
    "display(data['tags'].explode().value_counts().head(10))\n",
    "data['tags_count'] = data['tags'].apply(len)"
   ]
  },
  {
   "attachments": {},
   "cell_type": "markdown",
   "id": "145942b7",
   "metadata": {},
   "source": [
    "* Для десяти самых популярных тегов создадим отдельные признаки"
   ]
  },
  {
   "cell_type": "code",
   "execution_count": 118,
   "id": "1ea273da",
   "metadata": {},
   "outputs": [
    {
     "data": {
      "text/plain": [
       "['Leisure trip',\n",
       " 'Submitted from a mobile device',\n",
       " 'Couple',\n",
       " 'Stayed 1 night',\n",
       " 'Stayed 2 nights',\n",
       " 'Solo traveler',\n",
       " 'Stayed 3 nights',\n",
       " 'Business trip',\n",
       " 'Group',\n",
       " 'Family with young children']"
      ]
     },
     "execution_count": 118,
     "metadata": {},
     "output_type": "execute_result"
    }
   ],
   "source": [
    "popular_tegs = data['tags'].explode().value_counts().nlargest(10).index.to_list()\n",
    "popular_tegs"
   ]
  },
  {
   "cell_type": "code",
   "execution_count": 119,
   "id": "9e23c067",
   "metadata": {},
   "outputs": [
    {
     "data": {
      "text/plain": [
       "'New columns:'"
      ]
     },
     "metadata": {},
     "output_type": "display_data"
    },
    {
     "data": {
      "text/plain": [
       "['Leisure trip',\n",
       " 'Submitted from a mobile device',\n",
       " 'Couple',\n",
       " 'Stayed 1 night',\n",
       " 'Stayed 2 nights',\n",
       " 'Solo traveler',\n",
       " 'Stayed 3 nights',\n",
       " 'Business trip',\n",
       " 'Group',\n",
       " 'Family with young children']"
      ]
     },
     "metadata": {},
     "output_type": "display_data"
    },
    {
     "data": {
      "text/html": [
       "<div>\n",
       "<style scoped>\n",
       "    .dataframe tbody tr th:only-of-type {\n",
       "        vertical-align: middle;\n",
       "    }\n",
       "\n",
       "    .dataframe tbody tr th {\n",
       "        vertical-align: top;\n",
       "    }\n",
       "\n",
       "    .dataframe thead th {\n",
       "        text-align: right;\n",
       "    }\n",
       "</style>\n",
       "<table border=\"1\" class=\"dataframe\">\n",
       "  <thead>\n",
       "    <tr style=\"text-align: right;\">\n",
       "      <th></th>\n",
       "      <th>hotel_address</th>\n",
       "      <th>additional_number_of_scoring</th>\n",
       "      <th>average_score</th>\n",
       "      <th>hotel_name</th>\n",
       "      <th>reviewer_nationality</th>\n",
       "      <th>negative_review</th>\n",
       "      <th>review_total_negative_word_counts</th>\n",
       "      <th>total_number_of_reviews</th>\n",
       "      <th>positive_review</th>\n",
       "      <th>review_total_positive_word_counts</th>\n",
       "      <th>...</th>\n",
       "      <th>Leisure trip</th>\n",
       "      <th>Submitted from a mobile device</th>\n",
       "      <th>Couple</th>\n",
       "      <th>Stayed 1 night</th>\n",
       "      <th>Stayed 2 nights</th>\n",
       "      <th>Solo traveler</th>\n",
       "      <th>Stayed 3 nights</th>\n",
       "      <th>Business trip</th>\n",
       "      <th>Group</th>\n",
       "      <th>Family with young children</th>\n",
       "    </tr>\n",
       "  </thead>\n",
       "  <tbody>\n",
       "    <tr>\n",
       "      <th>0</th>\n",
       "      <td>Via Senigallia 6 20161 Milan Italy</td>\n",
       "      <td>904</td>\n",
       "      <td>8.1</td>\n",
       "      <td>Hotel Da Vinci</td>\n",
       "      <td>United Kingdom</td>\n",
       "      <td>Would have appreciated a shop in the hotel th...</td>\n",
       "      <td>52</td>\n",
       "      <td>16670</td>\n",
       "      <td>Hotel was great clean friendly staff free bre...</td>\n",
       "      <td>62</td>\n",
       "      <td>...</td>\n",
       "      <td>True</td>\n",
       "      <td>False</td>\n",
       "      <td>True</td>\n",
       "      <td>False</td>\n",
       "      <td>True</td>\n",
       "      <td>False</td>\n",
       "      <td>False</td>\n",
       "      <td>False</td>\n",
       "      <td>False</td>\n",
       "      <td>False</td>\n",
       "    </tr>\n",
       "    <tr>\n",
       "      <th>1</th>\n",
       "      <td>Arlandaweg 10 Westpoort 1043 EW Amsterdam Neth...</td>\n",
       "      <td>612</td>\n",
       "      <td>8.6</td>\n",
       "      <td>Urban Lodge Hotel</td>\n",
       "      <td>Belgium</td>\n",
       "      <td>No tissue paper box was present at the room</td>\n",
       "      <td>10</td>\n",
       "      <td>5018</td>\n",
       "      <td>No Positive</td>\n",
       "      <td>0</td>\n",
       "      <td>...</td>\n",
       "      <td>True</td>\n",
       "      <td>False</td>\n",
       "      <td>False</td>\n",
       "      <td>True</td>\n",
       "      <td>False</td>\n",
       "      <td>False</td>\n",
       "      <td>False</td>\n",
       "      <td>False</td>\n",
       "      <td>True</td>\n",
       "      <td>False</td>\n",
       "    </tr>\n",
       "    <tr>\n",
       "      <th>2</th>\n",
       "      <td>Mallorca 251 Eixample 08008 Barcelona Spain</td>\n",
       "      <td>46</td>\n",
       "      <td>8.3</td>\n",
       "      <td>Alexandra Barcelona A DoubleTree by Hilton</td>\n",
       "      <td>Sweden</td>\n",
       "      <td>Pillows</td>\n",
       "      <td>3</td>\n",
       "      <td>351</td>\n",
       "      <td>Nice welcoming and service</td>\n",
       "      <td>5</td>\n",
       "      <td>...</td>\n",
       "      <td>False</td>\n",
       "      <td>True</td>\n",
       "      <td>False</td>\n",
       "      <td>True</td>\n",
       "      <td>False</td>\n",
       "      <td>True</td>\n",
       "      <td>False</td>\n",
       "      <td>True</td>\n",
       "      <td>False</td>\n",
       "      <td>False</td>\n",
       "    </tr>\n",
       "    <tr>\n",
       "      <th>3</th>\n",
       "      <td>Piazza Della Repubblica 17 Central Station 201...</td>\n",
       "      <td>241</td>\n",
       "      <td>9.1</td>\n",
       "      <td>Hotel Principe Di Savoia</td>\n",
       "      <td>United States of America</td>\n",
       "      <td>No Negative</td>\n",
       "      <td>0</td>\n",
       "      <td>1543</td>\n",
       "      <td>Everything including the nice upgrade The Hot...</td>\n",
       "      <td>27</td>\n",
       "      <td>...</td>\n",
       "      <td>True</td>\n",
       "      <td>False</td>\n",
       "      <td>True</td>\n",
       "      <td>True</td>\n",
       "      <td>False</td>\n",
       "      <td>False</td>\n",
       "      <td>False</td>\n",
       "      <td>False</td>\n",
       "      <td>False</td>\n",
       "      <td>False</td>\n",
       "    </tr>\n",
       "    <tr>\n",
       "      <th>4</th>\n",
       "      <td>Singel 303 309 Amsterdam City Center 1012 WJ A...</td>\n",
       "      <td>834</td>\n",
       "      <td>9.1</td>\n",
       "      <td>Hotel Esther a</td>\n",
       "      <td>United Kingdom</td>\n",
       "      <td>No Negative</td>\n",
       "      <td>0</td>\n",
       "      <td>4687</td>\n",
       "      <td>Lovely hotel v welcoming staff</td>\n",
       "      <td>7</td>\n",
       "      <td>...</td>\n",
       "      <td>False</td>\n",
       "      <td>True</td>\n",
       "      <td>False</td>\n",
       "      <td>False</td>\n",
       "      <td>True</td>\n",
       "      <td>True</td>\n",
       "      <td>False</td>\n",
       "      <td>True</td>\n",
       "      <td>False</td>\n",
       "      <td>False</td>\n",
       "    </tr>\n",
       "  </tbody>\n",
       "</table>\n",
       "<p>5 rows × 30 columns</p>\n",
       "</div>"
      ],
      "text/plain": [
       "                                       hotel_address  \\\n",
       "0                 Via Senigallia 6 20161 Milan Italy   \n",
       "1  Arlandaweg 10 Westpoort 1043 EW Amsterdam Neth...   \n",
       "2        Mallorca 251 Eixample 08008 Barcelona Spain   \n",
       "3  Piazza Della Repubblica 17 Central Station 201...   \n",
       "4  Singel 303 309 Amsterdam City Center 1012 WJ A...   \n",
       "\n",
       "   additional_number_of_scoring  average_score  \\\n",
       "0                           904            8.1   \n",
       "1                           612            8.6   \n",
       "2                            46            8.3   \n",
       "3                           241            9.1   \n",
       "4                           834            9.1   \n",
       "\n",
       "                                   hotel_name        reviewer_nationality  \\\n",
       "0                              Hotel Da Vinci             United Kingdom    \n",
       "1                           Urban Lodge Hotel                    Belgium    \n",
       "2  Alexandra Barcelona A DoubleTree by Hilton                     Sweden    \n",
       "3                    Hotel Principe Di Savoia   United States of America    \n",
       "4                              Hotel Esther a             United Kingdom    \n",
       "\n",
       "                                     negative_review  \\\n",
       "0   Would have appreciated a shop in the hotel th...   \n",
       "1        No tissue paper box was present at the room   \n",
       "2                                           Pillows    \n",
       "3                                        No Negative   \n",
       "4                                        No Negative   \n",
       "\n",
       "   review_total_negative_word_counts  total_number_of_reviews  \\\n",
       "0                                 52                    16670   \n",
       "1                                 10                     5018   \n",
       "2                                  3                      351   \n",
       "3                                  0                     1543   \n",
       "4                                  0                     4687   \n",
       "\n",
       "                                     positive_review  \\\n",
       "0   Hotel was great clean friendly staff free bre...   \n",
       "1                                        No Positive   \n",
       "2                         Nice welcoming and service   \n",
       "3   Everything including the nice upgrade The Hot...   \n",
       "4                    Lovely hotel v welcoming staff    \n",
       "\n",
       "   review_total_positive_word_counts  ...  Leisure trip  \\\n",
       "0                                 62  ...          True   \n",
       "1                                  0  ...          True   \n",
       "2                                  5  ...         False   \n",
       "3                                 27  ...          True   \n",
       "4                                  7  ...         False   \n",
       "\n",
       "  Submitted from a mobile device  Couple  Stayed 1 night  Stayed 2 nights  \\\n",
       "0                          False    True           False             True   \n",
       "1                          False   False            True            False   \n",
       "2                           True   False            True            False   \n",
       "3                          False    True            True            False   \n",
       "4                           True   False           False             True   \n",
       "\n",
       "   Solo traveler  Stayed 3 nights  Business trip  Group  \\\n",
       "0          False            False          False  False   \n",
       "1          False            False          False   True   \n",
       "2           True            False           True  False   \n",
       "3          False            False          False  False   \n",
       "4           True            False           True  False   \n",
       "\n",
       "   Family with young children  \n",
       "0                       False  \n",
       "1                       False  \n",
       "2                       False  \n",
       "3                       False  \n",
       "4                       False  \n",
       "\n",
       "[5 rows x 30 columns]"
      ]
     },
     "execution_count": 119,
     "metadata": {},
     "output_type": "execute_result"
    }
   ],
   "source": [
    "def tags_columns(df):\n",
    "    for new_col in popular_tegs:\n",
    "        df[new_col] = df['tags'].apply(lambda x: new_col in x)\n",
    "    return display(\"New columns:\", popular_tegs)\n",
    "\n",
    "tags_columns(data)\n",
    "data.head()"
   ]
  },
  {
   "attachments": {},
   "cell_type": "markdown",
   "id": "003f19e9",
   "metadata": {},
   "source": [
    "#### Преобразуем 'reviewer_nationality'\n",
    "* Отберем пять наиболее часто встречающихся национальностей, остальные заменим на 'other'."
   ]
  },
  {
   "cell_type": "code",
   "execution_count": 120,
   "id": "da9476e0",
   "metadata": {},
   "outputs": [
    {
     "data": {
      "text/plain": [
       " United Kingdom               245246\n",
       " United States of America      35437\n",
       " Australia                     21686\n",
       " Ireland                       14827\n",
       " United Arab Emirates          10235\n",
       "Name: reviewer_nationality, dtype: int64"
      ]
     },
     "execution_count": 120,
     "metadata": {},
     "output_type": "execute_result"
    }
   ],
   "source": [
    "data['reviewer_nationality'].value_counts().head(5)"
   ]
  },
  {
   "cell_type": "code",
   "execution_count": 121,
   "id": "b9fb06c2",
   "metadata": {},
   "outputs": [
    {
     "data": {
      "text/plain": [
       "[' United Kingdom ',\n",
       " ' United States of America ',\n",
       " ' Australia ',\n",
       " ' Ireland ',\n",
       " ' United Arab Emirates ']"
      ]
     },
     "metadata": {},
     "output_type": "display_data"
    }
   ],
   "source": [
    "reviewer_nationality_list = data['reviewer_nationality'].value_counts().head(5).index.to_list()\n",
    "display(reviewer_nationality_list)"
   ]
  },
  {
   "cell_type": "code",
   "execution_count": 122,
   "id": "a9b3d37b",
   "metadata": {},
   "outputs": [],
   "source": [
    "data['reviewer_nationality_cat'] = data['reviewer_nationality'].apply(lambda x: x \n",
    "                                                                      if x in reviewer_nationality_list \n",
    "                                                                      else ' Other ')"
   ]
  },
  {
   "cell_type": "code",
   "execution_count": 123,
   "id": "9e7f05c9",
   "metadata": {},
   "outputs": [
    {
     "data": {
      "text/plain": [
       " United Kingdom               245246\n",
       " Other                        188307\n",
       " United States of America      35437\n",
       " Australia                     21686\n",
       " Ireland                       14827\n",
       " United Arab Emirates          10235\n",
       "Name: reviewer_nationality_cat, dtype: int64"
      ]
     },
     "execution_count": 123,
     "metadata": {},
     "output_type": "execute_result"
    }
   ],
   "source": [
    "data['reviewer_nationality_cat'].value_counts()"
   ]
  },
  {
   "attachments": {},
   "cell_type": "markdown",
   "id": "dc67c29f",
   "metadata": {},
   "source": [
    "#### Преобразуем созданный 'reviewer_nationality_cat' методом  OneHotEncoder"
   ]
  },
  {
   "cell_type": "code",
   "execution_count": 124,
   "id": "d9b6bd16",
   "metadata": {},
   "outputs": [],
   "source": [
    "OH_encoder = OneHotEncoder(sparse_output=False)\n",
    "OH_reviewer_nationality_cat = pd.DataFrame(\n",
    "                                           OH_encoder.fit_transform(data[['reviewer_nationality_cat']])\n",
    "                                           ).add_prefix('rev_nat_')\n",
    "OH_reviewer_nationality_cat.index = data.index  # возвращаем индексы\n",
    "\n",
    "# присоеденим к исходной таблице\n",
    "data = pd.concat([data, OH_reviewer_nationality_cat], axis=1)\n",
    "\n",
    "# удалим столбец reviewer_nationality_cat\n",
    "data.drop(columns='reviewer_nationality_cat', inplace=True)"
   ]
  },
  {
   "attachments": {},
   "cell_type": "markdown",
   "id": "d4b55218",
   "metadata": {},
   "source": [
    "#### Создадим признак net_char_count как разницу в количестве символов положительного и отрицательного отзыва\n",
    "* Отсутсвие позитивного отзыва помечено 'No Positive'\n",
    "* Отсутвие негативного отзыва помечено, 'No Negative'. В тоже время довольно часто встречаются другие формулировки.\n",
    "* Проверим и сделаем специальный список."
   ]
  },
  {
   "cell_type": "code",
   "execution_count": 125,
   "id": "0993bc64",
   "metadata": {},
   "outputs": [
    {
     "data": {
      "text/plain": [
       "['No Negative',\n",
       " ' Nothing',\n",
       " ' Nothing ',\n",
       " ' nothing',\n",
       " ' N A',\n",
       " ' None',\n",
       " ' ',\n",
       " ' N a',\n",
       " ' Breakfast',\n",
       " ' Small room',\n",
       " ' Location',\n",
       " ' Everything',\n",
       " ' All good',\n",
       " ' Nothing really',\n",
       " ' none']"
      ]
     },
     "execution_count": 125,
     "metadata": {},
     "output_type": "execute_result"
    }
   ],
   "source": [
    "data['negative_review'].value_counts().nlargest(15).index.to_list()"
   ]
  },
  {
   "cell_type": "code",
   "execution_count": 126,
   "id": "52ffb92f",
   "metadata": {},
   "outputs": [],
   "source": [
    "no_negative_list = ['No Negative', ' Nothing', ' Nothing ', ' nothing', ' N A', ' None', ' ', ' N a',\n",
    "                    ' All good', ' Nothing really', ' none', ' nothing ', ' No complaints', ' Nothing really ',\n",
    "                    ' Nil', ' n a', ' Nothing at all', ' Nothing to dislike', ' Nothing at all ', ' None ',\n",
    "                    ' No complaints ', ' All good ', ' NA', ' Can t think of anything ', ' Absolutely nothing ',\n",
    "                    ' No', ' Everything was perfect', ' Nothing to dislike ', ' Everything was perfect ',\n",
    "                    ' Everything was great ', ' Nothing to complain about ', ' NOTHING', ' Na',\n",
    "                    ' Can t think of anything', ' Nothing not to like']\n",
    "\n",
    "data['net_char_count'] = (data['positive_review'].apply(lambda x: 0 if x == 'No Positive' else len(x)) \n",
    "                          - data['negative_review'].apply(lambda x: 0 if x in no_negative_list else len(x)))"
   ]
  },
  {
   "attachments": {},
   "cell_type": "markdown",
   "id": "e21c88cc",
   "metadata": {},
   "source": [
    "#### Из негативных и позитивных отзывов извлечем часто встречающиеся слова и создадим из них отдельные признаки."
   ]
  },
  {
   "cell_type": "code",
   "execution_count": 127,
   "id": "fb52696d",
   "metadata": {},
   "outputs": [
    {
     "data": {
      "text/plain": [
       "['the',\n",
       " 'and',\n",
       " 'was',\n",
       " 'staff',\n",
       " 'location',\n",
       " 'very',\n",
       " 'to',\n",
       " 'a',\n",
       " 'room',\n",
       " 'hotel',\n",
       " 'in',\n",
       " 'good',\n",
       " 'of',\n",
       " 'great',\n",
       " 'is',\n",
       " 'for',\n",
       " 'were',\n",
       " 'friendly',\n",
       " 'breakfast',\n",
       " 'helpful',\n",
       " 'nice',\n",
       " 'we',\n",
       " 'clean',\n",
       " 'with',\n",
       " 'excellent']"
      ]
     },
     "execution_count": 127,
     "metadata": {},
     "output_type": "execute_result"
    }
   ],
   "source": [
    "data['positive_review'].str.lower().str.split().explode().value_counts().nlargest(25).index.to_list()"
   ]
  },
  {
   "cell_type": "code",
   "execution_count": 128,
   "id": "07ee6516",
   "metadata": {},
   "outputs": [
    {
     "data": {
      "text/plain": [
       "['the',\n",
       " 'was',\n",
       " 'a',\n",
       " 'to',\n",
       " 'and',\n",
       " 'no',\n",
       " 'room',\n",
       " 'in',\n",
       " 'negative',\n",
       " 'not',\n",
       " 'i',\n",
       " 'of',\n",
       " 'for',\n",
       " 'it',\n",
       " 'we',\n",
       " 'is',\n",
       " 'very',\n",
       " 'but',\n",
       " 'hotel',\n",
       " 't',\n",
       " 'on',\n",
       " 'were',\n",
       " 'at',\n",
       " 'had',\n",
       " 'that',\n",
       " 'breakfast',\n",
       " 'have',\n",
       " 'with',\n",
       " 'small',\n",
       " 'there']"
      ]
     },
     "execution_count": 128,
     "metadata": {},
     "output_type": "execute_result"
    }
   ],
   "source": [
    "data['negative_review'].str.lower().str.split().explode().value_counts().nlargest(30).index.to_list()"
   ]
  },
  {
   "cell_type": "code",
   "execution_count": 129,
   "id": "135118d3",
   "metadata": {},
   "outputs": [
    {
     "data": {
      "text/plain": [
       "'New columns:'"
      ]
     },
     "metadata": {},
     "output_type": "display_data"
    },
    {
     "data": {
      "text/plain": [
       "['staff',\n",
       " 'very',\n",
       " 'location',\n",
       " 'room',\n",
       " 'hotel',\n",
       " 'good',\n",
       " 'helpful',\n",
       " 'friendly',\n",
       " 'great',\n",
       " 'breakfast',\n",
       " 'clean']"
      ]
     },
     "metadata": {},
     "output_type": "display_data"
    },
    {
     "data": {
      "text/plain": [
       "['room', 'very', 'hotel', 'small']"
      ]
     },
     "metadata": {},
     "output_type": "display_data"
    },
    {
     "data": {
      "text/html": [
       "<div>\n",
       "<style scoped>\n",
       "    .dataframe tbody tr th:only-of-type {\n",
       "        vertical-align: middle;\n",
       "    }\n",
       "\n",
       "    .dataframe tbody tr th {\n",
       "        vertical-align: top;\n",
       "    }\n",
       "\n",
       "    .dataframe thead th {\n",
       "        text-align: right;\n",
       "    }\n",
       "</style>\n",
       "<table border=\"1\" class=\"dataframe\">\n",
       "  <thead>\n",
       "    <tr style=\"text-align: right;\">\n",
       "      <th></th>\n",
       "      <th>hotel_address</th>\n",
       "      <th>additional_number_of_scoring</th>\n",
       "      <th>average_score</th>\n",
       "      <th>hotel_name</th>\n",
       "      <th>reviewer_nationality</th>\n",
       "      <th>negative_review</th>\n",
       "      <th>review_total_negative_word_counts</th>\n",
       "      <th>total_number_of_reviews</th>\n",
       "      <th>positive_review</th>\n",
       "      <th>review_total_positive_word_counts</th>\n",
       "      <th>...</th>\n",
       "      <th>p_good</th>\n",
       "      <th>p_helpful</th>\n",
       "      <th>p_friendly</th>\n",
       "      <th>p_great</th>\n",
       "      <th>p_breakfast</th>\n",
       "      <th>p_clean</th>\n",
       "      <th>n_room</th>\n",
       "      <th>n_very</th>\n",
       "      <th>n_hotel</th>\n",
       "      <th>n_small</th>\n",
       "    </tr>\n",
       "  </thead>\n",
       "  <tbody>\n",
       "    <tr>\n",
       "      <th>0</th>\n",
       "      <td>Via Senigallia 6 20161 Milan Italy</td>\n",
       "      <td>904</td>\n",
       "      <td>8.1</td>\n",
       "      <td>Hotel Da Vinci</td>\n",
       "      <td>United Kingdom</td>\n",
       "      <td>Would have appreciated a shop in the hotel th...</td>\n",
       "      <td>52</td>\n",
       "      <td>16670</td>\n",
       "      <td>Hotel was great clean friendly staff free bre...</td>\n",
       "      <td>62</td>\n",
       "      <td>...</td>\n",
       "      <td>True</td>\n",
       "      <td>False</td>\n",
       "      <td>True</td>\n",
       "      <td>True</td>\n",
       "      <td>True</td>\n",
       "      <td>True</td>\n",
       "      <td>False</td>\n",
       "      <td>False</td>\n",
       "      <td>True</td>\n",
       "      <td>False</td>\n",
       "    </tr>\n",
       "    <tr>\n",
       "      <th>1</th>\n",
       "      <td>Arlandaweg 10 Westpoort 1043 EW Amsterdam Neth...</td>\n",
       "      <td>612</td>\n",
       "      <td>8.6</td>\n",
       "      <td>Urban Lodge Hotel</td>\n",
       "      <td>Belgium</td>\n",
       "      <td>No tissue paper box was present at the room</td>\n",
       "      <td>10</td>\n",
       "      <td>5018</td>\n",
       "      <td>No Positive</td>\n",
       "      <td>0</td>\n",
       "      <td>...</td>\n",
       "      <td>False</td>\n",
       "      <td>False</td>\n",
       "      <td>False</td>\n",
       "      <td>False</td>\n",
       "      <td>False</td>\n",
       "      <td>False</td>\n",
       "      <td>True</td>\n",
       "      <td>False</td>\n",
       "      <td>False</td>\n",
       "      <td>False</td>\n",
       "    </tr>\n",
       "    <tr>\n",
       "      <th>2</th>\n",
       "      <td>Mallorca 251 Eixample 08008 Barcelona Spain</td>\n",
       "      <td>46</td>\n",
       "      <td>8.3</td>\n",
       "      <td>Alexandra Barcelona A DoubleTree by Hilton</td>\n",
       "      <td>Sweden</td>\n",
       "      <td>Pillows</td>\n",
       "      <td>3</td>\n",
       "      <td>351</td>\n",
       "      <td>Nice welcoming and service</td>\n",
       "      <td>5</td>\n",
       "      <td>...</td>\n",
       "      <td>False</td>\n",
       "      <td>False</td>\n",
       "      <td>False</td>\n",
       "      <td>False</td>\n",
       "      <td>False</td>\n",
       "      <td>False</td>\n",
       "      <td>False</td>\n",
       "      <td>False</td>\n",
       "      <td>False</td>\n",
       "      <td>False</td>\n",
       "    </tr>\n",
       "    <tr>\n",
       "      <th>3</th>\n",
       "      <td>Piazza Della Repubblica 17 Central Station 201...</td>\n",
       "      <td>241</td>\n",
       "      <td>9.1</td>\n",
       "      <td>Hotel Principe Di Savoia</td>\n",
       "      <td>United States of America</td>\n",
       "      <td>No Negative</td>\n",
       "      <td>0</td>\n",
       "      <td>1543</td>\n",
       "      <td>Everything including the nice upgrade The Hot...</td>\n",
       "      <td>27</td>\n",
       "      <td>...</td>\n",
       "      <td>False</td>\n",
       "      <td>False</td>\n",
       "      <td>False</td>\n",
       "      <td>False</td>\n",
       "      <td>False</td>\n",
       "      <td>False</td>\n",
       "      <td>False</td>\n",
       "      <td>False</td>\n",
       "      <td>False</td>\n",
       "      <td>False</td>\n",
       "    </tr>\n",
       "    <tr>\n",
       "      <th>4</th>\n",
       "      <td>Singel 303 309 Amsterdam City Center 1012 WJ A...</td>\n",
       "      <td>834</td>\n",
       "      <td>9.1</td>\n",
       "      <td>Hotel Esther a</td>\n",
       "      <td>United Kingdom</td>\n",
       "      <td>No Negative</td>\n",
       "      <td>0</td>\n",
       "      <td>4687</td>\n",
       "      <td>Lovely hotel v welcoming staff</td>\n",
       "      <td>7</td>\n",
       "      <td>...</td>\n",
       "      <td>False</td>\n",
       "      <td>False</td>\n",
       "      <td>False</td>\n",
       "      <td>False</td>\n",
       "      <td>False</td>\n",
       "      <td>False</td>\n",
       "      <td>False</td>\n",
       "      <td>False</td>\n",
       "      <td>False</td>\n",
       "      <td>False</td>\n",
       "    </tr>\n",
       "  </tbody>\n",
       "</table>\n",
       "<p>5 rows × 52 columns</p>\n",
       "</div>"
      ],
      "text/plain": [
       "                                       hotel_address  \\\n",
       "0                 Via Senigallia 6 20161 Milan Italy   \n",
       "1  Arlandaweg 10 Westpoort 1043 EW Amsterdam Neth...   \n",
       "2        Mallorca 251 Eixample 08008 Barcelona Spain   \n",
       "3  Piazza Della Repubblica 17 Central Station 201...   \n",
       "4  Singel 303 309 Amsterdam City Center 1012 WJ A...   \n",
       "\n",
       "   additional_number_of_scoring  average_score  \\\n",
       "0                           904            8.1   \n",
       "1                           612            8.6   \n",
       "2                            46            8.3   \n",
       "3                           241            9.1   \n",
       "4                           834            9.1   \n",
       "\n",
       "                                   hotel_name        reviewer_nationality  \\\n",
       "0                              Hotel Da Vinci             United Kingdom    \n",
       "1                           Urban Lodge Hotel                    Belgium    \n",
       "2  Alexandra Barcelona A DoubleTree by Hilton                     Sweden    \n",
       "3                    Hotel Principe Di Savoia   United States of America    \n",
       "4                              Hotel Esther a             United Kingdom    \n",
       "\n",
       "                                     negative_review  \\\n",
       "0   Would have appreciated a shop in the hotel th...   \n",
       "1        No tissue paper box was present at the room   \n",
       "2                                           Pillows    \n",
       "3                                        No Negative   \n",
       "4                                        No Negative   \n",
       "\n",
       "   review_total_negative_word_counts  total_number_of_reviews  \\\n",
       "0                                 52                    16670   \n",
       "1                                 10                     5018   \n",
       "2                                  3                      351   \n",
       "3                                  0                     1543   \n",
       "4                                  0                     4687   \n",
       "\n",
       "                                     positive_review  \\\n",
       "0   Hotel was great clean friendly staff free bre...   \n",
       "1                                        No Positive   \n",
       "2                         Nice welcoming and service   \n",
       "3   Everything including the nice upgrade The Hot...   \n",
       "4                    Lovely hotel v welcoming staff    \n",
       "\n",
       "   review_total_positive_word_counts  ...  p_good p_helpful  p_friendly  \\\n",
       "0                                 62  ...    True     False        True   \n",
       "1                                  0  ...   False     False       False   \n",
       "2                                  5  ...   False     False       False   \n",
       "3                                 27  ...   False     False       False   \n",
       "4                                  7  ...   False     False       False   \n",
       "\n",
       "   p_great  p_breakfast  p_clean  n_room  n_very  n_hotel  n_small  \n",
       "0     True         True     True   False   False     True    False  \n",
       "1    False        False    False    True   False    False    False  \n",
       "2    False        False    False   False   False    False    False  \n",
       "3    False        False    False   False   False    False    False  \n",
       "4    False        False    False   False   False    False    False  \n",
       "\n",
       "[5 rows x 52 columns]"
      ]
     },
     "execution_count": 129,
     "metadata": {},
     "output_type": "execute_result"
    }
   ],
   "source": [
    "positive_words_list = ['staff', 'very', 'location', 'room', 'hotel', 'good', 'helpful',\n",
    "                       'friendly', 'great', 'breakfast', 'clean']\n",
    "negative_words_list = ['room', 'very', 'hotel', 'small']\n",
    "\n",
    "def review_words_columns(df):\n",
    "    df['positive_words'] = df['positive_review'].str.lower().str.split()  # позитивные слова\n",
    "    \n",
    "    for new_col in positive_words_list:\n",
    "        df[('p_' + new_col)] = df['positive_words'].apply(lambda x: new_col in x)\n",
    "    \n",
    "    df['negative_words'] = df['negative_review'].str.lower().str.split()  # негативные слова\n",
    "    for new_col in negative_words_list:\n",
    "        df[('n_' + new_col)] = df['negative_words'].apply(lambda x: new_col in x)\n",
    "    \n",
    "        \n",
    "    df.drop(columns=['positive_words', 'negative_words'], inplace=True)  # удаляем временные столбцы\n",
    "    return display(\"New columns:\", positive_words_list, negative_words_list)\n",
    "\n",
    "review_words_columns(data)\n",
    "data.head()"
   ]
  },
  {
   "cell_type": "code",
   "execution_count": 130,
   "id": "0ea70ca9",
   "metadata": {},
   "outputs": [],
   "source": [
    "# убираем признаки не преобразованные из типа \"object\"\n",
    "\n",
    "object_columns = [s for s in data.columns if data[s].dtypes == 'object']\n",
    "data.drop(object_columns, axis=1, inplace=True)"
   ]
  },
  {
   "attachments": {},
   "cell_type": "markdown",
   "id": "6ad57f10",
   "metadata": {},
   "source": [
    "#### Преобразование признаков\n",
    "* Распределим признаки на непрерывные и категориальные"
   ]
  },
  {
   "cell_type": "code",
   "execution_count": 131,
   "id": "4005eb7b",
   "metadata": {},
   "outputs": [],
   "source": [
    "# непрерывные признаки\n",
    "\n",
    "num_cols = ['additional_number_of_scoring', 'review_total_negative_word_counts', 'total_number_of_reviews', \n",
    "                      'review_total_positive_word_counts', 'total_number_of_reviews_reviewer_has_given', \n",
    "                      'review_days', 'average_score', 'days_since_review', 'tags_count', 'net_char_count']\n",
    "\n",
    "# категориальные признаки, остальные кроме целевого признака и вспомогательного маркера\n",
    "\n",
    "cat_cols = [col for col in data.columns if col not in (num_cols +  ['reviewer_score', 'sample'])]"
   ]
  },
  {
   "cell_type": "code",
   "execution_count": 132,
   "id": "6d9fcd4f",
   "metadata": {},
   "outputs": [
    {
     "data": {
      "text/html": [
       "<div>\n",
       "<style scoped>\n",
       "    .dataframe tbody tr th:only-of-type {\n",
       "        vertical-align: middle;\n",
       "    }\n",
       "\n",
       "    .dataframe tbody tr th {\n",
       "        vertical-align: top;\n",
       "    }\n",
       "\n",
       "    .dataframe thead th {\n",
       "        text-align: right;\n",
       "    }\n",
       "</style>\n",
       "<table border=\"1\" class=\"dataframe\">\n",
       "  <thead>\n",
       "    <tr style=\"text-align: right;\">\n",
       "      <th></th>\n",
       "      <th>additional_number_of_scoring</th>\n",
       "      <th>review_total_negative_word_counts</th>\n",
       "      <th>total_number_of_reviews</th>\n",
       "      <th>review_total_positive_word_counts</th>\n",
       "      <th>total_number_of_reviews_reviewer_has_given</th>\n",
       "      <th>review_days</th>\n",
       "      <th>average_score</th>\n",
       "      <th>days_since_review</th>\n",
       "      <th>tags_count</th>\n",
       "      <th>net_char_count</th>\n",
       "    </tr>\n",
       "  </thead>\n",
       "  <tbody>\n",
       "    <tr>\n",
       "      <th>count</th>\n",
       "      <td>515738.000000</td>\n",
       "      <td>515738.000000</td>\n",
       "      <td>515738.000000</td>\n",
       "      <td>515738.000000</td>\n",
       "      <td>515738.000000</td>\n",
       "      <td>515738.000000</td>\n",
       "      <td>515738.000000</td>\n",
       "      <td>515738.000000</td>\n",
       "      <td>515738.000000</td>\n",
       "      <td>515738.000000</td>\n",
       "    </tr>\n",
       "    <tr>\n",
       "      <th>mean</th>\n",
       "      <td>498.081836</td>\n",
       "      <td>18.539450</td>\n",
       "      <td>2743.743944</td>\n",
       "      <td>17.776458</td>\n",
       "      <td>7.166001</td>\n",
       "      <td>354.441932</td>\n",
       "      <td>8.397487</td>\n",
       "      <td>354.441932</td>\n",
       "      <td>4.569359</td>\n",
       "      <td>3.259630</td>\n",
       "    </tr>\n",
       "    <tr>\n",
       "      <th>std</th>\n",
       "      <td>500.538467</td>\n",
       "      <td>29.690831</td>\n",
       "      <td>2317.464868</td>\n",
       "      <td>21.804185</td>\n",
       "      <td>11.040228</td>\n",
       "      <td>208.928124</td>\n",
       "      <td>0.548048</td>\n",
       "      <td>208.928124</td>\n",
       "      <td>0.520187</td>\n",
       "      <td>179.561389</td>\n",
       "    </tr>\n",
       "    <tr>\n",
       "      <th>min</th>\n",
       "      <td>1.000000</td>\n",
       "      <td>0.000000</td>\n",
       "      <td>43.000000</td>\n",
       "      <td>0.000000</td>\n",
       "      <td>1.000000</td>\n",
       "      <td>0.000000</td>\n",
       "      <td>5.200000</td>\n",
       "      <td>0.000000</td>\n",
       "      <td>1.000000</td>\n",
       "      <td>-1953.000000</td>\n",
       "    </tr>\n",
       "    <tr>\n",
       "      <th>25%</th>\n",
       "      <td>169.000000</td>\n",
       "      <td>2.000000</td>\n",
       "      <td>1161.000000</td>\n",
       "      <td>5.000000</td>\n",
       "      <td>1.000000</td>\n",
       "      <td>175.000000</td>\n",
       "      <td>8.100000</td>\n",
       "      <td>175.000000</td>\n",
       "      <td>4.000000</td>\n",
       "      <td>-47.000000</td>\n",
       "    </tr>\n",
       "    <tr>\n",
       "      <th>50%</th>\n",
       "      <td>341.000000</td>\n",
       "      <td>9.000000</td>\n",
       "      <td>2134.000000</td>\n",
       "      <td>11.000000</td>\n",
       "      <td>3.000000</td>\n",
       "      <td>353.000000</td>\n",
       "      <td>8.400000</td>\n",
       "      <td>353.000000</td>\n",
       "      <td>5.000000</td>\n",
       "      <td>13.000000</td>\n",
       "    </tr>\n",
       "    <tr>\n",
       "      <th>75%</th>\n",
       "      <td>660.000000</td>\n",
       "      <td>23.000000</td>\n",
       "      <td>3613.000000</td>\n",
       "      <td>22.000000</td>\n",
       "      <td>8.000000</td>\n",
       "      <td>527.000000</td>\n",
       "      <td>8.800000</td>\n",
       "      <td>527.000000</td>\n",
       "      <td>5.000000</td>\n",
       "      <td>70.000000</td>\n",
       "    </tr>\n",
       "    <tr>\n",
       "      <th>max</th>\n",
       "      <td>2682.000000</td>\n",
       "      <td>408.000000</td>\n",
       "      <td>16670.000000</td>\n",
       "      <td>395.000000</td>\n",
       "      <td>355.000000</td>\n",
       "      <td>730.000000</td>\n",
       "      <td>9.800000</td>\n",
       "      <td>730.000000</td>\n",
       "      <td>6.000000</td>\n",
       "      <td>1942.000000</td>\n",
       "    </tr>\n",
       "  </tbody>\n",
       "</table>\n",
       "</div>"
      ],
      "text/plain": [
       "       additional_number_of_scoring  review_total_negative_word_counts  \\\n",
       "count                 515738.000000                      515738.000000   \n",
       "mean                     498.081836                          18.539450   \n",
       "std                      500.538467                          29.690831   \n",
       "min                        1.000000                           0.000000   \n",
       "25%                      169.000000                           2.000000   \n",
       "50%                      341.000000                           9.000000   \n",
       "75%                      660.000000                          23.000000   \n",
       "max                     2682.000000                         408.000000   \n",
       "\n",
       "       total_number_of_reviews  review_total_positive_word_counts  \\\n",
       "count            515738.000000                      515738.000000   \n",
       "mean               2743.743944                          17.776458   \n",
       "std                2317.464868                          21.804185   \n",
       "min                  43.000000                           0.000000   \n",
       "25%                1161.000000                           5.000000   \n",
       "50%                2134.000000                          11.000000   \n",
       "75%                3613.000000                          22.000000   \n",
       "max               16670.000000                         395.000000   \n",
       "\n",
       "       total_number_of_reviews_reviewer_has_given    review_days  \\\n",
       "count                               515738.000000  515738.000000   \n",
       "mean                                     7.166001     354.441932   \n",
       "std                                     11.040228     208.928124   \n",
       "min                                      1.000000       0.000000   \n",
       "25%                                      1.000000     175.000000   \n",
       "50%                                      3.000000     353.000000   \n",
       "75%                                      8.000000     527.000000   \n",
       "max                                    355.000000     730.000000   \n",
       "\n",
       "       average_score  days_since_review     tags_count  net_char_count  \n",
       "count  515738.000000      515738.000000  515738.000000   515738.000000  \n",
       "mean        8.397487         354.441932       4.569359        3.259630  \n",
       "std         0.548048         208.928124       0.520187      179.561389  \n",
       "min         5.200000           0.000000       1.000000    -1953.000000  \n",
       "25%         8.100000         175.000000       4.000000      -47.000000  \n",
       "50%         8.400000         353.000000       5.000000       13.000000  \n",
       "75%         8.800000         527.000000       5.000000       70.000000  \n",
       "max         9.800000         730.000000       6.000000     1942.000000  "
      ]
     },
     "execution_count": 132,
     "metadata": {},
     "output_type": "execute_result"
    }
   ],
   "source": [
    "data[num_cols].describe()"
   ]
  },
  {
   "attachments": {},
   "cell_type": "markdown",
   "id": "d6003c75",
   "metadata": {},
   "source": [
    "* Непрерывные признаки нормализуем с помощью MinMaxScaler"
   ]
  },
  {
   "cell_type": "code",
   "execution_count": 133,
   "id": "3d5a1df2",
   "metadata": {},
   "outputs": [],
   "source": [
    "mm_scaler = MinMaxScaler()\n",
    "data[num_cols] = mm_scaler.fit_transform(data[num_cols])"
   ]
  },
  {
   "attachments": {},
   "cell_type": "markdown",
   "id": "43b979d6",
   "metadata": {},
   "source": [
    "#### Отбор признаков\n",
    "* Проведем анализ мультиколлинеарности."
   ]
  },
  {
   "cell_type": "code",
   "execution_count": 134,
   "id": "52d52fab",
   "metadata": {},
   "outputs": [
    {
     "data": {
      "image/png": "[encoded data removed]",
      "text/plain": [
       "<Figure size 1000x1000 with 2 Axes>"
      ]
     },
     "metadata": {},
     "output_type": "display_data"
    }
   ],
   "source": [
    "corr_df = data.drop(['sample'], axis=1).corr(numeric_only=True)\n",
    "np.fill_diagonal(corr_df.to_numpy(), 0)  # заменим диагональные значения с 1 на 0\n",
    "mask = corr_df[(corr_df > 0.7) | (corr_df < -0.7)].any()  # отберем признаки с корреляцией больше 0.7\n",
    "\n",
    "fig, ax = plt.subplots(1, figsize=(10, 10))\n",
    "sns.heatmap(corr_df.loc[mask, mask], annot=True);\n"
   ]
  },
  {
   "attachments": {},
   "cell_type": "markdown",
   "id": "39868198",
   "metadata": {},
   "source": [
    "* Созданный признак 'review_days' оказался практически идентичным 'days_since_review'. Удаляем его.\n",
    "* 'tags_count' сильно коррелирует c 'Submitted from a mobile device'. Убираем последний.\n",
    "* 'Leisure trip' c 'Business trip' (что естественно). Убираем последний.\n",
    "* Под вопросом оставим коррелирующие 'net_char_count' и 'review_total_negative_word_counts', 'total_number_of_reviews' и 'additional_number_of_scoring'.\n",
    "* Также пока оставляем 'total_number_of_reviews' с 'additional_number_of_scoring'."
   ]
  },
  {
   "cell_type": "code",
   "execution_count": 135,
   "id": "5ace85b4",
   "metadata": {},
   "outputs": [
    {
     "data": {
      "image/png": "[encoded data removed]",
      "text/plain": [
       "<Figure size 900x500 with 1 Axes>"
      ]
     },
     "metadata": {},
     "output_type": "display_data"
    }
   ],
   "source": [
    "# Для оценки значимости непрерывных используем f_classif из библиотеки sklearn (anova)\n",
    "\n",
    "from sklearn.feature_selection import f_classif \n",
    "\n",
    "imp_num = pd.Series(\n",
    "    f_classif(data.loc[(data['sample'] == 1), num_cols],\n",
    "              data.loc[(data['sample'] == 1), 'reviewer_score'])[0], \n",
    "    index = num_cols)\n",
    "imp_num.sort_values(inplace = True)\n",
    "fig, ax = plt.subplots(1, figsize=(9, 5))\n",
    "sns.barplot(x=imp_num, y=imp_num.index);\n"
   ]
  },
  {
   "attachments": {},
   "cell_type": "markdown",
   "id": "f098c9dd",
   "metadata": {},
   "source": [
    "* Признаки 'review_days' и 'days_since_review' имеют наименьшую значимость. Их можно удалить."
   ]
  },
  {
   "cell_type": "code",
   "execution_count": 136,
   "id": "dbe157fd",
   "metadata": {},
   "outputs": [],
   "source": [
    "data.drop(columns=['review_days', 'Submitted from a mobile device', 'Business trip'], inplace=True)"
   ]
  },
  {
   "cell_type": "code",
   "execution_count": 137,
   "id": "69e46903",
   "metadata": {
    "execution": {
     "iopub.execute_input": "2022-02-08T19:14:37.505890Z",
     "iopub.status.busy": "2022-02-08T19:14:37.505020Z",
     "iopub.status.idle": "2022-02-08T19:14:37.548588Z",
     "shell.execute_reply": "2022-02-08T19:14:37.549135Z",
     "shell.execute_reply.started": "2022-02-08T18:44:36.519234Z"
    },
    "papermill": {
     "duration": 0.076208,
     "end_time": "2022-02-08T19:14:37.549330",
     "exception": false,
     "start_time": "2022-02-08T19:14:37.473122",
     "status": "completed"
    },
    "tags": []
   },
   "outputs": [],
   "source": [
    "# Теперь выделим тестовую часть\n",
    "train_data = data.query('sample == 1').drop(['sample'], axis=1)\n",
    "test_data = data.query('sample == 0').drop(['sample'], axis=1)\n",
    "\n",
    "y = train_data.reviewer_score.values            # наш таргет\n",
    "X = train_data.drop(['reviewer_score'], axis=1)"
   ]
  },
  {
   "cell_type": "code",
   "execution_count": 138,
   "id": "5045cc9a",
   "metadata": {
    "execution": {
     "iopub.execute_input": "2022-02-08T19:14:37.610632Z",
     "iopub.status.busy": "2022-02-08T19:14:37.607245Z",
     "iopub.status.idle": "2022-02-08T19:14:37.664876Z",
     "shell.execute_reply": "2022-02-08T19:14:37.664240Z",
     "shell.execute_reply.started": "2022-02-08T18:44:36.564379Z"
    },
    "papermill": {
     "duration": 0.089229,
     "end_time": "2022-02-08T19:14:37.665021",
     "exception": false,
     "start_time": "2022-02-08T19:14:37.575792",
     "status": "completed"
    },
    "tags": []
   },
   "outputs": [],
   "source": [
    "# Воспользуемся специальной функцие train_test_split для разбивки тестовых данных\n",
    "# выделим 20% данных на валидацию (параметр test_size)\n",
    "X_train, X_test, y_train, y_test = train_test_split(X, y, test_size=0.2, random_state=RANDOM_SEED)"
   ]
  },
  {
   "cell_type": "code",
   "execution_count": 139,
   "id": "3da6a0b4",
   "metadata": {
    "execution": {
     "iopub.execute_input": "2022-02-08T19:14:37.724787Z",
     "iopub.status.busy": "2022-02-08T19:14:37.724146Z",
     "iopub.status.idle": "2022-02-08T19:14:37.726536Z",
     "shell.execute_reply": "2022-02-08T19:14:37.726982Z",
     "shell.execute_reply.started": "2022-02-08T18:44:36.614037Z"
    },
    "papermill": {
     "duration": 0.035799,
     "end_time": "2022-02-08T19:14:37.727149",
     "exception": false,
     "start_time": "2022-02-08T19:14:37.691350",
     "status": "completed"
    },
    "tags": []
   },
   "outputs": [
    {
     "data": {
      "text/plain": [
       "((128935, 42), (386803, 42), (386803, 41), (309442, 41), (77361, 41))"
      ]
     },
     "execution_count": 139,
     "metadata": {},
     "output_type": "execute_result"
    }
   ],
   "source": [
    "# проверяем\n",
    "test_data.shape, train_data.shape, X.shape, X_train.shape, X_test.shape"
   ]
  },
  {
   "cell_type": "code",
   "execution_count": 140,
   "id": "cc67dfef",
   "metadata": {
    "execution": {
     "iopub.execute_input": "2022-02-08T19:14:38.033380Z",
     "iopub.status.busy": "2022-02-08T19:14:38.032424Z",
     "iopub.status.idle": "2022-02-08T19:14:38.036262Z",
     "shell.execute_reply": "2022-02-08T19:14:38.036790Z",
     "shell.execute_reply.started": "2022-02-08T18:44:36.631597Z"
    },
    "papermill": {
     "duration": 0.034367,
     "end_time": "2022-02-08T19:14:38.036955",
     "exception": false,
     "start_time": "2022-02-08T19:14:38.002588",
     "status": "completed"
    },
    "tags": []
   },
   "outputs": [],
   "source": [
    "# Создаём модель (НАСТРОЙКИ НЕ ТРОГАЕМ)\n",
    "model = RandomForestRegressor(n_estimators=100, verbose=1, n_jobs=-1, random_state=RANDOM_SEED)"
   ]
  },
  {
   "cell_type": "code",
   "execution_count": 141,
   "id": "38c6100a",
   "metadata": {
    "execution": {
     "iopub.execute_input": "2022-02-08T19:14:38.100230Z",
     "iopub.status.busy": "2022-02-08T19:14:38.098907Z",
     "iopub.status.idle": "2022-02-08T19:15:29.981505Z",
     "shell.execute_reply": "2022-02-08T19:15:29.982012Z",
     "shell.execute_reply.started": "2022-02-08T18:44:36.685783Z"
    },
    "papermill": {
     "duration": 51.917696,
     "end_time": "2022-02-08T19:15:29.982201",
     "exception": false,
     "start_time": "2022-02-08T19:14:38.064505",
     "status": "completed"
    },
    "tags": []
   },
   "outputs": [
    {
     "name": "stderr",
     "output_type": "stream",
     "text": [
      "[Parallel(n_jobs=-1)]: Using backend ThreadingBackend with 10 concurrent workers.\n",
      "[Parallel(n_jobs=-1)]: Done  30 tasks      | elapsed:    9.3s\n",
      "[Parallel(n_jobs=-1)]: Done 100 out of 100 | elapsed:   32.0s finished\n",
      "[Parallel(n_jobs=10)]: Using backend ThreadingBackend with 10 concurrent workers.\n",
      "[Parallel(n_jobs=10)]: Done  30 tasks      | elapsed:    0.2s\n",
      "[Parallel(n_jobs=10)]: Done 100 out of 100 | elapsed:    0.6s finished\n"
     ]
    }
   ],
   "source": [
    "# Обучаем модель на тестовом наборе данных\n",
    "model.fit(X_train, y_train)\n",
    "\n",
    "# Используем обученную модель для предсказания \n",
    "# Предсказанные значения записываем в переменную y_pred\n",
    "y_pred = model.predict(X_test)"
   ]
  },
  {
   "cell_type": "code",
   "execution_count": 142,
   "id": "0bfbd9da",
   "metadata": {
    "execution": {
     "iopub.execute_input": "2022-02-08T19:15:30.047401Z",
     "iopub.status.busy": "2022-02-08T19:15:30.045169Z",
     "iopub.status.idle": "2022-02-08T19:15:30.054658Z",
     "shell.execute_reply": "2022-02-08T19:15:30.053627Z",
     "shell.execute_reply.started": "2022-02-08T18:45:41.407883Z"
    },
    "papermill": {
     "duration": 0.043029,
     "end_time": "2022-02-08T19:15:30.054903",
     "exception": false,
     "start_time": "2022-02-08T19:15:30.011874",
     "status": "completed"
    },
    "tags": []
   },
   "outputs": [
    {
     "name": "stdout",
     "output_type": "stream",
     "text": [
      "MAE: 0.889125347397267\n",
      "MAPE: 0.1281664131270301\n"
     ]
    }
   ],
   "source": [
    "# Сравниваем предсказанные значения (y_pred) с реальными (y_test).\n",
    "# Mean Absolute Error (MAE) среднее отклонение предсказанных значений от фактических.\n",
    "# Mean Absolute Percentage Error (MAPE) в процентах.\n",
    "print('MAE:', mean_absolute_error(y_test, y_pred))\n",
    "print('MAPE:', mean_absolute_percentage_error(y_test, y_pred))"
   ]
  },
  {
   "cell_type": "code",
   "execution_count": 143,
   "id": "18f49374",
   "metadata": {},
   "outputs": [
    {
     "data": {
      "image/png": "[encoded data removed]",
      "text/plain": [
       "<Figure size 1000x1000 with 1 Axes>"
      ]
     },
     "metadata": {},
     "output_type": "display_data"
    }
   ],
   "source": [
    "# в RandomForestRegressor есть возможность вывести самые важные признаки для модели\n",
    "\n",
    "fig, ax = plt.subplots(1, figsize=(10, 10))\n",
    "feat_importances = pd.Series(model.feature_importances_, index=X.columns).sort_values()\n",
    "sns.barplot(y=feat_importances.index, x=feat_importances.values);"
   ]
  },
  {
   "cell_type": "code",
   "execution_count": 144,
   "id": "bd9c9908",
   "metadata": {
    "execution": {
     "iopub.execute_input": "2022-02-08T19:15:30.625115Z",
     "iopub.status.busy": "2022-02-08T19:15:30.624515Z",
     "iopub.status.idle": "2022-02-08T19:15:30.639827Z",
     "shell.execute_reply": "2022-02-08T19:15:30.640317Z",
     "shell.execute_reply.started": "2022-02-08T18:45:41.866035Z"
    },
    "papermill": {
     "duration": 0.045936,
     "end_time": "2022-02-08T19:15:30.640491",
     "exception": false,
     "start_time": "2022-02-08T19:15:30.594555",
     "status": "completed"
    },
    "tags": []
   },
   "outputs": [
    {
     "data": {
      "text/html": [
       "<div>\n",
       "<style scoped>\n",
       "    .dataframe tbody tr th:only-of-type {\n",
       "        vertical-align: middle;\n",
       "    }\n",
       "\n",
       "    .dataframe tbody tr th {\n",
       "        vertical-align: top;\n",
       "    }\n",
       "\n",
       "    .dataframe thead th {\n",
       "        text-align: right;\n",
       "    }\n",
       "</style>\n",
       "<table border=\"1\" class=\"dataframe\">\n",
       "  <thead>\n",
       "    <tr style=\"text-align: right;\">\n",
       "      <th></th>\n",
       "      <th>additional_number_of_scoring</th>\n",
       "      <th>average_score</th>\n",
       "      <th>review_total_negative_word_counts</th>\n",
       "      <th>total_number_of_reviews</th>\n",
       "      <th>review_total_positive_word_counts</th>\n",
       "      <th>total_number_of_reviews_reviewer_has_given</th>\n",
       "      <th>days_since_review</th>\n",
       "      <th>lat</th>\n",
       "      <th>lng</th>\n",
       "      <th>reviewer_score</th>\n",
       "      <th>...</th>\n",
       "      <th>p_good</th>\n",
       "      <th>p_helpful</th>\n",
       "      <th>p_friendly</th>\n",
       "      <th>p_great</th>\n",
       "      <th>p_breakfast</th>\n",
       "      <th>p_clean</th>\n",
       "      <th>n_room</th>\n",
       "      <th>n_very</th>\n",
       "      <th>n_hotel</th>\n",
       "      <th>n_small</th>\n",
       "    </tr>\n",
       "  </thead>\n",
       "  <tbody>\n",
       "    <tr>\n",
       "      <th>88346</th>\n",
       "      <td>0.079821</td>\n",
       "      <td>0.565217</td>\n",
       "      <td>0.029412</td>\n",
       "      <td>0.114392</td>\n",
       "      <td>0.065823</td>\n",
       "      <td>0.028249</td>\n",
       "      <td>0.489041</td>\n",
       "      <td>52.337568</td>\n",
       "      <td>4.817817</td>\n",
       "      <td>0.0</td>\n",
       "      <td>...</td>\n",
       "      <td>False</td>\n",
       "      <td>False</td>\n",
       "      <td>False</td>\n",
       "      <td>True</td>\n",
       "      <td>False</td>\n",
       "      <td>True</td>\n",
       "      <td>False</td>\n",
       "      <td>False</td>\n",
       "      <td>False</td>\n",
       "      <td>False</td>\n",
       "    </tr>\n",
       "    <tr>\n",
       "      <th>79542</th>\n",
       "      <td>0.063782</td>\n",
       "      <td>0.673913</td>\n",
       "      <td>0.044118</td>\n",
       "      <td>0.064774</td>\n",
       "      <td>0.005063</td>\n",
       "      <td>0.008475</td>\n",
       "      <td>0.943836</td>\n",
       "      <td>48.863979</td>\n",
       "      <td>2.335262</td>\n",
       "      <td>0.0</td>\n",
       "      <td>...</td>\n",
       "      <td>False</td>\n",
       "      <td>False</td>\n",
       "      <td>False</td>\n",
       "      <td>False</td>\n",
       "      <td>False</td>\n",
       "      <td>False</td>\n",
       "      <td>False</td>\n",
       "      <td>False</td>\n",
       "      <td>True</td>\n",
       "      <td>False</td>\n",
       "    </tr>\n",
       "    <tr>\n",
       "      <th>37579</th>\n",
       "      <td>0.156658</td>\n",
       "      <td>0.717391</td>\n",
       "      <td>0.053922</td>\n",
       "      <td>0.105792</td>\n",
       "      <td>0.030380</td>\n",
       "      <td>0.141243</td>\n",
       "      <td>0.616438</td>\n",
       "      <td>51.495923</td>\n",
       "      <td>-0.170292</td>\n",
       "      <td>0.0</td>\n",
       "      <td>...</td>\n",
       "      <td>True</td>\n",
       "      <td>False</td>\n",
       "      <td>False</td>\n",
       "      <td>False</td>\n",
       "      <td>True</td>\n",
       "      <td>False</td>\n",
       "      <td>True</td>\n",
       "      <td>True</td>\n",
       "      <td>False</td>\n",
       "      <td>True</td>\n",
       "    </tr>\n",
       "    <tr>\n",
       "      <th>82892</th>\n",
       "      <td>0.042521</td>\n",
       "      <td>0.608696</td>\n",
       "      <td>0.019608</td>\n",
       "      <td>0.087388</td>\n",
       "      <td>0.020253</td>\n",
       "      <td>0.022599</td>\n",
       "      <td>0.778082</td>\n",
       "      <td>0.000000</td>\n",
       "      <td>0.000000</td>\n",
       "      <td>0.0</td>\n",
       "      <td>...</td>\n",
       "      <td>True</td>\n",
       "      <td>False</td>\n",
       "      <td>False</td>\n",
       "      <td>False</td>\n",
       "      <td>True</td>\n",
       "      <td>False</td>\n",
       "      <td>False</td>\n",
       "      <td>False</td>\n",
       "      <td>False</td>\n",
       "      <td>False</td>\n",
       "    </tr>\n",
       "    <tr>\n",
       "      <th>93475</th>\n",
       "      <td>0.284968</td>\n",
       "      <td>0.695652</td>\n",
       "      <td>0.075980</td>\n",
       "      <td>0.279245</td>\n",
       "      <td>0.022785</td>\n",
       "      <td>0.000000</td>\n",
       "      <td>0.590411</td>\n",
       "      <td>52.372707</td>\n",
       "      <td>4.894366</td>\n",
       "      <td>0.0</td>\n",
       "      <td>...</td>\n",
       "      <td>False</td>\n",
       "      <td>False</td>\n",
       "      <td>False</td>\n",
       "      <td>True</td>\n",
       "      <td>False</td>\n",
       "      <td>False</td>\n",
       "      <td>False</td>\n",
       "      <td>False</td>\n",
       "      <td>False</td>\n",
       "      <td>False</td>\n",
       "    </tr>\n",
       "    <tr>\n",
       "      <th>67488</th>\n",
       "      <td>0.108915</td>\n",
       "      <td>0.760870</td>\n",
       "      <td>0.000000</td>\n",
       "      <td>0.112167</td>\n",
       "      <td>0.030380</td>\n",
       "      <td>0.000000</td>\n",
       "      <td>0.401370</td>\n",
       "      <td>41.379921</td>\n",
       "      <td>2.172818</td>\n",
       "      <td>0.0</td>\n",
       "      <td>...</td>\n",
       "      <td>False</td>\n",
       "      <td>True</td>\n",
       "      <td>True</td>\n",
       "      <td>False</td>\n",
       "      <td>False</td>\n",
       "      <td>False</td>\n",
       "      <td>False</td>\n",
       "      <td>False</td>\n",
       "      <td>False</td>\n",
       "      <td>False</td>\n",
       "    </tr>\n",
       "    <tr>\n",
       "      <th>67492</th>\n",
       "      <td>0.035808</td>\n",
       "      <td>0.478261</td>\n",
       "      <td>0.036765</td>\n",
       "      <td>0.032056</td>\n",
       "      <td>0.005063</td>\n",
       "      <td>0.028249</td>\n",
       "      <td>0.595890</td>\n",
       "      <td>48.871921</td>\n",
       "      <td>2.297140</td>\n",
       "      <td>0.0</td>\n",
       "      <td>...</td>\n",
       "      <td>False</td>\n",
       "      <td>False</td>\n",
       "      <td>False</td>\n",
       "      <td>False</td>\n",
       "      <td>False</td>\n",
       "      <td>False</td>\n",
       "      <td>True</td>\n",
       "      <td>False</td>\n",
       "      <td>False</td>\n",
       "      <td>False</td>\n",
       "    </tr>\n",
       "    <tr>\n",
       "      <th>32799</th>\n",
       "      <td>0.142857</td>\n",
       "      <td>0.869565</td>\n",
       "      <td>0.000000</td>\n",
       "      <td>0.239009</td>\n",
       "      <td>0.681013</td>\n",
       "      <td>0.240113</td>\n",
       "      <td>0.078082</td>\n",
       "      <td>45.482669</td>\n",
       "      <td>9.203437</td>\n",
       "      <td>0.0</td>\n",
       "      <td>...</td>\n",
       "      <td>True</td>\n",
       "      <td>True</td>\n",
       "      <td>True</td>\n",
       "      <td>True</td>\n",
       "      <td>True</td>\n",
       "      <td>False</td>\n",
       "      <td>False</td>\n",
       "      <td>False</td>\n",
       "      <td>False</td>\n",
       "      <td>False</td>\n",
       "    </tr>\n",
       "    <tr>\n",
       "      <th>124016</th>\n",
       "      <td>0.107423</td>\n",
       "      <td>0.782609</td>\n",
       "      <td>0.000000</td>\n",
       "      <td>0.177122</td>\n",
       "      <td>0.053165</td>\n",
       "      <td>0.005650</td>\n",
       "      <td>0.500000</td>\n",
       "      <td>41.397623</td>\n",
       "      <td>2.188975</td>\n",
       "      <td>0.0</td>\n",
       "      <td>...</td>\n",
       "      <td>False</td>\n",
       "      <td>True</td>\n",
       "      <td>True</td>\n",
       "      <td>False</td>\n",
       "      <td>False</td>\n",
       "      <td>True</td>\n",
       "      <td>False</td>\n",
       "      <td>False</td>\n",
       "      <td>False</td>\n",
       "      <td>False</td>\n",
       "    </tr>\n",
       "    <tr>\n",
       "      <th>66164</th>\n",
       "      <td>0.056695</td>\n",
       "      <td>0.869565</td>\n",
       "      <td>0.000000</td>\n",
       "      <td>0.047633</td>\n",
       "      <td>0.017722</td>\n",
       "      <td>0.000000</td>\n",
       "      <td>0.879452</td>\n",
       "      <td>45.470532</td>\n",
       "      <td>9.193020</td>\n",
       "      <td>0.0</td>\n",
       "      <td>...</td>\n",
       "      <td>False</td>\n",
       "      <td>False</td>\n",
       "      <td>False</td>\n",
       "      <td>False</td>\n",
       "      <td>False</td>\n",
       "      <td>False</td>\n",
       "      <td>False</td>\n",
       "      <td>False</td>\n",
       "      <td>False</td>\n",
       "      <td>False</td>\n",
       "    </tr>\n",
       "  </tbody>\n",
       "</table>\n",
       "<p>10 rows × 42 columns</p>\n",
       "</div>"
      ],
      "text/plain": [
       "        additional_number_of_scoring  average_score  \\\n",
       "88346                       0.079821       0.565217   \n",
       "79542                       0.063782       0.673913   \n",
       "37579                       0.156658       0.717391   \n",
       "82892                       0.042521       0.608696   \n",
       "93475                       0.284968       0.695652   \n",
       "67488                       0.108915       0.760870   \n",
       "67492                       0.035808       0.478261   \n",
       "32799                       0.142857       0.869565   \n",
       "124016                      0.107423       0.782609   \n",
       "66164                       0.056695       0.869565   \n",
       "\n",
       "        review_total_negative_word_counts  total_number_of_reviews  \\\n",
       "88346                            0.029412                 0.114392   \n",
       "79542                            0.044118                 0.064774   \n",
       "37579                            0.053922                 0.105792   \n",
       "82892                            0.019608                 0.087388   \n",
       "93475                            0.075980                 0.279245   \n",
       "67488                            0.000000                 0.112167   \n",
       "67492                            0.036765                 0.032056   \n",
       "32799                            0.000000                 0.239009   \n",
       "124016                           0.000000                 0.177122   \n",
       "66164                            0.000000                 0.047633   \n",
       "\n",
       "        review_total_positive_word_counts  \\\n",
       "88346                            0.065823   \n",
       "79542                            0.005063   \n",
       "37579                            0.030380   \n",
       "82892                            0.020253   \n",
       "93475                            0.022785   \n",
       "67488                            0.030380   \n",
       "67492                            0.005063   \n",
       "32799                            0.681013   \n",
       "124016                           0.053165   \n",
       "66164                            0.017722   \n",
       "\n",
       "        total_number_of_reviews_reviewer_has_given  days_since_review  \\\n",
       "88346                                     0.028249           0.489041   \n",
       "79542                                     0.008475           0.943836   \n",
       "37579                                     0.141243           0.616438   \n",
       "82892                                     0.022599           0.778082   \n",
       "93475                                     0.000000           0.590411   \n",
       "67488                                     0.000000           0.401370   \n",
       "67492                                     0.028249           0.595890   \n",
       "32799                                     0.240113           0.078082   \n",
       "124016                                    0.005650           0.500000   \n",
       "66164                                     0.000000           0.879452   \n",
       "\n",
       "              lat       lng  reviewer_score  ...  p_good  p_helpful  \\\n",
       "88346   52.337568  4.817817             0.0  ...   False      False   \n",
       "79542   48.863979  2.335262             0.0  ...   False      False   \n",
       "37579   51.495923 -0.170292             0.0  ...    True      False   \n",
       "82892    0.000000  0.000000             0.0  ...    True      False   \n",
       "93475   52.372707  4.894366             0.0  ...   False      False   \n",
       "67488   41.379921  2.172818             0.0  ...   False       True   \n",
       "67492   48.871921  2.297140             0.0  ...   False      False   \n",
       "32799   45.482669  9.203437             0.0  ...    True       True   \n",
       "124016  41.397623  2.188975             0.0  ...   False       True   \n",
       "66164   45.470532  9.193020             0.0  ...   False      False   \n",
       "\n",
       "        p_friendly  p_great  p_breakfast  p_clean  n_room  n_very  n_hotel  \\\n",
       "88346        False     True        False     True   False   False    False   \n",
       "79542        False    False        False    False   False   False     True   \n",
       "37579        False    False         True    False    True    True    False   \n",
       "82892        False    False         True    False   False   False    False   \n",
       "93475        False     True        False    False   False   False    False   \n",
       "67488         True    False        False    False   False   False    False   \n",
       "67492        False    False        False    False    True   False    False   \n",
       "32799         True     True         True    False   False   False    False   \n",
       "124016        True    False        False     True   False   False    False   \n",
       "66164        False    False        False    False   False   False    False   \n",
       "\n",
       "        n_small  \n",
       "88346     False  \n",
       "79542     False  \n",
       "37579      True  \n",
       "82892     False  \n",
       "93475     False  \n",
       "67488     False  \n",
       "67492     False  \n",
       "32799     False  \n",
       "124016    False  \n",
       "66164     False  \n",
       "\n",
       "[10 rows x 42 columns]"
      ]
     },
     "execution_count": 144,
     "metadata": {},
     "output_type": "execute_result"
    }
   ],
   "source": [
    "test_data.sample(10)"
   ]
  },
  {
   "cell_type": "code",
   "execution_count": 145,
   "id": "a9a6da4d",
   "metadata": {
    "execution": {
     "iopub.execute_input": "2022-02-08T19:15:30.705058Z",
     "iopub.status.busy": "2022-02-08T19:15:30.704107Z",
     "iopub.status.idle": "2022-02-08T19:15:30.711398Z",
     "shell.execute_reply": "2022-02-08T19:15:30.711831Z",
     "shell.execute_reply.started": "2022-02-08T18:45:41.885567Z"
    },
    "papermill": {
     "duration": 0.041402,
     "end_time": "2022-02-08T19:15:30.712005",
     "exception": false,
     "start_time": "2022-02-08T19:15:30.670603",
     "status": "completed"
    },
    "tags": []
   },
   "outputs": [],
   "source": [
    "test_data = test_data.drop(['reviewer_score'], axis=1)"
   ]
  },
  {
   "cell_type": "code",
   "execution_count": 146,
   "id": "82996041",
   "metadata": {
    "execution": {
     "iopub.execute_input": "2022-02-08T19:15:30.776119Z",
     "iopub.status.busy": "2022-02-08T19:15:30.775182Z",
     "iopub.status.idle": "2022-02-08T19:15:30.784841Z",
     "shell.execute_reply": "2022-02-08T19:15:30.785251Z",
     "shell.execute_reply.started": "2022-02-08T18:45:41.893309Z"
    },
    "papermill": {
     "duration": 0.043997,
     "end_time": "2022-02-08T19:15:30.785439",
     "exception": false,
     "start_time": "2022-02-08T19:15:30.741442",
     "status": "completed"
    },
    "tags": []
   },
   "outputs": [
    {
     "data": {
      "text/html": [
       "<div>\n",
       "<style scoped>\n",
       "    .dataframe tbody tr th:only-of-type {\n",
       "        vertical-align: middle;\n",
       "    }\n",
       "\n",
       "    .dataframe tbody tr th {\n",
       "        vertical-align: top;\n",
       "    }\n",
       "\n",
       "    .dataframe thead th {\n",
       "        text-align: right;\n",
       "    }\n",
       "</style>\n",
       "<table border=\"1\" class=\"dataframe\">\n",
       "  <thead>\n",
       "    <tr style=\"text-align: right;\">\n",
       "      <th></th>\n",
       "      <th>reviewer_score</th>\n",
       "      <th>id</th>\n",
       "    </tr>\n",
       "  </thead>\n",
       "  <tbody>\n",
       "    <tr>\n",
       "      <th>0</th>\n",
       "      <td>1</td>\n",
       "      <td>488440</td>\n",
       "    </tr>\n",
       "    <tr>\n",
       "      <th>1</th>\n",
       "      <td>10</td>\n",
       "      <td>274649</td>\n",
       "    </tr>\n",
       "    <tr>\n",
       "      <th>2</th>\n",
       "      <td>3</td>\n",
       "      <td>374688</td>\n",
       "    </tr>\n",
       "    <tr>\n",
       "      <th>3</th>\n",
       "      <td>10</td>\n",
       "      <td>404352</td>\n",
       "    </tr>\n",
       "    <tr>\n",
       "      <th>4</th>\n",
       "      <td>9</td>\n",
       "      <td>451596</td>\n",
       "    </tr>\n",
       "    <tr>\n",
       "      <th>...</th>\n",
       "      <td>...</td>\n",
       "      <td>...</td>\n",
       "    </tr>\n",
       "    <tr>\n",
       "      <th>128930</th>\n",
       "      <td>7</td>\n",
       "      <td>495812</td>\n",
       "    </tr>\n",
       "    <tr>\n",
       "      <th>128931</th>\n",
       "      <td>1</td>\n",
       "      <td>315577</td>\n",
       "    </tr>\n",
       "    <tr>\n",
       "      <th>128932</th>\n",
       "      <td>3</td>\n",
       "      <td>511968</td>\n",
       "    </tr>\n",
       "    <tr>\n",
       "      <th>128933</th>\n",
       "      <td>6</td>\n",
       "      <td>303386</td>\n",
       "    </tr>\n",
       "    <tr>\n",
       "      <th>128934</th>\n",
       "      <td>5</td>\n",
       "      <td>103157</td>\n",
       "    </tr>\n",
       "  </tbody>\n",
       "</table>\n",
       "<p>128935 rows × 2 columns</p>\n",
       "</div>"
      ],
      "text/plain": [
       "        reviewer_score      id\n",
       "0                    1  488440\n",
       "1                   10  274649\n",
       "2                    3  374688\n",
       "3                   10  404352\n",
       "4                    9  451596\n",
       "...                ...     ...\n",
       "128930               7  495812\n",
       "128931               1  315577\n",
       "128932               3  511968\n",
       "128933               6  303386\n",
       "128934               5  103157\n",
       "\n",
       "[128935 rows x 2 columns]"
      ]
     },
     "execution_count": 146,
     "metadata": {},
     "output_type": "execute_result"
    }
   ],
   "source": [
    "sample_submission"
   ]
  },
  {
   "cell_type": "code",
   "execution_count": 147,
   "id": "50c22cf7",
   "metadata": {},
   "outputs": [
    {
     "name": "stderr",
     "output_type": "stream",
     "text": [
      "[Parallel(n_jobs=10)]: Using backend ThreadingBackend with 10 concurrent workers.\n",
      "[Parallel(n_jobs=10)]: Done  30 tasks      | elapsed:    0.3s\n",
      "[Parallel(n_jobs=10)]: Done 100 out of 100 | elapsed:    0.8s finished\n"
     ]
    },
    {
     "data": {
      "text/html": [
       "<div>\n",
       "<style scoped>\n",
       "    .dataframe tbody tr th:only-of-type {\n",
       "        vertical-align: middle;\n",
       "    }\n",
       "\n",
       "    .dataframe tbody tr th {\n",
       "        vertical-align: top;\n",
       "    }\n",
       "\n",
       "    .dataframe thead th {\n",
       "        text-align: right;\n",
       "    }\n",
       "</style>\n",
       "<table border=\"1\" class=\"dataframe\">\n",
       "  <thead>\n",
       "    <tr style=\"text-align: right;\">\n",
       "      <th></th>\n",
       "      <th>reviewer_score</th>\n",
       "      <th>id</th>\n",
       "    </tr>\n",
       "  </thead>\n",
       "  <tbody>\n",
       "    <tr>\n",
       "      <th>0</th>\n",
       "      <td>8.637</td>\n",
       "      <td>488440</td>\n",
       "    </tr>\n",
       "    <tr>\n",
       "      <th>1</th>\n",
       "      <td>7.189</td>\n",
       "      <td>274649</td>\n",
       "    </tr>\n",
       "    <tr>\n",
       "      <th>2</th>\n",
       "      <td>8.187</td>\n",
       "      <td>374688</td>\n",
       "    </tr>\n",
       "    <tr>\n",
       "      <th>3</th>\n",
       "      <td>9.526</td>\n",
       "      <td>404352</td>\n",
       "    </tr>\n",
       "    <tr>\n",
       "      <th>4</th>\n",
       "      <td>9.606</td>\n",
       "      <td>451596</td>\n",
       "    </tr>\n",
       "    <tr>\n",
       "      <th>5</th>\n",
       "      <td>8.067</td>\n",
       "      <td>302161</td>\n",
       "    </tr>\n",
       "    <tr>\n",
       "      <th>6</th>\n",
       "      <td>7.387</td>\n",
       "      <td>317079</td>\n",
       "    </tr>\n",
       "    <tr>\n",
       "      <th>7</th>\n",
       "      <td>7.851</td>\n",
       "      <td>13963</td>\n",
       "    </tr>\n",
       "    <tr>\n",
       "      <th>8</th>\n",
       "      <td>9.037</td>\n",
       "      <td>159785</td>\n",
       "    </tr>\n",
       "    <tr>\n",
       "      <th>9</th>\n",
       "      <td>7.381</td>\n",
       "      <td>195089</td>\n",
       "    </tr>\n",
       "  </tbody>\n",
       "</table>\n",
       "</div>"
      ],
      "text/plain": [
       "   reviewer_score      id\n",
       "0           8.637  488440\n",
       "1           7.189  274649\n",
       "2           8.187  374688\n",
       "3           9.526  404352\n",
       "4           9.606  451596\n",
       "5           8.067  302161\n",
       "6           7.387  317079\n",
       "7           7.851   13963\n",
       "8           9.037  159785\n",
       "9           7.381  195089"
      ]
     },
     "execution_count": 147,
     "metadata": {},
     "output_type": "execute_result"
    }
   ],
   "source": [
    "predict_submission_0 = model.predict(test_data)\n",
    "sample_submission['reviewer_score'] = predict_submission_0\n",
    "sample_submission.to_csv('submission_0.csv', index=False)\n",
    "sample_submission.head(10)"
   ]
  },
  {
   "attachments": {},
   "cell_type": "markdown",
   "id": "e20ba37d",
   "metadata": {},
   "source": [
    "#### В качестве альтернативной модели используем XGBRegressor"
   ]
  },
  {
   "cell_type": "code",
   "execution_count": 148,
   "id": "09cbbc37",
   "metadata": {},
   "outputs": [
    {
     "data": {
      "text/html": [
       "<style>#sk-container-id-2 {color: black;background-color: white;}#sk-container-id-2 pre{padding: 0;}#sk-container-id-2 div.sk-toggleable {background-color: white;}#sk-container-id-2 label.sk-toggleable__label {cursor: pointer;display: block;width: 100%;margin-bottom: 0;padding: 0.3em;box-sizing: border-box;text-align: center;}#sk-container-id-2 label.sk-toggleable__label-arrow:before {content: \"▸\";float: left;margin-right: 0.25em;color: #696969;}#sk-container-id-2 label.sk-toggleable__label-arrow:hover:before {color: black;}#sk-container-id-2 div.sk-estimator:hover label.sk-toggleable__label-arrow:before {color: black;}#sk-container-id-2 div.sk-toggleable__content {max-height: 0;max-width: 0;overflow: hidden;text-align: left;background-color: #f0f8ff;}#sk-container-id-2 div.sk-toggleable__content pre {margin: 0.2em;color: black;border-radius: 0.25em;background-color: #f0f8ff;}#sk-container-id-2 input.sk-toggleable__control:checked~div.sk-toggleable__content {max-height: 200px;max-width: 100%;overflow: auto;}#sk-container-id-2 input.sk-toggleable__control:checked~label.sk-toggleable__label-arrow:before {content: \"▾\";}#sk-container-id-2 div.sk-estimator input.sk-toggleable__control:checked~label.sk-toggleable__label {background-color: #d4ebff;}#sk-container-id-2 div.sk-label input.sk-toggleable__control:checked~label.sk-toggleable__label {background-color: #d4ebff;}#sk-container-id-2 input.sk-hidden--visually {border: 0;clip: rect(1px 1px 1px 1px);clip: rect(1px, 1px, 1px, 1px);height: 1px;margin: -1px;overflow: hidden;padding: 0;position: absolute;width: 1px;}#sk-container-id-2 div.sk-estimator {font-family: monospace;background-color: #f0f8ff;border: 1px dotted black;border-radius: 0.25em;box-sizing: border-box;margin-bottom: 0.5em;}#sk-container-id-2 div.sk-estimator:hover {background-color: #d4ebff;}#sk-container-id-2 div.sk-parallel-item::after {content: \"\";width: 100%;border-bottom: 1px solid gray;flex-grow: 1;}#sk-container-id-2 div.sk-label:hover label.sk-toggleable__label {background-color: #d4ebff;}#sk-container-id-2 div.sk-serial::before {content: \"\";position: absolute;border-left: 1px solid gray;box-sizing: border-box;top: 0;bottom: 0;left: 50%;z-index: 0;}#sk-container-id-2 div.sk-serial {display: flex;flex-direction: column;align-items: center;background-color: white;padding-right: 0.2em;padding-left: 0.2em;position: relative;}#sk-container-id-2 div.sk-item {position: relative;z-index: 1;}#sk-container-id-2 div.sk-parallel {display: flex;align-items: stretch;justify-content: center;background-color: white;position: relative;}#sk-container-id-2 div.sk-item::before, #sk-container-id-2 div.sk-parallel-item::before {content: \"\";position: absolute;border-left: 1px solid gray;box-sizing: border-box;top: 0;bottom: 0;left: 50%;z-index: -1;}#sk-container-id-2 div.sk-parallel-item {display: flex;flex-direction: column;z-index: 1;position: relative;background-color: white;}#sk-container-id-2 div.sk-parallel-item:first-child::after {align-self: flex-end;width: 50%;}#sk-container-id-2 div.sk-parallel-item:last-child::after {align-self: flex-start;width: 50%;}#sk-container-id-2 div.sk-parallel-item:only-child::after {width: 0;}#sk-container-id-2 div.sk-dashed-wrapped {border: 1px dashed gray;margin: 0 0.4em 0.5em 0.4em;box-sizing: border-box;padding-bottom: 0.4em;background-color: white;}#sk-container-id-2 div.sk-label label {font-family: monospace;font-weight: bold;display: inline-block;line-height: 1.2em;}#sk-container-id-2 div.sk-label-container {text-align: center;}#sk-container-id-2 div.sk-container {/* jupyter's `normalize.less` sets `[hidden] { display: none; }` but bootstrap.min.css set `[hidden] { display: none !important; }` so we also need the `!important` here to be able to override the default hidden behavior on the sphinx rendered scikit-learn.org. See: https://github.com/scikit-learn/scikit-learn/issues/21755 */display: inline-block !important;position: relative;}#sk-container-id-2 div.sk-text-repr-fallback {display: none;}</style><div id=\"sk-container-id-2\" class=\"sk-top-container\"><div class=\"sk-text-repr-fallback\"><pre>XGBRegressor(base_score=None, booster=None, callbacks=None,\n",
       "             colsample_bylevel=None, colsample_bynode=None,\n",
       "             colsample_bytree=None, early_stopping_rounds=5,\n",
       "             enable_categorical=False, eval_metric=None, feature_types=None,\n",
       "             gamma=None, gpu_id=None, grow_policy=None, importance_type=None,\n",
       "             interaction_constraints=None, learning_rate=0.05, max_bin=None,\n",
       "             max_cat_threshold=None, max_cat_to_onehot=None,\n",
       "             max_delta_step=None, max_depth=None, max_leaves=None,\n",
       "             min_child_weight=None, missing=nan, monotone_constraints=None,\n",
       "             n_estimators=1000, n_jobs=None, num_parallel_tree=None,\n",
       "             predictor=None, random_state=None, ...)</pre><b>In a Jupyter environment, please rerun this cell to show the HTML representation or trust the notebook. <br />On GitHub, the HTML representation is unable to render, please try loading this page with nbviewer.org.</b></div><div class=\"sk-container\" hidden><div class=\"sk-item\"><div class=\"sk-estimator sk-toggleable\"><input class=\"sk-toggleable__control sk-hidden--visually\" id=\"sk-estimator-id-2\" type=\"checkbox\" checked><label for=\"sk-estimator-id-2\" class=\"sk-toggleable__label sk-toggleable__label-arrow\">XGBRegressor</label><div class=\"sk-toggleable__content\"><pre>XGBRegressor(base_score=None, booster=None, callbacks=None,\n",
       "             colsample_bylevel=None, colsample_bynode=None,\n",
       "             colsample_bytree=None, early_stopping_rounds=5,\n",
       "             enable_categorical=False, eval_metric=None, feature_types=None,\n",
       "             gamma=None, gpu_id=None, grow_policy=None, importance_type=None,\n",
       "             interaction_constraints=None, learning_rate=0.05, max_bin=None,\n",
       "             max_cat_threshold=None, max_cat_to_onehot=None,\n",
       "             max_delta_step=None, max_depth=None, max_leaves=None,\n",
       "             min_child_weight=None, missing=nan, monotone_constraints=None,\n",
       "             n_estimators=1000, n_jobs=None, num_parallel_tree=None,\n",
       "             predictor=None, random_state=None, ...)</pre></div></div></div></div></div>"
      ],
      "text/plain": [
       "XGBRegressor(base_score=None, booster=None, callbacks=None,\n",
       "             colsample_bylevel=None, colsample_bynode=None,\n",
       "             colsample_bytree=None, early_stopping_rounds=5,\n",
       "             enable_categorical=False, eval_metric=None, feature_types=None,\n",
       "             gamma=None, gpu_id=None, grow_policy=None, importance_type=None,\n",
       "             interaction_constraints=None, learning_rate=0.05, max_bin=None,\n",
       "             max_cat_threshold=None, max_cat_to_onehot=None,\n",
       "             max_delta_step=None, max_depth=None, max_leaves=None,\n",
       "             min_child_weight=None, missing=nan, monotone_constraints=None,\n",
       "             n_estimators=1000, n_jobs=None, num_parallel_tree=None,\n",
       "             predictor=None, random_state=None, ...)"
      ]
     },
     "execution_count": 148,
     "metadata": {},
     "output_type": "execute_result"
    }
   ],
   "source": [
    "my_model_2 = XGBRegressor(n_estimators=1000, learning_rate=0.05, early_stopping_rounds=5)\n",
    "my_model_2.fit(X_train, y_train,\n",
    "             eval_set=[(X_test, y_test)], \n",
    "             verbose=False)"
   ]
  },
  {
   "cell_type": "code",
   "execution_count": 149,
   "id": "65c0b573",
   "metadata": {},
   "outputs": [
    {
     "name": "stdout",
     "output_type": "stream",
     "text": [
      "MAE: 0.8549807454420325\n",
      "MAPE: 0.10910099013859025\n"
     ]
    }
   ],
   "source": [
    "pred_XGBR = my_model_2.predict(X_test)\n",
    "print('MAE:', mean_absolute_error(pred_XGBR, y_test))\n",
    "print('MAPE:', mean_absolute_percentage_error(pred_XGBR, y_test))"
   ]
  },
  {
   "attachments": {},
   "cell_type": "markdown",
   "id": "f2c1f489",
   "metadata": {},
   "source": [
    "#### XGBRegressor показывает лучший результат, отправляем его на сабмишн."
   ]
  },
  {
   "cell_type": "code",
   "execution_count": 150,
   "id": "01ec2919",
   "metadata": {
    "papermill": {
     "duration": 0.032526,
     "end_time": "2022-02-08T19:15:34.674336",
     "exception": false,
     "start_time": "2022-02-08T19:15:34.641810",
     "status": "completed"
    },
    "tags": []
   },
   "outputs": [
    {
     "data": {
      "text/html": [
       "<div>\n",
       "<style scoped>\n",
       "    .dataframe tbody tr th:only-of-type {\n",
       "        vertical-align: middle;\n",
       "    }\n",
       "\n",
       "    .dataframe tbody tr th {\n",
       "        vertical-align: top;\n",
       "    }\n",
       "\n",
       "    .dataframe thead th {\n",
       "        text-align: right;\n",
       "    }\n",
       "</style>\n",
       "<table border=\"1\" class=\"dataframe\">\n",
       "  <thead>\n",
       "    <tr style=\"text-align: right;\">\n",
       "      <th></th>\n",
       "      <th>reviewer_score</th>\n",
       "      <th>id</th>\n",
       "    </tr>\n",
       "  </thead>\n",
       "  <tbody>\n",
       "    <tr>\n",
       "      <th>0</th>\n",
       "      <td>8.907347</td>\n",
       "      <td>488440</td>\n",
       "    </tr>\n",
       "    <tr>\n",
       "      <th>1</th>\n",
       "      <td>7.580209</td>\n",
       "      <td>274649</td>\n",
       "    </tr>\n",
       "    <tr>\n",
       "      <th>2</th>\n",
       "      <td>8.512728</td>\n",
       "      <td>374688</td>\n",
       "    </tr>\n",
       "    <tr>\n",
       "      <th>3</th>\n",
       "      <td>9.636174</td>\n",
       "      <td>404352</td>\n",
       "    </tr>\n",
       "    <tr>\n",
       "      <th>4</th>\n",
       "      <td>9.688207</td>\n",
       "      <td>451596</td>\n",
       "    </tr>\n",
       "    <tr>\n",
       "      <th>5</th>\n",
       "      <td>8.366701</td>\n",
       "      <td>302161</td>\n",
       "    </tr>\n",
       "    <tr>\n",
       "      <th>6</th>\n",
       "      <td>7.982542</td>\n",
       "      <td>317079</td>\n",
       "    </tr>\n",
       "    <tr>\n",
       "      <th>7</th>\n",
       "      <td>7.881441</td>\n",
       "      <td>13963</td>\n",
       "    </tr>\n",
       "    <tr>\n",
       "      <th>8</th>\n",
       "      <td>9.087155</td>\n",
       "      <td>159785</td>\n",
       "    </tr>\n",
       "    <tr>\n",
       "      <th>9</th>\n",
       "      <td>7.390773</td>\n",
       "      <td>195089</td>\n",
       "    </tr>\n",
       "  </tbody>\n",
       "</table>\n",
       "</div>"
      ],
      "text/plain": [
       "   reviewer_score      id\n",
       "0        8.907347  488440\n",
       "1        7.580209  274649\n",
       "2        8.512728  374688\n",
       "3        9.636174  404352\n",
       "4        9.688207  451596\n",
       "5        8.366701  302161\n",
       "6        7.982542  317079\n",
       "7        7.881441   13963\n",
       "8        9.087155  159785\n",
       "9        7.390773  195089"
      ]
     },
     "execution_count": 150,
     "metadata": {},
     "output_type": "execute_result"
    }
   ],
   "source": [
    "predict_submission_XGBR = my_model_2.predict(test_data)\n",
    "sample_submission['reviewer_score'] = predict_submission_XGBR\n",
    "sample_submission.to_csv('submission_02.csv', index=False)\n",
    "sample_submission.head(10)\n"
   ]
  }
 ],
 "metadata": {
  "kernelspec": {
   "display_name": "Python 3",
   "language": "python",
   "name": "python3"
  },
  "language_info": {
   "codemirror_mode": {
    "name": "ipython",
    "version": 3
   },
   "file_extension": ".py",
   "mimetype": "text/x-python",
   "name": "python",
   "nbconvert_exporter": "python",
   "pygments_lexer": "ipython3",
   "version": "3.10.11"
  },
  "papermill": {
   "default_parameters": {},
   "duration": 82.712304,
   "end_time": "2022-02-08T19:15:35.720354",
   "environment_variables": {},
   "exception": null,
   "input_path": "__notebook__.ipynb",
   "output_path": "__notebook__.ipynb",
   "parameters": {},
   "start_time": "2022-02-08T19:14:13.008050",
   "version": "2.3.3"
  }
 },
 "nbformat": 4,
 "nbformat_minor": 5
}
